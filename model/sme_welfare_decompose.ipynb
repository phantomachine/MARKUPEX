{
 "cells": [
  {
   "cell_type": "markdown",
   "metadata": {},
   "source": [
    "## SME: BJ goods and competitive banks \n",
    "Given policy $\\tau$, we get real money balance $(z)$ and market interest rate $(i=i_{l}=i_{d})$ by solving\n",
    "\n",
    "\\begin{equation}\n",
    "\\begin{split}\n",
    "z^{\\star} \\leftarrow  \\frac{1+\\tau -\\beta}{\\beta} &= R(z,i)\n",
    "\\\\\n",
    "i_{l}=i_{d}=i^{\\star} \\leftarrow (1-n) \\cdot z + n \\cdot \\int^{\\overline{\\rho}}_{\\hat{\\rho}} [\\alpha_{1}+2\\alpha_{2}(1-J(\\rho))] \\delta(i,\\rho,z)\\text{d}J(\\rho)&= n \\cdot \\int^{\\tilde{\\rho}}_{\\underline{\\rho}} [\\alpha_{1}+2\\alpha_{2}(1-J(\\rho))] \\xi(i,\\rho,z) \\text{d}J(\\rho)\n",
    "\\end{split}\n",
    "\\label{eq:k-phi-high-type-case1}\n",
    "\\end{equation}\n",
    "\n",
    "where\n",
    "\\begin{equation*}\n",
    "\\begin{split}\n",
    "R(z,i) &:=  \\color{blue}{(1-n)} \\cdot i + \\color{blue}{n}\\bigg[\\int^{\\tilde{\\rho}}_{\\underline{\\rho}} i [\\alpha_{1}+2\\alpha_{2}(1-J(\\rho))] \\text{d}J(\\rho)\n",
    "\\\\\n",
    "&+ \\int^{\\hat{\\rho}}_{\\tilde{\\rho}} [\\alpha_{1}+2\\alpha_{2}(1-J(\\rho))] \\bigg[\\frac{1}{\\rho}\\bigg(\\frac{z}{\\rho}\\bigg)^{-\\sigma} -1 \\bigg] \\text{d}J(\\rho)\n",
    "\\\\\n",
    "&+ \\int^{\\overline{\\rho}}_{\\hat{\\rho}} [\\alpha_{1}+2\\alpha_{2}(1-J(\\rho))] \\cdot i \\text{d}J(\\rho)\\bigg]\n",
    "\\end{split}\n",
    "\\end{equation*}"
   ]
  },
  {
   "cell_type": "markdown",
   "metadata": {},
   "source": [
    "## SME Welfare Decomposition\n",
    "- This Jupyter notebook presents the results of welfare decomposition by buyer type in the SME.\n",
    "- The results correspond to Figure 3: The Effects of Inflation on Equilibrium Outcomes."
   ]
  },
  {
   "cell_type": "markdown",
   "metadata": {},
   "source": [
    "### Calibrated parameters\n",
    "* $(\\sigma_{DM}, \\bar{U}_{CM}) = (0.32, 1.8)$\n",
    "* $\\alpha_{1} = 0.0475$\n",
    "* $\\alpha_{2} = 1-\\alpha_{1}$        "
   ]
  },
  {
   "cell_type": "code",
   "execution_count": 1,
   "metadata": {},
   "outputs": [],
   "source": [
    "import bcw_bj as main\n",
    "import hlmw as hlmw\n",
    "import numpy as np\n",
    "import matplotlib.pyplot as plt\n",
    "import time"
   ]
  },
  {
   "cell_type": "code",
   "execution_count": 2,
   "metadata": {},
   "outputs": [],
   "source": [
    "plt.rcParams['text.usetex'] = False\n",
    "plt.rcParams['font.family'] = 'serif'"
   ]
  },
  {
   "cell_type": "code",
   "execution_count": 3,
   "metadata": {},
   "outputs": [],
   "source": [
    "σ_DM=0.3200\n",
    "Ubar_CM=1.8000\n",
    "n=0.65\n",
    "α_1=0.0475\n",
    "β=0.981\n",
    "τ_min=β-1\n",
    "τ_max = 0.05\n",
    "τgrid_size = 60"
   ]
  },
  {
   "cell_type": "code",
   "execution_count": 4,
   "metadata": {},
   "outputs": [],
   "source": [
    "model = main.baseline_mod(β=β,σ_DM=σ_DM, Ubar_CM=Ubar_CM, n=n,τ_max = τ_max,α_1=α_1,τgrid_size = τgrid_size,τ_min=τ_min)\n",
    "\n",
    "model_hlmw =hlmw.hlmw_mod(β=β,σ_DM=σ_DM, Ubar_CM=Ubar_CM, n=n,τ_max = τ_max,α_1=α_1,τgrid_size = τgrid_size,τ_min=τ_min)"
   ]
  },
  {
   "cell_type": "markdown",
   "metadata": {},
   "source": [
    "### Allocation \n",
    "\n",
    "$$\n",
    "        q_{b}\\left(\\rho, i, z \\right)\n",
    "        =\n",
    "        \\begin{cases}\n",
    "          \\left[\\rho \\left(1+i\\right)\\right]^{-1/\\sigma}\n",
    "          &\n",
    "          \\text{if } 0< \\rho \\leq \\tilde{\\rho}_{i}\n",
    "          \\\\\n",
    "          \\frac{z}{\\rho}\n",
    "          &\n",
    "          \\text{if }\\tilde{\\rho}_{i} < \\rho < \\hat{\\rho}\n",
    "          \\\\\n",
    "          \\rho^{-1/\\sigma}\n",
    "          &\n",
    "          \\text{if } \\rho \\geq \\hat{\\rho}\n",
    "        \\end{cases}.\n",
    "        %\\label{eq:Demand q-ss}\n",
    " $$\n",
    "\n",
    "#### Credit + own money: $\\rho \\in [\\underline{\\rho}(z), \\tilde{\\rho}_{i}(z)]$\n",
    "\n",
    "\\begin{equation}\n",
    "q_{0} = \\int^{\\tilde{\\rho}_{i}(z)}_{\\underline{\\rho}(z)} [\\alpha_{1}+2\\alpha_{2}(1-J_{i}(\\rho,z)][\\rho(1+i)]^{-\\frac{1}{\\sigma}}\\text{d}J_{i}(\\rho,z)\n",
    "\\end{equation}\n",
    "\n",
    "#### Own money constrained: $\\rho \\in (\\tilde{\\rho}_{i}(z), \\hat{\\rho}(z))$\n",
    "\n",
    "\\begin{equation}\n",
    "q_{1} = \\int^{\\hat{\\rho}(z)}_{\\tilde{\\rho}_{i}(z)} [\\alpha_{1}+2\\alpha_{2}(1-J_{i}(\\rho,z)]\\bigg(\\frac{z}{\\rho}\\bigg)\\text{d}J_{i}(\\rho,z)\n",
    "\\end{equation}\n",
    "\n",
    "#### Own money unconstrained: $\\rho \\in [\\hat{\\rho}(z), \\overline{\\rho}(z)]$\n",
    "\n",
    "\\begin{equation}\n",
    "q_{2} = \\int^{\\overline{\\rho}(z)}_{\\hat{\\rho}(z)} [\\alpha_{1}+2\\alpha_{2}(1-J_{i}(\\rho,z)]\\rho^{-\\frac{1}{\\sigma}}\\text{d}J_{i}(\\rho,z)\n",
    "\\end{equation}\n",
    "\n",
    "Likewise, for HLMW."
   ]
  },
  {
   "cell_type": "code",
   "execution_count": 5,
   "metadata": {},
   "outputs": [],
   "source": [
    "def Total_q_func_credit(z, i, τ):\n",
    "    \"\"\"KLLN allocation: credit buyers\"\"\"\n",
    "    ρ_grid = model.support_grid_func(z, i, τ)\n",
    "    \n",
    "    ρ_tilde = model.ρ_tilde_func(z, i)\n",
    "    \n",
    "    ρ_tilde_index = np.argmax(ρ_grid >= ρ_tilde)\n",
    "\n",
    "    ρ_grid_credit = ρ_grid[:ρ_tilde_index]\n",
    "    \n",
    "    pdf_grid = model.dF_normalization_func(z, i, τ)\n",
    "        \n",
    "    em_func = model.α_1 + 2.0*model.α_2*( 1.0 - model.F_func(i, z, τ) ) \n",
    "\n",
    "    em = em_func[:ρ_tilde_index]\n",
    "        \n",
    "    q_expost = np.array( [model.q_demand_func(ρ, i, z) for ρ in ρ_grid_credit] )\n",
    "        \n",
    "    integrand_values = em * q_expost * pdf_grid[:ρ_tilde_index]\n",
    "        \n",
    "    total_q_credit = model.n*np.trapz(integrand_values, ρ_grid_credit)\n",
    "        \n",
    "    return total_q_credit"
   ]
  },
  {
   "cell_type": "code",
   "execution_count": 6,
   "metadata": {},
   "outputs": [],
   "source": [
    "def Total_q_func_money_c(z, i, τ):\n",
    "    \"\"\"KLLN allocation: money constrained buyers\"\"\"\n",
    "    ρ_grid = model.support_grid_func(z, i, τ)\n",
    "    \n",
    "    ρ_tilde = model.ρ_tilde_func(z, i)\n",
    "    \n",
    "    ρ_hat = model.ρ_hat_func(z)\n",
    "\n",
    "    ρ_tilde = model.ρ_tilde_func(z, i)\n",
    "    \n",
    "    ρ_tilde_index = np.argmax(ρ_grid > ρ_tilde)\n",
    "\n",
    "    ρ_hat_index = np.argmax(ρ_grid >= ρ_hat)\n",
    "    \n",
    "    ρ_grid_money = ρ_grid[ρ_tilde_index:ρ_hat_index]\n",
    "    \n",
    "    pdf_grid_full = model.dF_normalization_func(z, i, τ)\n",
    "    \n",
    "    pdf_grid = pdf_grid_full[ρ_tilde_index:ρ_hat_index]\n",
    "        \n",
    "    em_func =model.α_1 + 2.0*model.α_2*( 1.0 - model.F_func(i, z, τ) )\n",
    "    \n",
    "    em = em_func[ρ_tilde_index:ρ_hat_index]\n",
    "        \n",
    "    q_expost = np.array([model.q_demand_func(ρ, i, z) for ρ in ρ_grid_money])\n",
    "    \n",
    "    integrand_values = em * q_expost * pdf_grid\n",
    "\n",
    "    total_q_money_c = model.n*np.trapz(integrand_values, ρ_grid_money)\n",
    "        \n",
    "    return total_q_money_c\n"
   ]
  },
  {
   "cell_type": "code",
   "execution_count": 7,
   "metadata": {},
   "outputs": [],
   "source": [
    "def Total_q_func_money_uc(z, i, τ):\n",
    "    \"\"\"KLLN allocation: money unconstrained buyers\"\"\"\n",
    "    ρ_grid = model.support_grid_func(z, i, τ)\n",
    "\n",
    "    ρ_hat = model.ρ_hat_func(z)\n",
    "\n",
    "    ρ_hat_index = np.argmax(ρ_grid >= ρ_hat)\n",
    "    \n",
    "    ρ_grid_money_uc = ρ_grid[ρ_hat_index:]\n",
    "    \n",
    "    pdf_grid_full = model.dF_normalization_func(z, i, τ)\n",
    "    \n",
    "    pdf_grid = pdf_grid_full[ρ_hat_index:]\n",
    "        \n",
    "    em_func = model.α_1 + 2.0*model.α_2*( 1.0 - model.F_func(i, z, τ) )\n",
    "    \n",
    "    em = em_func[ρ_hat_index:]\n",
    "        \n",
    "    q_expost = np.array([model.q_demand_func(ρ, i, z) for ρ in ρ_grid_money_uc])\n",
    "    \n",
    "    integrand_values = em * q_expost * pdf_grid\n",
    "\n",
    "    total_q_money_uc = model.n*np.trapz(integrand_values, ρ_grid_money_uc)\n",
    "        \n",
    "    return total_q_money_uc\n"
   ]
  },
  {
   "cell_type": "markdown",
   "metadata": {},
   "source": [
    "### DM net trading surplus\n",
    "\n",
    "#### Credit + own money:  $\\rho \\in [\\underline{\\rho}(z), \\tilde{\\rho}_{i}(z)]$\n",
    "\n",
    "\\begin{equation}\n",
    "\\int^{\\tilde{\\rho}_{i}(z)}_{\\underline{\\rho}(z)} [\\alpha_{1}+2\\alpha_{2}(1-J_{i}(\\rho,z)]u[q_{b}(\\rho,i,z)] - c[q_{b}(\\rho,i,z)]\\text{d}J_{i}(\\rho,z)\n",
    "\\end{equation}\n",
    "\n",
    "#### Own money constrained: $\\rho \\in (\\tilde{\\rho}_{i}(z), \\hat{\\rho}(z))$\n",
    "$$\n",
    " \\int^{\\hat{\\rho}(z)}_{\\tilde{\\rho}_{i}(z)} [\\alpha_{1}+2\\alpha_{2}(1-J_{i}(\\rho,z)]u[q_{b}(\\rho,i,z)] - c[q_{b}(\\rho,i,z)]\\text{d}J_{i}(\\rho,z)\n",
    "$$\n",
    "\n",
    "#### Own money unconstrained: $\\rho \\in [\\hat{\\rho}(z), \\overline{\\rho}(z)]$\n",
    "$$\n",
    " \\int^{\\overline{\\rho}(z)}_{\\hat{\\rho}(z)} [\\alpha_{1}+2\\alpha_{2}(1-J_{i}(\\rho,z)]u[q_{b}(\\rho, i, z)] - c[q_{b}(\\rho, i, z)]\\text{d}J_{i}(\\rho,z),\n",
    "$$\n",
    "\n",
    "where\n",
    "$$\n",
    "        q_{b}\\left(\\rho, i, z \\right)\n",
    "        =\n",
    "        \\begin{cases}\n",
    "          \\left[\\rho \\left(1+i\\right)\\right]^{-1/\\sigma}\n",
    "          &\n",
    "          \\text{if } 0< \\rho \\leq \\tilde{\\rho}_{i}\n",
    "          \\\\\n",
    "          \\frac{z}{\\rho}\n",
    "          &\n",
    "          \\text{if }\\tilde{\\rho}_{i} < \\rho < \\hat{\\rho}\n",
    "          \\\\\n",
    "          \\rho^{-1/\\sigma}\n",
    "          &\n",
    "          \\text{if } \\rho \\geq \\hat{\\rho}\n",
    "        \\end{cases}.\n",
    "        %\\label{eq:Demand q-ss}\n",
    " $$\n",
    " \n",
    " Likewise, for HLMW"
   ]
  },
  {
   "cell_type": "code",
   "execution_count": 8,
   "metadata": {},
   "outputs": [],
   "source": [
    "def surplus_credit_func(z, i, τ):\n",
    "    \"\"\"KLLN DM trading surplus: credit buyers\"\"\"\n",
    "    ρ_grid = model.support_grid_func(z, i, τ)\n",
    "    \n",
    "    ρ_tilde = model.ρ_tilde_func(z, i)\n",
    "\n",
    "    ρ_tilde_index = np.argmax(ρ_grid >= ρ_tilde)\n",
    "    \n",
    "    ρ_grid_credit = ρ_grid[:ρ_tilde_index]\n",
    "    \n",
    "    pdf_grid = model.dF_normalization_func(z, i, τ)\n",
    "        \n",
    "    em_func = model.α_1 + 2.0*model.α_2*( 1.0 - model.F_func(i, z, τ) ) \n",
    "            \n",
    "    em = em_func[:ρ_tilde_index]\n",
    "        \n",
    "    net_q_expost = np.array( [model.u_DM(model.q_demand_func(ρ, i, z)) -\\\n",
    "                          model.cost_DM(model.q_demand_func(ρ, i, z)) for ρ in ρ_grid_credit] )\n",
    "        \n",
    "    integrand_values = em * net_q_expost * pdf_grid[:ρ_tilde_index]\n",
    "        \n",
    "    surplus = model.n*np.trapz(integrand_values, ρ_grid_credit)\n",
    "        \n",
    "    return surplus"
   ]
  },
  {
   "cell_type": "code",
   "execution_count": 9,
   "metadata": {},
   "outputs": [],
   "source": [
    "def surplus_money_c_func(z, i, τ):\n",
    "    \"\"\"KLLN DM trading surplus: money constrained buyers\"\"\"\n",
    "    ρ_grid = model.support_grid_func(z, i, τ)\n",
    "    \n",
    "    ρ_tilde = model.ρ_tilde_func(z, i)\n",
    "    ρ_hat = model.ρ_hat_func(z)\n",
    "\n",
    "    ρ_tilde_index = np.argmax(ρ_grid > ρ_tilde)\n",
    "\n",
    "    ρ_hat_index = np.argmax(ρ_grid >= ρ_hat)\n",
    "    \n",
    "    ρ_grid_money = ρ_grid[ρ_tilde_index:ρ_hat_index]\n",
    "    \n",
    "    pdf_grid_full = model.dF_normalization_func(z, i, τ)\n",
    "    \n",
    "    pdf_grid = pdf_grid_full[ρ_tilde_index:ρ_hat_index]\n",
    "        \n",
    "    em_func = model.α_1 + 2.0*model.α_2*( 1.0 - model.F_func(i, z, τ) )\n",
    "    \n",
    "    em = em_func[ρ_tilde_index:ρ_hat_index]\n",
    "        \n",
    "    net_q_expost = np.array( [model.u_DM(model.q_demand_func(ρ, i, z)) -\\\n",
    "                          model.cost_DM(model.q_demand_func(ρ, i, z)) for ρ in ρ_grid_money] )\n",
    "    \n",
    "    integrand_values = em * net_q_expost * pdf_grid\n",
    "\n",
    "    surplus_money_c = model.n*np.trapz(integrand_values, ρ_grid_money)\n",
    "        \n",
    "    return surplus_money_c\n"
   ]
  },
  {
   "cell_type": "code",
   "execution_count": 10,
   "metadata": {},
   "outputs": [],
   "source": [
    "def surplus_money_uc_func(z, i, τ):\n",
    "    \"\"\"KLLN DM trading surplus: money unconstrained buyers\"\"\"\n",
    "    ρ_grid = model.support_grid_func(z, i, τ)\n",
    "\n",
    "    ρ_hat = model.ρ_hat_func(z)\n",
    "\n",
    "    ρ_hat_index = np.argmax(ρ_grid >= ρ_hat)\n",
    "    \n",
    "    ρ_grid_money_uc = ρ_grid[ρ_hat_index:]\n",
    "    \n",
    "    pdf_grid_full = model.dF_normalization_func(z, i, τ)\n",
    "    \n",
    "    pdf_grid = pdf_grid_full[ρ_hat_index:]\n",
    "        \n",
    "    em_func = α_1 + 2.0*model.α_2*( 1.0 - model.F_func(i, z, τ) )\n",
    "    \n",
    "    em = em_func[ρ_hat_index:]\n",
    "        \n",
    "    net_q_expost = np.array( [model.u_DM(model.q_demand_func(ρ, i, z)) -\\\n",
    "                          model.cost_DM(model.q_demand_func(ρ, i, z)) for ρ in ρ_grid_money_uc] )\n",
    "    \n",
    "    integrand_values = em * net_q_expost * pdf_grid\n",
    "\n",
    "    surplus_money_uc = model.n*np.trapz(integrand_values, ρ_grid_money_uc)\n",
    "        \n",
    "    return surplus_money_uc\n"
   ]
  },
  {
   "cell_type": "markdown",
   "metadata": {},
   "source": [
    "### HLMW: allocation"
   ]
  },
  {
   "cell_type": "code",
   "execution_count": 11,
   "metadata": {},
   "outputs": [],
   "source": [
    "def Total_q_c_func_hlmw(z, τ):\n",
    "    \"\"\"HLMW allcoation: money constrained buyers\"\"\"\n",
    "    ρ_grid = model_hlmw.support_grid_func(z, τ)\n",
    "    \n",
    "    ρ_hat = model_hlmw.ρ_hat_func(z)    \n",
    "\n",
    "    ρ_hat_index = np.argmax(ρ_grid >= ρ_hat)\n",
    "    \n",
    "    ρ_grid_money = ρ_grid[:ρ_hat_index]\n",
    "    \n",
    "    pdf_grid_full = model_hlmw.dF_normalization_func(z, τ)\n",
    "    \n",
    "    pdf_grid = pdf_grid_full[:ρ_hat_index]\n",
    "\n",
    "    em_func = model_hlmw.α_1 + 2.0*model_hlmw.α_2*( 1.0 - model_hlmw.F_func(z,τ) ) \n",
    "            \n",
    "    em = em_func[:ρ_hat_index]\n",
    "        \n",
    "    q_expost = np.array( [model_hlmw.q_demand_func(ρ, z) for ρ in ρ_grid_money] )\n",
    "        \n",
    "    integrand_values = em * q_expost * pdf_grid\n",
    "        \n",
    "    total_q_c = model_hlmw.n*np.trapz(integrand_values, ρ_grid_money)\n",
    "        \n",
    "    return total_q_c"
   ]
  },
  {
   "cell_type": "code",
   "execution_count": 12,
   "metadata": {},
   "outputs": [],
   "source": [
    "def Total_q_uc_func_hlmw(z, τ):\n",
    "    \"\"\"HLMW allcoation: money unconstrained buyers\"\"\"\n",
    "    ρ_grid = model_hlmw.support_grid_func(z, τ)\n",
    "    \n",
    "    ρ_hat = model_hlmw.ρ_hat_func(z)    \n",
    "\n",
    "    ρ_hat_index = np.argmax(ρ_grid >= ρ_hat)\n",
    "    \n",
    "    ρ_grid_money_uc = ρ_grid[ρ_hat_index:]\n",
    "    \n",
    "    pdf_grid_full = model_hlmw.dF_normalization_func(z, τ)\n",
    "    \n",
    "    pdf_grid = pdf_grid_full[ρ_hat_index:]\n",
    "\n",
    "    em_func = model_hlmw.α_1 + 2.0*model_hlmw.α_2*( 1.0 - model_hlmw.F_func(z,τ) ) \n",
    "            \n",
    "    em = em_func[ρ_hat_index:]\n",
    "        \n",
    "    q_expost = np.array( [model_hlmw.q_demand_func(ρ, z) for ρ in ρ_grid_money_uc] )\n",
    "        \n",
    "    integrand_values = em * q_expost * pdf_grid\n",
    "        \n",
    "    total_q_uc = model_hlmw.n*np.trapz(integrand_values, ρ_grid_money_uc)\n",
    "        \n",
    "    return total_q_uc"
   ]
  },
  {
   "cell_type": "markdown",
   "metadata": {},
   "source": [
    "### HLMW: DM net trading surplus"
   ]
  },
  {
   "cell_type": "code",
   "execution_count": 13,
   "metadata": {},
   "outputs": [],
   "source": [
    "def surplus_money_c_func_hlmw(z, τ):\n",
    "    \"\"\"HLMW DM surplus: money constrained buyers\"\"\"\n",
    "    ρ_grid = model_hlmw.support_grid_func(z, τ)\n",
    "    \n",
    "    ρ_hat = model_hlmw.ρ_hat_func(z)\n",
    "    \n",
    "    ρ_hat_index = np.argmax(ρ_grid >= ρ_hat)\n",
    "    \n",
    "    ρ_grid_money = ρ_grid[:ρ_hat_index]\n",
    "    \n",
    "    pdf_grid_full = model_hlmw.dF_normalization_func(z, τ)\n",
    "    \n",
    "    pdf_grid = pdf_grid_full[:ρ_hat_index]\n",
    "\n",
    "    em_func = model_hlmw.α_1 + 2.0*model_hlmw.α_2*( 1.0 - model_hlmw.F_func(z,τ) ) \n",
    "            \n",
    "    em = em_func[:ρ_hat_index]\n",
    "        \n",
    "    net_q_expost = np.array( [model_hlmw.u_DM(model_hlmw.q_demand_func(ρ, z)) -\\\n",
    "                          model_hlmw.cost_DM(model_hlmw.q_demand_func(ρ, z)) for ρ in ρ_grid_money] )\n",
    "        \n",
    "    integrand_values = em * net_q_expost * pdf_grid\n",
    "        \n",
    "    surplus_c = model_hlmw.n*np.trapz(integrand_values, ρ_grid_money)\n",
    "        \n",
    "    return surplus_c"
   ]
  },
  {
   "cell_type": "code",
   "execution_count": 14,
   "metadata": {},
   "outputs": [],
   "source": [
    "def surplus_money_uc_func_hlmw(z, τ):\n",
    "    \"\"\"HLMW DM surplus: money unconstrained buyers\"\"\"\n",
    "    ρ_grid = model_hlmw.support_grid_func(z, τ)\n",
    "    \n",
    "    ρ_hat = model_hlmw.ρ_hat_func(z)    \n",
    "\n",
    "    ρ_hat_index = np.argmax(ρ_grid >= ρ_hat)\n",
    "    \n",
    "    ρ_grid_money_uc = ρ_grid[ρ_hat_index:]\n",
    "    \n",
    "    pdf_grid_full = model_hlmw.dF_normalization_func(z, τ)\n",
    "    \n",
    "    pdf_grid = pdf_grid_full[ρ_hat_index:]\n",
    "\n",
    "    em_func = model_hlmw.α_1 + 2.0*model_hlmw.α_2*( 1.0 - model_hlmw.F_func(z,τ) ) \n",
    "            \n",
    "    em = em_func[ρ_hat_index:]\n",
    "        \n",
    "    net_q_expost = np.array( [model_hlmw.u_DM(model_hlmw.q_demand_func(ρ, z)) -\\\n",
    "                          model_hlmw.cost_DM(model_hlmw.q_demand_func(ρ, z)) for ρ in ρ_grid_money_uc] )\n",
    "        \n",
    "    integrand_values = em * net_q_expost * pdf_grid\n",
    "        \n",
    "    surplus_uc = model_hlmw.n*np.trapz(integrand_values, ρ_grid_money_uc)\n",
    "        \n",
    "    return surplus_uc"
   ]
  },
  {
   "cell_type": "markdown",
   "metadata": {},
   "source": [
    "### Experiment: solve SME for $\\tau \\in [\\beta-1, 0.05]$"
   ]
  },
  {
   "cell_type": "markdown",
   "metadata": {},
   "source": [
    "#### Baseline"
   ]
  },
  {
   "cell_type": "code",
   "execution_count": 15,
   "metadata": {},
   "outputs": [
    {
     "name": "stdout",
     "output_type": "stream",
     "text": [
      "Elapsed time of solving SME: 88.30042791366577 seconds\n"
     ]
    }
   ],
   "source": [
    "# Baseline\n",
    "result = model.SME_stat(0.4, 1e-3) #guess for z and i"
   ]
  },
  {
   "cell_type": "code",
   "execution_count": 16,
   "metadata": {},
   "outputs": [],
   "source": [
    "z_grid=result['allocation_grid']['zstar']\n",
    "model.τ_grid=result['allocation_grid']['istar']"
   ]
  },
  {
   "cell_type": "code",
   "execution_count": 17,
   "metadata": {},
   "outputs": [],
   "source": [
    "# credit + money allocation\n",
    "q_credit = [Total_q_func_credit(z,i,τ) for (z,i,τ) in zip(z_grid, model.τ_grid, model.τ_grid)]"
   ]
  },
  {
   "cell_type": "code",
   "execution_count": 18,
   "metadata": {},
   "outputs": [],
   "source": [
    "# own money constrained allocation\n",
    "q_money_c  = [Total_q_func_money_c(z,i,τ) for (z,i,τ) in zip(z_grid,model.τ_grid, model.τ_grid)]"
   ]
  },
  {
   "cell_type": "code",
   "execution_count": 19,
   "metadata": {},
   "outputs": [],
   "source": [
    "# own money unconstrained allocation\n",
    "q_money_uc  = [Total_q_func_money_uc(z,i,τ) for (z,i,τ) in zip(z_grid,model.τ_grid, model.τ_grid)]"
   ]
  },
  {
   "cell_type": "markdown",
   "metadata": {},
   "source": [
    "#### HLMW"
   ]
  },
  {
   "cell_type": "code",
   "execution_count": 20,
   "metadata": {},
   "outputs": [
    {
     "name": "stdout",
     "output_type": "stream",
     "text": [
      "Elapsed time of solving SME: 60.71956491470337 seconds\n"
     ]
    }
   ],
   "source": [
    "# HLWM\n",
    "result_hlmw = model_hlmw.SME_stat()"
   ]
  },
  {
   "cell_type": "code",
   "execution_count": 21,
   "metadata": {},
   "outputs": [],
   "source": [
    "z_grid_hlmw=result_hlmw['allocation_grid']['zstar']"
   ]
  },
  {
   "cell_type": "code",
   "execution_count": 22,
   "metadata": {},
   "outputs": [],
   "source": [
    "# HLMW: own money constrained allocation\n",
    "q_money_c_hlmw = [Total_q_c_func_hlmw(z,τ) for (z,τ) in zip(z_grid_hlmw, model.τ_grid)]                  "
   ]
  },
  {
   "cell_type": "code",
   "execution_count": 23,
   "metadata": {},
   "outputs": [],
   "source": [
    "# HLMW: own money unconstrained allocation\n",
    "q_money_uc_hlmw = [Total_q_uc_func_hlmw(z,τ) for (z,τ) in zip(z_grid_hlmw, model.τ_grid)]                  "
   ]
  },
  {
   "cell_type": "markdown",
   "metadata": {},
   "source": [
    "#### DM net trading surplus (baseline)"
   ]
  },
  {
   "cell_type": "code",
   "execution_count": 24,
   "metadata": {},
   "outputs": [],
   "source": [
    "# credit + money\n",
    "surplus_credit = [surplus_credit_func(z,i,τ) for (z,i,τ) in zip(z_grid,model.τ_grid, model.τ_grid)]   "
   ]
  },
  {
   "cell_type": "code",
   "execution_count": 25,
   "metadata": {},
   "outputs": [],
   "source": [
    "# own money constrained\n",
    "surplus_m_c = [surplus_money_c_func(z,i,τ) for (z,i,τ) in zip(z_grid,model.τ_grid, model.τ_grid)]           "
   ]
  },
  {
   "cell_type": "code",
   "execution_count": 26,
   "metadata": {},
   "outputs": [],
   "source": [
    "# own money unconstrained\n",
    "surplus_m_uc = [surplus_money_uc_func(z,i,τ) for (z,i,τ) in zip(z_grid,model.τ_grid, model.τ_grid)]                "
   ]
  },
  {
   "cell_type": "code",
   "execution_count": 27,
   "metadata": {},
   "outputs": [],
   "source": [
    "total = np.array([model.DM_utility(z,i,τ) for (z,i,τ) in zip(z_grid, model.τ_grid, model.τ_grid)])"
   ]
  },
  {
   "cell_type": "markdown",
   "metadata": {},
   "source": [
    "#### DM net trading surplus (HLMW)"
   ]
  },
  {
   "cell_type": "code",
   "execution_count": 28,
   "metadata": {},
   "outputs": [],
   "source": [
    "# own money constrained\n",
    "surplus_c_hlmw = [surplus_money_c_func_hlmw(z,τ) for (z,τ) in zip(z_grid_hlmw, model.τ_grid)]"
   ]
  },
  {
   "cell_type": "code",
   "execution_count": 29,
   "metadata": {},
   "outputs": [],
   "source": [
    "# own money unconstrained\n",
    "surplus_uc_hlmw = [surplus_money_uc_func_hlmw(z,τ) for (z,τ) in zip(z_grid_hlmw, model.τ_grid)]"
   ]
  },
  {
   "cell_type": "code",
   "execution_count": 30,
   "metadata": {},
   "outputs": [],
   "source": [
    "total_hlmw = np.array([model_hlmw.DM_utility(z,τ) for (z,τ) in zip(z_grid_hlmw,  model.τ_grid)])"
   ]
  },
  {
   "cell_type": "code",
   "execution_count": 31,
   "metadata": {},
   "outputs": [],
   "source": [
    "# String label for x-axes (below)plt.xlabel(\"Inflation rates (%)\")\n",
    "x_string = r\"Inflation rate $\\gamma$ ($\\%$)\""
   ]
  },
  {
   "cell_type": "markdown",
   "metadata": {},
   "source": [
    "### Figure 3: The effects of inflation on Equilibrium Outcome, (d) Total trading surpluses:"
   ]
  },
  {
   "cell_type": "code",
   "execution_count": 44,
   "metadata": {},
   "outputs": [
    {
     "data": {
      "image/png": "[encoded data removed]",
      "text/plain": [
       "<Figure size 432x288 with 1 Axes>"
      ]
     },
     "metadata": {
      "needs_background": "light"
     },
     "output_type": "display_data"
    }
   ],
   "source": [
    "### ZOOM-IN\n",
    "\n",
    "τ_cut = 60\n",
    "\n",
    "plt.plot(model_hlmw.τ_grid[0:τ_cut]*100, \n",
    "         100.0*(total[0:τ_cut] - total_hlmw[0:τ_cut])/total_hlmw[0:τ_cut],       label='Baseline vs. HLMW',color='black', linestyle='--',linewidth=0.9)\n",
    "plt.plot(model_hlmw.τ_grid[0:τ_cut]*100, np.zeros(total[0:τ_cut].size), color=\"gray\")\n",
    "plt.ylabel(\"Percentage difference: net DM trading surplus\")\n",
    "plt.fill_between(model_hlmw.τ_grid[0:τ_cut]*100, 100.0*(total[0:τ_cut] - total_hlmw[0:τ_cut])/total_hlmw[0:τ_cut],where=(100.0*(total[0:τ_cut] - total_hlmw[0:τ_cut])/total_hlmw[0:τ_cut] <= 0), color='peachpuff', alpha=0.5, interpolate=True)\n",
    "plt.fill_between(model_hlmw.τ_grid[0:τ_cut]*100, 100.0*(total[0:τ_cut] - total_hlmw[0:τ_cut])/total_hlmw[0:τ_cut],where=(100.0*(total[0:τ_cut] - total_hlmw[0:τ_cut])/total_hlmw[0:τ_cut] >= 0), color='#B0E0E6', alpha=0.5, interpolate=True)\n",
    "plt.ylim(-0.1,1.3)\n",
    "plt.text(-1.5, 0.03, 'Negative(-)',size=10,color='red')\n",
    "plt.text(3, 0.2, 'Positive(+)',size=10,color='blue')\n",
    "plt.xlabel(x_string)\n",
    "plt.legend()\n",
    "plt.savefig(\"Money (non-credit) constrained buyers.png\", bbox_inches='tight', pad_inches=0.05)\n",
    "plt.show()\n"
   ]
  },
  {
   "cell_type": "markdown",
   "metadata": {},
   "source": [
    "### Decompose: different payment types of buyers\n",
    "\n",
    "#### Plot the (level) DM net trading surplus (baseline vs. HLMW): for credit-buyers\n",
    "* Credit buyers: use both own money and loans \n",
    "* In HLMW, no credit buyers"
   ]
  },
  {
   "cell_type": "markdown",
   "metadata": {},
   "source": [
    "### Figure 3: The effects of inflation on Equilibrium Outcome, (a) Credit buyers:"
   ]
  },
  {
   "cell_type": "code",
   "execution_count": 45,
   "metadata": {},
   "outputs": [
    {
     "data": {
      "image/png": "[encoded data removed]",
      "text/plain": [
       "<Figure size 432x288 with 1 Axes>"
      ]
     },
     "metadata": {
      "needs_background": "light"
     },
     "output_type": "display_data"
    }
   ],
   "source": [
    "plt.plot(model_hlmw.τ_grid*100, np.array(surplus_credit), \n",
    "            '--', \n",
    "            label='Credit buyers-(Zero) credit buyers',color=\"blue\")\n",
    "plt.ylabel(\"Net DM trading surpluses\")\n",
    "plt.xlabel(x_string)\n",
    "#plt.xlim(-0.5,8)\n",
    "plt.legend()\n",
    "plt.savefig(\"surplus-credit-buyers.png\", bbox_inches='tight', pad_inches=0.05)\n",
    "plt.show()"
   ]
  },
  {
   "cell_type": "markdown",
   "metadata": {},
   "source": [
    "#### Plot the (level) DM net trading surplus (baseline vs. HLMW): constrained money-buyers\n",
    "* Only money constrained buyers (baseline)\n",
    "* Only money constrained buyers (HLMW)"
   ]
  },
  {
   "cell_type": "markdown",
   "metadata": {},
   "source": [
    "### Figure 3: The effects of inflation on Equilibrium Outcome, (b) Money (non-credit) constrained buyers:"
   ]
  },
  {
   "cell_type": "code",
   "execution_count": 46,
   "metadata": {},
   "outputs": [
    {
     "data": {
      "image/png": "[encoded data removed]",
      "text/plain": [
       "<Figure size 432x288 with 1 Axes>"
      ]
     },
     "metadata": {
      "needs_background": "light"
     },
     "output_type": "display_data"
    }
   ],
   "source": [
    "plt.plot(model_hlmw.τ_grid*100, np.array(surplus_m_c)-np.array(surplus_c_hlmw),\n",
    "         '--', \n",
    "         label='Money constrained buyers(Baseline-HLMW)',color=\"red\")\n",
    "plt.ylabel(\"Net DM trading surpluses\")\n",
    "plt.xlabel(x_string)\n",
    "plt.legend()\n",
    "#plt.xlim(-0.5,8)\n",
    "plt.savefig(\"surplus-money-constrained-buyers.png\", bbox_inches='tight', pad_inches=0.05)\n",
    "plt.show()"
   ]
  },
  {
   "cell_type": "markdown",
   "metadata": {},
   "source": [
    "#### Plot the (level) DM net trading surplus (baseline vs. HLMW): unconstrained money-buyers\n",
    "* Own money unconstrained buyers (baseline)\n",
    "* Own money unconstrained buyers (HLMW)"
   ]
  },
  {
   "cell_type": "markdown",
   "metadata": {},
   "source": [
    "### Figure 4: The effects of inflation on Equilibrium Outcome, (c) Money (non-credit) unconstrained buyers"
   ]
  },
  {
   "cell_type": "code",
   "execution_count": 47,
   "metadata": {},
   "outputs": [
    {
     "data": {
      "image/png": "[encoded data removed]",
      "text/plain": [
       "<Figure size 432x288 with 1 Axes>"
      ]
     },
     "metadata": {
      "needs_background": "light"
     },
     "output_type": "display_data"
    }
   ],
   "source": [
    "plt.plot(model_hlmw.τ_grid*100, np.array(surplus_m_uc)- np.array(surplus_uc_hlmw),\n",
    "         '--', \n",
    "                                label='Unconstrained money buyers(Baseline-HLMW)',color=\"green\")\n",
    "plt.ylabel(\"Net DM trading surpluses\")\n",
    "plt.xlabel(x_string)\n",
    "plt.legend()\n",
    "#plt.xlim(-0.5,8)\n",
    "plt.savefig(\"surplus-money-unconstrained-buyers.png\", bbox_inches='tight', pad_inches=0.05)\n",
    "plt.show()"
   ]
  },
  {
   "cell_type": "code",
   "execution_count": null,
   "metadata": {},
   "outputs": [],
   "source": []
  }
 ],
 "metadata": {
  "kernelspec": {
   "display_name": "Python 3 (ipykernel)",
   "language": "python",
   "name": "python3"
  },
  "language_info": {
   "codemirror_mode": {
    "name": "ipython",
    "version": 3
   },
   "file_extension": ".py",
   "mimetype": "text/x-python",
   "name": "python",
   "nbconvert_exporter": "python",
   "pygments_lexer": "ipython3",
   "version": "3.9.12"
  }
 },
 "nbformat": 4,
 "nbformat_minor": 4
}
