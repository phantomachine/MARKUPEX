{
 "cells": [
  {
   "cell_type": "markdown",
   "metadata": {},
   "source": [
    "## Robustness test for our baseline model\n",
    "\n",
    "- This Jupyter notebook reports the results of robustness checks conducted on the baseline model of our framework.\n",
    "\n",
    "- In this Jupyter notebook, we examined whether pecuniary externality arises by varying $\\sigma$ and $\\alpha_1$ (and $\\alpha_2$) in the baseline model calibrated to U.S. data. Specifically, we compared the welfare outcomes of the baseline economy (perfectly competitive banking + BJ) and the HLMW economy (no-bank economy).\n",
    "\n",
    "* Comparision: $DW:= W_{Baseline} - W_{HLMW}$\n",
    "    * Welfare in our baseline economy: Price dispersion + perfectly competitive banks \n",
    "    * Welfare in HLMW economy: Price dispersion\n",
    "    * Robustness test.1: Vary $\\sigma$\n",
    "    * Robustness test.2: Vary $\\alpha_{1}$\n",
    "\n",
    "- Main result: The robustness analysis indicates that the results remain consistent even when the DM risk aversion parameter $\\sigma$ and the search intensity parameters $\\alpha_1$ and $\\alpha_2$ are adjusted."
   ]
  },
  {
   "cell_type": "code",
   "execution_count": 1,
   "metadata": {},
   "outputs": [],
   "source": [
    "import bcw_bj as main\n",
    "import hlmw as hlmw\n",
    "import numpy as np\n",
    "import matplotlib.pyplot as plt\n",
    "from mpl_toolkits import mplot3d\n",
    "from scipy import interpolate\n",
    "from scipy.optimize import brentq, fsolve\n",
    "#import tikzplotlib\n",
    "import time"
   ]
  },
  {
   "cell_type": "code",
   "execution_count": 2,
   "metadata": {},
   "outputs": [],
   "source": [
    "plt.rcParams['text.usetex'] = False\n",
    "plt.rcParams['font.family'] = 'serif'\n",
    "font = {'family' : 'serif','weight':'normal',\n",
    "        'size'   : 10}\n",
    "plt.rc('font', **font)"
   ]
  },
  {
   "cell_type": "markdown",
   "metadata": {},
   "source": [
    "- As shown in Appendix C, the parameters based on the calibration results are as follows."
   ]
  },
  {
   "cell_type": "code",
   "execution_count": 3,
   "metadata": {},
   "outputs": [],
   "source": [
    "σ_DM=0.3200\n",
    "Ubar_CM=1.8000\n",
    "n=0.65\n",
    "α_1=0.0475\n",
    "β=0.981\n",
    "τ_min=β-1\n",
    "τ_max = 0.05\n",
    "τgrid_size = 30"
   ]
  },
  {
   "cell_type": "code",
   "execution_count": 4,
   "metadata": {},
   "outputs": [],
   "source": [
    "# Baseline\n",
    "model = main.baseline_mod(β=β,σ_DM=σ_DM, Ubar_CM=Ubar_CM, n=n,τ_max = τ_max,α_1=α_1,τgrid_size = τgrid_size,τ_min=τ_min)\n",
    "model_2 = main.baseline_mod(β=β,σ_DM=0.5, Ubar_CM=Ubar_CM, n=n,τ_max = τ_max,α_1=α_1,τgrid_size = τgrid_size,τ_min=τ_min)\n",
    "model_3 = main.baseline_mod(β=β,σ_DM=0.6, Ubar_CM=Ubar_CM, n=n,τ_max = τ_max,α_1=α_1,τgrid_size = τgrid_size,τ_min=τ_min)\n",
    "model_4 = main.baseline_mod(β=β,σ_DM=σ_DM, Ubar_CM=Ubar_CM, n=n,τ_max = τ_max,α_1=0.1,τgrid_size = τgrid_size,τ_min=τ_min)\n",
    "model_5 = main.baseline_mod(β=β,σ_DM=σ_DM, Ubar_CM=Ubar_CM, n=n,τ_max = τ_max,α_1=0.15,τgrid_size = τgrid_size,τ_min=τ_min)\n",
    "\n",
    "# HLMW\n",
    "model_hlmw =hlmw.hlmw_mod(β=β,σ_DM=σ_DM, Ubar_CM=Ubar_CM, n=n,τ_max = τ_max,α_1=α_1,τgrid_size = τgrid_size,τ_min=τ_min)\n",
    "model_hlmw_2 =hlmw.hlmw_mod(β=β,σ_DM=0.5, Ubar_CM=Ubar_CM, n=n,τ_max = τ_max,α_1=α_1,τgrid_size = τgrid_size,τ_min=τ_min)\n",
    "model_hlmw_3 =hlmw.hlmw_mod(β=β,σ_DM=0.6, Ubar_CM=Ubar_CM, n=n,τ_max = τ_max,α_1=α_1,τgrid_size = τgrid_size,τ_min=τ_min)\n",
    "model_hlmw_4 =hlmw.hlmw_mod(β=β,σ_DM=σ_DM, Ubar_CM=Ubar_CM, n=n,τ_max = τ_max,α_1=0.1,τgrid_size = τgrid_size,τ_min=τ_min)\n",
    "model_hlmw_5 =hlmw.hlmw_mod(β=β,σ_DM=σ_DM, Ubar_CM=Ubar_CM, n=n,τ_max = τ_max,α_1=0.15,τgrid_size = τgrid_size,τ_min=τ_min)"
   ]
  },
  {
   "cell_type": "markdown",
   "metadata": {},
   "source": [
    "### SME: HLMW + perfectly competitive banks (Baseline)\n",
    "\n",
    "* Vary $\\tau \\in [\\beta-1, 0.1]$"
   ]
  },
  {
   "cell_type": "code",
   "execution_count": 5,
   "metadata": {},
   "outputs": [
    {
     "name": "stdout",
     "output_type": "stream",
     "text": [
      "Elapsed time of solving SME: 45.201374769210815 seconds\n",
      "Elapsed time of solving SME: 46.20091128349304 seconds\n",
      "Elapsed time of solving SME: 45.12600755691528 seconds\n",
      "Elapsed time of solving SME: 46.11294198036194 seconds\n",
      "Elapsed time of solving SME: 46.2621374130249 seconds\n"
     ]
    }
   ],
   "source": [
    "# Baseline - result\n",
    "z_guess = 0.7\n",
    "i_guess = 0.01\n",
    "result = model.SME_stat(z_guess, i_guess) \n",
    "result_2 = model_2.SME_stat(z_guess, i_guess) \n",
    "result_3 = model_3.SME_stat(z_guess, i_guess) \n",
    "result_4 = model_4.SME_stat(z_guess, i_guess) \n",
    "result_5 = model_5.SME_stat(z_guess, i_guess) "
   ]
  },
  {
   "cell_type": "code",
   "execution_count": 6,
   "metadata": {},
   "outputs": [],
   "source": [
    "W = result['allocation_grid']['w_star']\n",
    "W_2 = result_2['allocation_grid']['w_star']\n",
    "W_3 = result_3['allocation_grid']['w_star']\n",
    "W_4 = result_4['allocation_grid']['w_star']\n",
    "W_5 = result_5['allocation_grid']['w_star']"
   ]
  },
  {
   "cell_type": "markdown",
   "metadata": {},
   "source": [
    "### HLMW: without banks"
   ]
  },
  {
   "cell_type": "code",
   "execution_count": 7,
   "metadata": {},
   "outputs": [
    {
     "name": "stdout",
     "output_type": "stream",
     "text": [
      "Elapsed time of solving SME: 30.83343005180359 seconds\n",
      "Elapsed time of solving SME: 32.50213003158569 seconds\n",
      "Elapsed time of solving SME: 35.76944971084595 seconds\n",
      "Elapsed time of solving SME: 37.79318046569824 seconds\n",
      "Elapsed time of solving SME: 37.75461935997009 seconds\n"
     ]
    }
   ],
   "source": [
    "# HLMW - result\n",
    "result_hlmw = model_hlmw.SME_stat() \n",
    "result_hlmw_2 = model_hlmw_2.SME_stat() \n",
    "result_hlmw_3 = model_hlmw_3.SME_stat() \n",
    "result_hlmw_4 = model_hlmw_4.SME_stat() \n",
    "result_hlmw_5 = model_hlmw_5.SME_stat() "
   ]
  },
  {
   "cell_type": "code",
   "execution_count": 8,
   "metadata": {},
   "outputs": [],
   "source": [
    "W_hlmw = result_hlmw['allocation_grid']['w_star']\n",
    "W_hlmw_2 = result_hlmw_2['allocation_grid']['w_star']\n",
    "W_hlmw_3 = result_hlmw_3['allocation_grid']['w_star']\n",
    "W_hlmw_4 = result_hlmw_4['allocation_grid']['w_star']\n",
    "W_hlmw_5 = result_hlmw_5['allocation_grid']['w_star']"
   ]
  },
  {
   "cell_type": "code",
   "execution_count": 9,
   "metadata": {},
   "outputs": [],
   "source": [
    "τ_grid = model.τ_grid # inflation rate grid\n",
    "i_grid = model.i_policy(τ_grid)"
   ]
  },
  {
   "cell_type": "markdown",
   "metadata": {},
   "source": [
    "## Robust results. 1: varing $\\sigma$ given $\\alpha_1$\n",
    "- The first result shows that even when sigma is varied while alpha_1 is fixed, welfare decreases in the low-inflation range. This demonstrates the robustness of our findings."
   ]
  },
  {
   "cell_type": "code",
   "execution_count": 10,
   "metadata": {},
   "outputs": [],
   "source": [
    "DW = W - W_hlmw \n",
    "DW_2 = W_2 - W_hlmw_2 \n",
    "DW_3 = W_3 - W_hlmw_3 "
   ]
  },
  {
   "cell_type": "code",
   "execution_count": 11,
   "metadata": {},
   "outputs": [
    {
     "data": {
      "image/png": "[encoded data removed]",
      "text/plain": [
       "<Figure size 432x288 with 1 Axes>"
      ]
     },
     "metadata": {},
     "output_type": "display_data"
    }
   ],
   "source": [
    "plt.figure(facecolor='white')\n",
    "plt.plot(100*(model.τ_grid), DW, label=r'$\\sigma=0.325$',color='r')\n",
    "plt.plot(100*(model.τ_grid), DW_2, label=r'$\\sigma=0.5$',color='b')\n",
    "plt.plot(100*(model.τ_grid), DW_3, label=r'$\\sigma=0.6$',color='g')\n",
    "plt.axhline(y=0,color=\"black\", linestyle='--',linewidth=1.0)\n",
    "plt.ylabel(\"DW\")\n",
    "plt.xlabel(r'Inflation rate $\\gamma$ ($\\%$)')\n",
    "plt.legend()\n",
    "plt.show()"
   ]
  },
  {
   "cell_type": "markdown",
   "metadata": {},
   "source": [
    "## Robust results. 2: varing $\\alpha_1$ given $\\sigma$\n",
    "- The first result shows that even when $\\alpha_1$ is varied while $\\sigma$ is fixed, welfare decreases in the low-inflation range. This demonstrates the robustness of our findings."
   ]
  },
  {
   "cell_type": "code",
   "execution_count": 12,
   "metadata": {},
   "outputs": [],
   "source": [
    "DW = W - W_hlmw \n",
    "DW_4 = W_4 - W_hlmw_4 \n",
    "DW_5 = W_5 - W_hlmw_5"
   ]
  },
  {
   "cell_type": "code",
   "execution_count": 13,
   "metadata": {},
   "outputs": [
    {
     "data": {
      "image/png": "[encoded data removed]",
      "text/plain": [
       "<Figure size 432x288 with 1 Axes>"
      ]
     },
     "metadata": {},
     "output_type": "display_data"
    }
   ],
   "source": [
    "plt.figure(facecolor='white')\n",
    "plt.plot(100*(model.τ_grid[0:20]), DW[0:20], label=r'$\\alpha_1=0.0475$',color='r')\n",
    "plt.plot(100*(model.τ_grid[0:20]), DW_4[0:20], label=r'$\\alpha_1=0.1$',color='b')\n",
    "plt.plot(100*(model.τ_grid[0:20]), DW_5[0:20], label=r'$\\alpha_1=0.15$',color='g')\n",
    "plt.axhline(y=0,color=\"black\", linestyle='--',linewidth=1.0)\n",
    "plt.ylabel(\"DW\")\n",
    "plt.xlabel(r'Inflation rate $\\gamma$ ($\\%$)')\n",
    "plt.legend()\n",
    "plt.show()"
   ]
  }
 ],
 "metadata": {
  "kernelspec": {
   "display_name": "Python 3 (ipykernel)",
   "language": "python",
   "name": "python3"
  },
  "language_info": {
   "codemirror_mode": {
    "name": "ipython",
    "version": 3
   },
   "file_extension": ".py",
   "mimetype": "text/x-python",
   "name": "python",
   "nbconvert_exporter": "python",
   "pygments_lexer": "ipython3",
   "version": "3.9.12"
  }
 },
 "nbformat": 4,
 "nbformat_minor": 4
}
