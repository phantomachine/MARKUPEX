{
 "cells": [
  {
   "cell_type": "markdown",
   "metadata": {},
   "source": [
    "## Data and Statistical Calibration (Indirect Inference) on Model\n",
    "\n",
    "### KLLN"
   ]
  },
  {
   "cell_type": "code",
   "execution_count": 1,
   "metadata": {},
   "outputs": [],
   "source": [
    "import numpy as np\n",
    "import pandas as pd\n",
    "import datetime as dt\n",
    "import matplotlib.pyplot as plt\n",
    "from matplotlib.pyplot import subplots\n",
    "import statsmodels.api as sm\n",
    "import seaborn as sns\n",
    "\n",
    "import requests, zipfile, io\n",
    "from pandas import ExcelWriter\n",
    "from pandas import ExcelFile\n",
    "from fredapi import Fred\n",
    "\n",
    "import statistics as stats\n",
    "from scipy import interpolate\n",
    "from scipy.optimize import curve_fit\n",
    "\n",
    "from itertools import product\n",
    "import time\n",
    "\n",
    "%matplotlib inline"
   ]
  },
  {
   "cell_type": "code",
   "execution_count": 2,
   "metadata": {},
   "outputs": [],
   "source": [
    "# Instantiate Fred class as \"fred\", with personal own api_key \n",
    "# It can be registered through https://research.stlouisfed.org by searching api key\n",
    "fred = Fred(api_key = 'cd6992c5ce004b0b4493fe2cf6c3fdab')"
   ]
  },
  {
   "cell_type": "code",
   "execution_count": 3,
   "metadata": {},
   "outputs": [],
   "source": [
    "df = {}"
   ]
  },
  {
   "cell_type": "code",
   "execution_count": 4,
   "metadata": {},
   "outputs": [],
   "source": [
    "#get data from Assets tab in Lucas-Nicolini excel file\n",
    "data_LN_data = \\\n",
    "        pd.read_excel('Calibration_data.xlsx', 'data_consolidated')"
   ]
  },
  {
   "cell_type": "code",
   "execution_count": 5,
   "metadata": {},
   "outputs": [
    {
     "name": "stdout",
     "output_type": "stream",
     "text": [
      "0 Dates > Observations: 102\n",
      "1 T-Bill Rate (3-month, annual) > Observations: 102\n",
      "2 NewM1/GDP > Observations: 102\n",
      "3 Inflation (CPI, raw) > Observations: 102\n",
      "Shortest data series is Dates with data length of 102\n"
     ]
    }
   ],
   "source": [
    "# Store lists of data series and KEYs into dictionary df\n",
    "df['Dates'] = data_LN_data['years'].tolist()\n",
    "df['T-Bill Rate (3-month, annual)'] = (data_LN_data['tbills3m']/100.).tolist()\n",
    "df['NewM1/GDP'] = (data_LN_data['new_m1']/100.).tolist()\n",
    "\n",
    "# inflation\n",
    "inflation = fred.get_series('CPIAUCNS', frequency='a')\n",
    "inflation = inflation.reset_index()\n",
    "inflation.columns = ['Dates', 'CPI (seasonal)']\n",
    "inflation = inflation.set_index(inflation['Dates'])\n",
    "start_year = '1915'\n",
    "stop_year = '2016' \n",
    "inflation = inflation['CPI (seasonal)']/inflation['CPI (seasonal)'].shift(1) - 1\n",
    "\n",
    "df['Inflation (CPI, raw)'] = inflation.loc[start_year+'-01-01':stop_year+'-01-01']\n",
    "\n",
    "obslength = []\n",
    "keys = []\n",
    "\n",
    "for list_idx, list_key in enumerate(df):\n",
    "    list_length = len(df[list_key])\n",
    "    print(list_idx, list_key, \"> Observations:\", list_length)\n",
    "    obslength.append(list_length)\n",
    "    keys.append(list_key)\n",
    "obslength_min = min(obslength)\n",
    "print(\"Shortest data series is %s with data length of %i\" %(keys[obslength==obslength_min], obslength_min))\n"
   ]
  },
  {
   "cell_type": "code",
   "execution_count": 6,
   "metadata": {},
   "outputs": [],
   "source": [
    "# Truncate longer series to have the same length of: obslength_min\n",
    "for list_idx, list_key in enumerate(df):\n",
    "    df[list_key] = df[list_key][0:obslength_min]"
   ]
  },
  {
   "cell_type": "code",
   "execution_count": 7,
   "metadata": {},
   "outputs": [],
   "source": [
    "# Convert df to Pandas dataframe\n",
    "d = pd.DataFrame(df)\n",
    "d = d.set_index(d['Dates'])"
   ]
  },
  {
   "cell_type": "code",
   "execution_count": 8,
   "metadata": {},
   "outputs": [
    {
     "data": {
      "text/html": [
       "<div>\n",
       "<style scoped>\n",
       "    .dataframe tbody tr th:only-of-type {\n",
       "        vertical-align: middle;\n",
       "    }\n",
       "\n",
       "    .dataframe tbody tr th {\n",
       "        vertical-align: top;\n",
       "    }\n",
       "\n",
       "    .dataframe thead th {\n",
       "        text-align: right;\n",
       "    }\n",
       "</style>\n",
       "<table border=\"1\" class=\"dataframe\">\n",
       "  <thead>\n",
       "    <tr style=\"text-align: right;\">\n",
       "      <th></th>\n",
       "      <th>Dates</th>\n",
       "      <th>T-Bill Rate (3-month, annual)</th>\n",
       "      <th>NewM1/GDP</th>\n",
       "      <th>Inflation (CPI, raw)</th>\n",
       "    </tr>\n",
       "    <tr>\n",
       "      <th>Dates</th>\n",
       "      <th></th>\n",
       "      <th></th>\n",
       "      <th></th>\n",
       "      <th></th>\n",
       "    </tr>\n",
       "  </thead>\n",
       "  <tbody>\n",
       "    <tr>\n",
       "      <th>1915</th>\n",
       "      <td>1915</td>\n",
       "      <td>0.0285</td>\n",
       "      <td>0.322164</td>\n",
       "      <td>0.009085</td>\n",
       "    </tr>\n",
       "    <tr>\n",
       "      <th>1916</th>\n",
       "      <td>1916</td>\n",
       "      <td>0.0325</td>\n",
       "      <td>0.295371</td>\n",
       "      <td>0.076672</td>\n",
       "    </tr>\n",
       "    <tr>\n",
       "      <th>1917</th>\n",
       "      <td>1917</td>\n",
       "      <td>0.0462</td>\n",
       "      <td>0.284928</td>\n",
       "      <td>0.178443</td>\n",
       "    </tr>\n",
       "    <tr>\n",
       "      <th>1918</th>\n",
       "      <td>1918</td>\n",
       "      <td>0.0419</td>\n",
       "      <td>0.248897</td>\n",
       "      <td>0.172865</td>\n",
       "    </tr>\n",
       "    <tr>\n",
       "      <th>1919</th>\n",
       "      <td>1919</td>\n",
       "      <td>0.0437</td>\n",
       "      <td>0.276148</td>\n",
       "      <td>0.152307</td>\n",
       "    </tr>\n",
       "    <tr>\n",
       "      <th>...</th>\n",
       "      <td>...</td>\n",
       "      <td>...</td>\n",
       "      <td>...</td>\n",
       "      <td>...</td>\n",
       "    </tr>\n",
       "    <tr>\n",
       "      <th>2012</th>\n",
       "      <td>2012</td>\n",
       "      <td>0.0009</td>\n",
       "      <td>0.416954</td>\n",
       "      <td>0.020694</td>\n",
       "    </tr>\n",
       "    <tr>\n",
       "      <th>2013</th>\n",
       "      <td>2013</td>\n",
       "      <td>NaN</td>\n",
       "      <td>0.428727</td>\n",
       "      <td>0.014648</td>\n",
       "    </tr>\n",
       "    <tr>\n",
       "      <th>2014</th>\n",
       "      <td>2014</td>\n",
       "      <td>NaN</td>\n",
       "      <td>0.437827</td>\n",
       "      <td>0.016222</td>\n",
       "    </tr>\n",
       "    <tr>\n",
       "      <th>2015</th>\n",
       "      <td>2015</td>\n",
       "      <td>NaN</td>\n",
       "      <td>0.432169</td>\n",
       "      <td>0.001187</td>\n",
       "    </tr>\n",
       "    <tr>\n",
       "      <th>2016</th>\n",
       "      <td>2016</td>\n",
       "      <td>NaN</td>\n",
       "      <td>0.457592</td>\n",
       "      <td>0.012615</td>\n",
       "    </tr>\n",
       "  </tbody>\n",
       "</table>\n",
       "<p>102 rows × 4 columns</p>\n",
       "</div>"
      ],
      "text/plain": [
       "       Dates  T-Bill Rate (3-month, annual)  NewM1/GDP  Inflation (CPI, raw)\n",
       "Dates                                                                       \n",
       "1915    1915                         0.0285   0.322164              0.009085\n",
       "1916    1916                         0.0325   0.295371              0.076672\n",
       "1917    1917                         0.0462   0.284928              0.178443\n",
       "1918    1918                         0.0419   0.248897              0.172865\n",
       "1919    1919                         0.0437   0.276148              0.152307\n",
       "...      ...                            ...        ...                   ...\n",
       "2012    2012                         0.0009   0.416954              0.020694\n",
       "2013    2013                            NaN   0.428727              0.014648\n",
       "2014    2014                            NaN   0.437827              0.016222\n",
       "2015    2015                            NaN   0.432169              0.001187\n",
       "2016    2016                            NaN   0.457592              0.012615\n",
       "\n",
       "[102 rows x 4 columns]"
      ]
     },
     "execution_count": 8,
     "metadata": {},
     "output_type": "execute_result"
    }
   ],
   "source": [
    "d"
   ]
  },
  {
   "cell_type": "markdown",
   "metadata": {},
   "source": [
    "## This notebook (below) uses truncated sample (1980-2007)\n"
   ]
  },
  {
   "cell_type": "code",
   "execution_count": 9,
   "metadata": {},
   "outputs": [],
   "source": [
    "# Truncate data window\n",
    "date_truncate_start = '1983' \n",
    "date_truncate_stop = '2007'\n",
    "\n",
    "dcut = d.loc[date_truncate_start:date_truncate_stop]"
   ]
  },
  {
   "cell_type": "markdown",
   "metadata": {},
   "source": [
    "### Visualization of data "
   ]
  },
  {
   "cell_type": "code",
   "execution_count": 10,
   "metadata": {},
   "outputs": [
    {
     "data": {
      "text/plain": [
       "<AxesSubplot:xlabel='Dates'>"
      ]
     },
     "execution_count": 10,
     "metadata": {},
     "output_type": "execute_result"
    },
    {
     "data": {
      "image/png": "[encoded data removed]",
      "text/plain": [
       "<Figure size 432x288 with 1 Axes>"
      ]
     },
     "metadata": {
      "needs_background": "light"
     },
     "output_type": "display_data"
    }
   ],
   "source": [
    "# M/PY using M1 (sweep adjusted) data for M, nominal GDP for PY\n",
    "dcut.plot(y='NewM1/GDP')"
   ]
  },
  {
   "cell_type": "code",
   "execution_count": 11,
   "metadata": {},
   "outputs": [
    {
     "data": {
      "text/plain": [
       "<AxesSubplot:xlabel='Dates'>"
      ]
     },
     "execution_count": 11,
     "metadata": {},
     "output_type": "execute_result"
    },
    {
     "data": {
      "image/png": "[encoded data removed]",
      "text/plain": [
       "<Figure size 432x288 with 1 Axes>"
      ]
     },
     "metadata": {
      "needs_background": "light"
     },
     "output_type": "display_data"
    }
   ],
   "source": [
    "# T-Bill Rate (3-month, annual) \n",
    "dcut.plot(y='T-Bill Rate (3-month, annual)')"
   ]
  },
  {
   "cell_type": "code",
   "execution_count": 12,
   "metadata": {},
   "outputs": [
    {
     "data": {
      "text/plain": [
       "<AxesSubplot:xlabel='T-Bill Rate (3-month, annual)', ylabel='NewM1/GDP'>"
      ]
     },
     "execution_count": 12,
     "metadata": {},
     "output_type": "execute_result"
    },
    {
     "data": {
      "image/png": "[encoded data removed]",
      "text/plain": [
       "<Figure size 432x288 with 1 Axes>"
      ]
     },
     "metadata": {
      "needs_background": "light"
     },
     "output_type": "display_data"
    }
   ],
   "source": [
    "# Scatter plot M/PY vs. Federal Funds Rate\n",
    "dcut.plot(x='T-Bill Rate (3-month, annual)', y='NewM1/GDP', kind='scatter')"
   ]
  },
  {
   "cell_type": "code",
   "execution_count": 13,
   "metadata": {},
   "outputs": [
    {
     "data": {
      "text/plain": [
       "<AxesSubplot:xlabel='T-Bill Rate (3-month, annual)', ylabel='Inflation (CPI, raw)'>"
      ]
     },
     "execution_count": 13,
     "metadata": {},
     "output_type": "execute_result"
    },
    {
     "data": {
      "image/png": "[encoded data removed]",
      "text/plain": [
       "<Figure size 432x288 with 1 Axes>"
      ]
     },
     "metadata": {
      "needs_background": "light"
     },
     "output_type": "display_data"
    }
   ],
   "source": [
    "# Scatter plot Federal Funds Rate vs. inflation\n",
    "dcut.plot(x='T-Bill Rate (3-month, annual)', y='Inflation (CPI, raw)', kind='scatter')"
   ]
  },
  {
   "cell_type": "code",
   "execution_count": null,
   "metadata": {},
   "outputs": [],
   "source": []
  },
  {
   "cell_type": "code",
   "execution_count": 14,
   "metadata": {},
   "outputs": [
    {
     "data": {
      "text/html": [
       "<div>\n",
       "<style scoped>\n",
       "    .dataframe tbody tr th:only-of-type {\n",
       "        vertical-align: middle;\n",
       "    }\n",
       "\n",
       "    .dataframe tbody tr th {\n",
       "        vertical-align: top;\n",
       "    }\n",
       "\n",
       "    .dataframe thead th {\n",
       "        text-align: right;\n",
       "    }\n",
       "</style>\n",
       "<table border=\"1\" class=\"dataframe\">\n",
       "  <thead>\n",
       "    <tr style=\"text-align: right;\">\n",
       "      <th></th>\n",
       "      <th>sample mean</th>\n",
       "    </tr>\n",
       "  </thead>\n",
       "  <tbody>\n",
       "    <tr>\n",
       "      <th>Dates</th>\n",
       "      <td>1995.000000</td>\n",
       "    </tr>\n",
       "    <tr>\n",
       "      <th>T-Bill Rate (3-month, annual)</th>\n",
       "      <td>0.050640</td>\n",
       "    </tr>\n",
       "    <tr>\n",
       "      <th>NewM1/GDP</th>\n",
       "      <td>0.228289</td>\n",
       "    </tr>\n",
       "    <tr>\n",
       "      <th>Inflation (CPI, raw)</th>\n",
       "      <td>0.031108</td>\n",
       "    </tr>\n",
       "  </tbody>\n",
       "</table>\n",
       "</div>"
      ],
      "text/plain": [
       "                               sample mean\n",
       "Dates                          1995.000000\n",
       "T-Bill Rate (3-month, annual)     0.050640\n",
       "NewM1/GDP                         0.228289\n",
       "Inflation (CPI, raw)              0.031108"
      ]
     },
     "execution_count": 14,
     "metadata": {},
     "output_type": "execute_result"
    }
   ],
   "source": [
    "# Truncated sample (1980-2007) stats\n",
    "dcut_mean = dcut.mean().to_frame()\n",
    "dcut_mean.columns = [\"sample mean\"]\n",
    "dcut_mean"
   ]
  },
  {
   "cell_type": "code",
   "execution_count": 15,
   "metadata": {},
   "outputs": [
    {
     "name": "stdout",
     "output_type": "stream",
     "text": [
      "0.9814094266351937\n"
     ]
    }
   ],
   "source": [
    "T_bill_mean = 0.050640\n",
    "τ_mean = 0.031108\n",
    "#Use Fisher relation to back out the discount factor\n",
    "β_data= (1.0+τ_mean)/(1.0+T_bill_mean)\n",
    "print(β_data)"
   ]
  },
  {
   "cell_type": "code",
   "execution_count": null,
   "metadata": {},
   "outputs": [],
   "source": []
  },
  {
   "cell_type": "markdown",
   "metadata": {},
   "source": [
    "### Visualization tool"
   ]
  },
  {
   "cell_type": "code",
   "execution_count": 16,
   "metadata": {},
   "outputs": [],
   "source": [
    "\n",
    "def func(x, a, b, c):\n",
    "    return a*np.exp(-b * x) + c \n",
    "\n",
    "def money_func_fit(x, y):\n",
    "    data = np.asarray(sorted(zip(x,y)))\n",
    "    i_set = np.linspace(data[:,0].min(), data[:,0].max())\n",
    "    popt, pcov = curve_fit(func, x, y, bounds=(0.001, 10.0))\n",
    "    fitted_func = func(i_set, *popt)\n",
    "    return fitted_func\n",
    "\n",
    "def markup_func_fit(x,y):\n",
    "    data = np.asarray(sorted(zip(x,y)))\n",
    "    i_set = np.linspace(data[:,0].min(), data[:,0].max())\n",
    "    popt, pcov = curve_fit(func, x, y, bounds=(0.001, 10.0))\n",
    "    fitted_func = func(i_set, *popt)\n",
    "    return fitted_func\n",
    "\n",
    "def visualization(x = dcut['T-Bill Rate (3-month, annual)'].tolist(),\\\n",
    "                  y = dcut['NewM1/GDP'].tolist(),\\\n",
    "                  x_label = 'T-Bill Rate (3-month, annual)',\\\n",
    "                  y_label = 'NewM1/GDP',\\\n",
    "                  model_x = np.linspace(0.0,0.0,1),\\\n",
    "                  model_y = np.linspace(0.0,0.0,1)\n",
    "                 ):\n",
    "    data = np.asarray(sorted(zip(x,y)))\n",
    "   \n",
    "    i_set = np.linspace(data[:,0].min(), data[:,0].max())\n",
    "    i_mean = 0.050640\n",
    "    \n",
    "\n",
    "    if y_label == 'NewM1/GDP':\n",
    "        popt, pcov = curve_fit(func, x, y, bounds=(0.001, 10.0))\n",
    "    else:\n",
    "        popt, pcov = curve_fit(func, x, y, bounds=(0.001, 10.0))\n",
    "    fitted_func = func(i_set, *popt)\n",
    "    if y_label == 'NewM1/GDP':\n",
    "        plt.scatter(x, y, label='Data: 1983-2007')\n",
    "        plt.plot(i_set, fitted_func, '--', color='r', label='Fitted spline')\n",
    "        plt.plot(model_x, model_y, '-g', label=\"Model\")\n",
    "        plt.xlabel(x_label)\n",
    "        plt.ylabel(y_label)\n",
    "        plt.xlim(0.0, 0.11)\n",
    "        plt.ylim(0.15, 0.3)\n",
    "        plt.legend()\n",
    "        plt.show()\n",
    "    else:\n",
    "        plt.scatter(x, y, label='Data: 1983-2007')\n",
    "        plt.plot(i_set, fitted_func, '--', color='r', label='Fitted spline')\n",
    "        plt.plot(model_x, model_y, '-g', label=\"Model\")\n",
    "        plt.xlabel(x_label)\n",
    "        plt.ylabel(y_label)\n",
    "        plt.xlim(0.0, 0.11)\n",
    "        plt.ylim(1.0, 1.6)\n",
    "        plt.legend()\n",
    "        plt.show()    \n",
    "    return fitted_func\n"
   ]
  },
  {
   "cell_type": "code",
   "execution_count": 17,
   "metadata": {},
   "outputs": [
    {
     "name": "stdout",
     "output_type": "stream",
     "text": [
      "L_mean = 0.2243\n",
      "i_mean = 0.0506\n",
      "Slope = -0.5389\n",
      "Elasticity of M1/GDP w.r.t. Nominal Interest Rate = -0.1216\n"
     ]
    }
   ],
   "source": [
    "y = dcut['NewM1/GDP'].tolist()\n",
    "x = dcut['T-Bill Rate (3-month, annual)'].tolist()\n",
    "data = np.asarray(sorted(zip(x,y)))\n",
    "L_fit = interpolate.splrep(data[:,0], data[:,1], s=3)\n",
    "\n",
    "# Scatter plot data\n",
    "# Plot fitted spline function \n",
    "i_set = np.linspace(data[:,0].min(), data[:,0].max())\n",
    "L_set = interpolate.splev(i_set, L_fit, der=0)\n",
    "M1_fit_target=L_set\n",
    "# Plot point where data at mean\n",
    "i_mean = np.asarray(x).mean()\n",
    "L_mean = interpolate.splev(i_mean, L_fit, der=0)\n",
    "# L_mean = df_comb2['NewM1/GDP'].mean()\n",
    "L_mean_slope = interpolate.splev(i_mean, L_fit, der=1)\n",
    "\n",
    "Elasticity_L_i = L_mean_slope*i_mean/L_mean\n",
    "print(\"L_mean = %6.4f\" %(L_mean))\n",
    "print(\"i_mean = %6.4f\" %(i_mean))\n",
    "print(\"Slope = %6.4f\" %(L_mean_slope))\n",
    "print(\"Elasticity of M1/GDP w.r.t. Nominal Interest Rate = %6.4f\" %(Elasticity_L_i) )"
   ]
  },
  {
   "cell_type": "code",
   "execution_count": 18,
   "metadata": {},
   "outputs": [
    {
     "data": {
      "image/png": "[encoded data removed]",
      "text/plain": [
       "<Figure size 432x288 with 1 Axes>"
      ]
     },
     "metadata": {
      "needs_background": "light"
     },
     "output_type": "display_data"
    }
   ],
   "source": [
    "M1_GDP_fit_target =visualization(x = dcut['T-Bill Rate (3-month, annual)'].tolist(),\\\n",
    "                  y = dcut['NewM1/GDP'].tolist(),\\\n",
    "                  x_label = 'T-Bill Rate (3-month, annual)',\\\n",
    "                  y_label = 'NewM1/GDP',\\\n",
    "                  model_x = np.linspace(0.0,0.0,50),\\\n",
    "                  model_y = np.linspace(0.0,0.0,50))"
   ]
  },
  {
   "cell_type": "markdown",
   "metadata": {},
   "source": [
    "### Store targets for calibration below"
   ]
  },
  {
   "cell_type": "code",
   "execution_count": 19,
   "metadata": {},
   "outputs": [],
   "source": [
    "M1_GDP_target = M1_GDP_fit_target"
   ]
  },
  {
   "cell_type": "code",
   "execution_count": 20,
   "metadata": {},
   "outputs": [],
   "source": [
    "def ols(x, y):\n",
    "    # Linear best fit:\n",
    "    deg = 1 # OLS for linear best fit equation\n",
    "    bols = np.polyfit(x, y, deg, rcond=None, full=False)\n",
    "    y = bols[1] + bols[0]*x\n",
    "    return bols"
   ]
  },
  {
   "cell_type": "code",
   "execution_count": 21,
   "metadata": {},
   "outputs": [
    {
     "data": {
      "image/png": "[encoded data removed]",
      "text/plain": [
       "<Figure size 432x288 with 1 Axes>"
      ]
     },
     "metadata": {
      "needs_background": "light"
     },
     "output_type": "display_data"
    }
   ],
   "source": [
    "# Data\n",
    "i_data = dcut['T-Bill Rate (3-month, annual)']\n",
    "M1_GDP_data = dcut['NewM1/GDP']\n",
    "\n",
    "plt.figure()\n",
    "ax2 = sns.regplot(x=i_data, y=M1_GDP_data, \n",
    "                 data=None, \n",
    "                 fit_reg=True, \n",
    "                 x_estimator=None, \n",
    "                 marker=\".\", color=\"g\") "
   ]
  },
  {
   "cell_type": "code",
   "execution_count": 22,
   "metadata": {},
   "outputs": [
    {
     "name": "stdout",
     "output_type": "stream",
     "text": [
      "\n",
      "Now we approximate correlation: \n",
      "\n",
      "\t\tLinear Best Fit (Slope, Intercept) =  [-0.66693817  0.26206226] \n",
      "\n"
     ]
    }
   ],
   "source": [
    "bols = ols(i_data, M1_GDP_data)\n",
    "print(\"\\nNow we approximate correlation: \\n\")\n",
    "print(\"\\t\\tLinear Best Fit (Slope, Intercept) = \", str(bols), \"\\n\")\n",
    "    "
   ]
  },
  {
   "cell_type": "code",
   "execution_count": 23,
   "metadata": {},
   "outputs": [],
   "source": [
    "from datetime import date\n",
    "\n",
    "today = date.today()"
   ]
  },
  {
   "cell_type": "markdown",
   "metadata": {},
   "source": [
    "## Calibration "
   ]
  },
  {
   "cell_type": "code",
   "execution_count": 24,
   "metadata": {},
   "outputs": [],
   "source": [
    "import bcw_bj as klln"
   ]
  },
  {
   "cell_type": "code",
   "execution_count": 25,
   "metadata": {},
   "outputs": [
    {
     "name": "stdout",
     "output_type": "stream",
     "text": [
      "1\n"
     ]
    }
   ],
   "source": [
    "σ_DM_range = np.linspace(0.32, 0.32, 1)  \n",
    "Ubar_CM_range = np.linspace(1.8, 1.8, 1)\n",
    "α_1_range = np.linspace(0.0475,0.0475, 1)\n",
    "\n",
    "\n",
    "#create a for-loop parameter value table\n",
    "KLLN_class = np.array( [klln.baseline_mod(β=β_data, σ_CM=1.0, σ_DM=i, α_1=j,Ubar_CM=k,n=0.65,τ_min=β_data-1+1e-2,τ_max=0.08) \\\n",
    "                            for (i, j, k) in product(σ_DM_range,\\\n",
    "                                                        α_1_range,\\\n",
    "                                                        Ubar_CM_range)]) \n",
    "    \n",
    "\n",
    "print(KLLN_class.size)\n"
   ]
  },
  {
   "cell_type": "code",
   "execution_count": 26,
   "metadata": {},
   "outputs": [
    {
     "name": "stdout",
     "output_type": "stream",
     "text": [
      "0.9814094266351937\n"
     ]
    }
   ],
   "source": [
    "print(β_data)"
   ]
  },
  {
   "cell_type": "code",
   "execution_count": null,
   "metadata": {},
   "outputs": [],
   "source": []
  },
  {
   "cell_type": "markdown",
   "metadata": {},
   "source": [
    "* each index corresponds to a class with 1 possible combination of parameter values in the for-loop parameter table "
   ]
  },
  {
   "cell_type": "code",
   "execution_count": 27,
   "metadata": {},
   "outputs": [],
   "source": [
    "def L(M1_GDP_target):\n",
    "    \"\"\"distance function between model simulated stat vs. spline-fitted data target\"\"\"\n",
    "    \n",
    "    L_diff = np.zeros(KLLN_class.size)\n",
    "    \n",
    "    for idx, x in enumerate(KLLN_class):\n",
    "        # each idx is a particular class instantiation with particular \n",
    "        # parameter values in the parameter for-loop table\n",
    "        \n",
    "        # get SME result (dictionary)\n",
    "        # note: this solver has equilibrium conditions check\n",
    "        z_guess, i_guess = 0.4, 0.01\n",
    "        result = KLLN_class[idx].SME_stat(z_guess, i_guess)\n",
    "        \n",
    "        # extract model implied M/PY array \n",
    "        # note: model M/P = z, and Y = CM consumption + total DM consumption\n",
    "        mpy_grid = result['stat_grid']['mpy_star']\n",
    "\n",
    "        i_FFR_grid = result['stat_grid']['FFR']\n",
    "        \n",
    "        w_mpy = 1.0/(stats.variance(M1_GDP_target))\n",
    "\n",
    "        diff_M1_GDP =  np.abs(mpy_grid - M1_GDP_target) \n",
    "       \n",
    "        L_diff_func = np.sum( w_mpy*(diff_M1_GDP)**2.0 )\n",
    "    \n",
    "        L_diff[idx] = L_diff_func.min()\n",
    "\n",
    "        print(KLLN_class[idx].σ_DM)\n",
    "        print(KLLN_class[idx].α_1)\n",
    "        print(KLLN_class[idx].Ubar_CM)\n",
    "               \n",
    "    L_diff_min = L_diff[L_diff.argmin()]\n",
    "    # get the corresponding class instantiation \n",
    "    KLLN_model = KLLN_class[L_diff.argmin()]\n",
    "    # pick the corresponding value with minimum distance between model and target    \n",
    "    model_result = KLLN_model.SME_stat(z_guess, i_guess)\n",
    "    \n",
    "    M1_GDP_star = model_result['stat_grid']['mpy_star']\n",
    "    τ_mean = 0.031108\n",
    "    z_mean, i_mean = KLLN_model.solve_z_i(z_guess, i_guess, τ_mean)  \n",
    "    markup_star = KLLN_model.markup_func(z_mean, i_mean, τ_mean) \n",
    "    mpy_star = z_mean/(KLLN_model.x_star+ KLLN_model.Total_q_func(z_mean, i_mean,τ_mean))\n",
    "    i_policy_grid = model_result['stat_grid']['FFR']\n",
    "    τ_grid = [τ_mean-1e-5, τ_mean, τ_mean+1e-5]\n",
    "    mpy_star_grid =[]\n",
    "    i_grid=[]\n",
    "    for τ in τ_grid:\n",
    "        z, i = KLLN_model.solve_z_i(z_guess, i_guess, τ)\n",
    "        mpy_star = z/(KLLN_model.x_star+ KLLN_model.Total_q_func(z, i,τ))\n",
    "        mpy_star_grid.append(mpy_star)\n",
    "        i_grid.append(i)\n",
    "    M1_elasticity = (i_grid[1]/mpy_star_grid[1])*((mpy_star_grid[-1]-mpy_star_grid[0])/(i_grid[-1]-i_grid[0]))\n",
    "    \n",
    "    \n",
    "    #implied parameter values that achieve the shortest distance between model and target\n",
    "    σ_DM = KLLN_model.σ_DM\n",
    "    σ_CM = KLLN_model.σ_CM\n",
    "    α_1 = KLLN_model.α_1\n",
    "    Ubar_CM = KLLN_model.Ubar_CM    \n",
    "    \n",
    "    return  M1_GDP_star, M1_elasticity , markup_star, mpy_star,\\\n",
    "            i_policy_grid, σ_DM, σ_CM, α_1, Ubar_CM,\\\n",
    "            L_diff_min, KLLN_model\n",
    "       "
   ]
  },
  {
   "cell_type": "code",
   "execution_count": 28,
   "metadata": {},
   "outputs": [
    {
     "name": "stdout",
     "output_type": "stream",
     "text": [
      "Elapsed time of solving SME: 61.50506067276001 seconds\n",
      "0.32\n",
      "0.0475\n",
      "1.8\n",
      "Elapsed time of solving SME: 66.01739525794983 seconds\n",
      "129.2384853363037 seconds\n"
     ]
    }
   ],
   "source": [
    "tic = time.time()\n",
    "M1_GDP_star, M1_elasticity, markup_star, mpy_star,i_policy_grid, σ_DM, σ_CM, α_1, Ubar_CM,\\\n",
    "            L_diff_min, KLLN_model = L(M1_GDP_target)           \n",
    "toc = time.time()-tic\n",
    "print(toc, \"seconds\")"
   ]
  },
  {
   "cell_type": "code",
   "execution_count": 29,
   "metadata": {},
   "outputs": [
    {
     "data": {
      "text/html": [
       "<div>\n",
       "<style scoped>\n",
       "    .dataframe tbody tr th:only-of-type {\n",
       "        vertical-align: middle;\n",
       "    }\n",
       "\n",
       "    .dataframe tbody tr th {\n",
       "        vertical-align: top;\n",
       "    }\n",
       "\n",
       "    .dataframe thead th {\n",
       "        text-align: right;\n",
       "    }\n",
       "</style>\n",
       "<table border=\"1\" class=\"dataframe\">\n",
       "  <thead>\n",
       "    <tr style=\"text-align: right;\">\n",
       "      <th></th>\n",
       "      <th>Calibrated parameters</th>\n",
       "      <th>Model (Avg)</th>\n",
       "    </tr>\n",
       "  </thead>\n",
       "  <tbody>\n",
       "    <tr>\n",
       "      <th>0</th>\n",
       "      <td>$\\sigma_{DM}$</td>\n",
       "      <td>0.3200</td>\n",
       "    </tr>\n",
       "    <tr>\n",
       "      <th>1</th>\n",
       "      <td>B (Ubar_CM)</td>\n",
       "      <td>0.3200</td>\n",
       "    </tr>\n",
       "    <tr>\n",
       "      <th>2</th>\n",
       "      <td>$α_1$</td>\n",
       "      <td>0.0475</td>\n",
       "    </tr>\n",
       "  </tbody>\n",
       "</table>\n",
       "</div>"
      ],
      "text/plain": [
       "  Calibrated parameters  Model (Avg)\n",
       "0         $\\sigma_{DM}$       0.3200\n",
       "1           B (Ubar_CM)       0.3200\n",
       "2                 $α_1$       0.0475"
      ]
     },
     "execution_count": 29,
     "metadata": {},
     "output_type": "execute_result"
    }
   ],
   "source": [
    "rowlabels = [\"$\\sigma_{DM}$\", \"B (Ubar_CM)\",\\\n",
    "             \"$α_1$\"]\n",
    "\n",
    "model_para = [ σ_DM, σ_DM, α_1]\n",
    "model_para_table = { \"Calibrated parameters\": rowlabels,\n",
    "                     \"Model (Avg)\": model_para                \n",
    "                   }\n",
    "# Create dataframe\n",
    "df_model_parameter = pd.DataFrame(data=model_para_table)\n",
    "df_model_parameter"
   ]
  },
  {
   "cell_type": "code",
   "execution_count": 30,
   "metadata": {},
   "outputs": [
    {
     "data": {
      "text/plain": [
       "1.249279243808855"
      ]
     },
     "execution_count": 30,
     "metadata": {},
     "output_type": "execute_result"
    }
   ],
   "source": [
    "markup_star "
   ]
  },
  {
   "cell_type": "code",
   "execution_count": 31,
   "metadata": {},
   "outputs": [
    {
     "data": {
      "text/html": [
       "<div>\n",
       "<style scoped>\n",
       "    .dataframe tbody tr th:only-of-type {\n",
       "        vertical-align: middle;\n",
       "    }\n",
       "\n",
       "    .dataframe tbody tr th {\n",
       "        vertical-align: top;\n",
       "    }\n",
       "\n",
       "    .dataframe thead th {\n",
       "        text-align: right;\n",
       "    }\n",
       "</style>\n",
       "<table border=\"1\" class=\"dataframe\">\n",
       "  <thead>\n",
       "    <tr style=\"text-align: right;\">\n",
       "      <th></th>\n",
       "      <th>Notation</th>\n",
       "      <th>Model</th>\n",
       "      <th>Data</th>\n",
       "      <th>Calibration Paramters</th>\n",
       "      <th>Parameter Value</th>\n",
       "    </tr>\n",
       "  </thead>\n",
       "  <tbody>\n",
       "    <tr>\n",
       "      <th>0</th>\n",
       "      <td>$μ$</td>\n",
       "      <td>1.2493</td>\n",
       "      <td>1.3000</td>\n",
       "      <td>$α_1$</td>\n",
       "      <td>0.0475</td>\n",
       "    </tr>\n",
       "    <tr>\n",
       "      <th>1</th>\n",
       "      <td>$M/PY$</td>\n",
       "      <td>0.2291</td>\n",
       "      <td>0.2243</td>\n",
       "      <td>B (Ubar_CM)</td>\n",
       "      <td>1.8000</td>\n",
       "    </tr>\n",
       "    <tr>\n",
       "      <th>2</th>\n",
       "      <td>$M/PY$ elasticity</td>\n",
       "      <td>-0.1254</td>\n",
       "      <td>-0.1216</td>\n",
       "      <td>$\\sigma_{DM}$</td>\n",
       "      <td>0.3200</td>\n",
       "    </tr>\n",
       "  </tbody>\n",
       "</table>\n",
       "</div>"
      ],
      "text/plain": [
       "            Notation   Model    Data Calibration Paramters  Parameter Value\n",
       "0                $μ$  1.2493  1.3000                 $α_1$           0.0475\n",
       "1             $M/PY$  0.2291  0.2243           B (Ubar_CM)           1.8000\n",
       "2  $M/PY$ elasticity -0.1254 -0.1216         $\\sigma_{DM}$           0.3200"
      ]
     },
     "execution_count": 31,
     "metadata": {},
     "output_type": "execute_result"
    }
   ],
   "source": [
    "rowlabels = [\"$μ$\",\"$M/PY$\",\"$M/PY$ elasticity\"]\n",
    "\n",
    "model_para = [α_1,Ubar_CM,σ_DM]\n",
    "model_para_table = { \"Notation\": rowlabels,  \n",
    "                     \"Model\": [np.round(markup_star, 4),np.round(mpy_star, 4),np.round(M1_elasticity, 4)],\n",
    "                     \"Data\": [1.3 , np.round(L_mean, 4),np.round(Elasticity_L_i, 4)],\n",
    "                     \"Calibration Paramters\": [\"$α_1$\", \"B (Ubar_CM)\",\"$\\sigma_{DM}$\"],\n",
    "                     \"Parameter Value\":model_para\n",
    "                   }\n",
    "# Create dataframe\n",
    "df_model_data = pd.DataFrame(data=model_para_table)\n",
    "df_model_data"
   ]
  },
  {
   "cell_type": "code",
   "execution_count": 32,
   "metadata": {},
   "outputs": [],
   "source": [
    "x_data=dcut['T-Bill Rate (3-month, annual)'].tolist()\n",
    "y_data=dcut['NewM1/GDP'].tolist()\n",
    "data = np.asarray(sorted(zip(x_data,y_data)))\n",
    "i_set = np.linspace(data[:,0].min(), data[:,0].max())\n",
    "money_fitted_func = money_func_fit(x_data,y_data)"
   ]
  },
  {
   "cell_type": "code",
   "execution_count": 33,
   "metadata": {},
   "outputs": [
    {
     "data": {
      "image/png": "[encoded data removed]",
      "text/plain": [
       "<Figure size 640x480 with 1 Axes>"
      ]
     },
     "metadata": {},
     "output_type": "display_data"
    }
   ],
   "source": [
    "plt.style.use(style='default')\n",
    "plt.scatter(x_data, y_data, label=\"Data: 1983-2007\")\n",
    "plt.plot(i_set, money_fitted_func, '--', color='r', label='Fitted spline')\n",
    "plt.plot(i_policy_grid, M1_GDP_star, '-', color='green', label=\"Model\")\n",
    "plt.xlabel('T-Bill Rate (3-month, annual)')\n",
    "plt.ylabel('NewM1 / GDP')\n",
    "plt.xlim(0.0, 0.11)\n",
    "plt.ylim(0.15, 0.3)\n",
    "plt.legend(fontsize=12)\n",
    "plt.savefig(\"m1_gdp_model_fit.png\", dpi=800)\n"
   ]
  },
  {
   "cell_type": "code",
   "execution_count": 41,
   "metadata": {},
   "outputs": [
    {
     "data": {
      "image/png": "[encoded data removed]",
      "text/plain": [
       "<Figure size 700x500 with 1 Axes>"
      ]
     },
     "metadata": {},
     "output_type": "display_data"
    }
   ],
   "source": [
    "# Update matplotlib parameters for a similar style without using LaTeX\n",
    "plt.rcParams.update({\n",
    "    \"text.usetex\": True,  # Disable LaTeX as it's not available\n",
    "    \"font.family\": \"serif\",\n",
    "    \"axes.titlesize\": 12,\n",
    "    \"axes.labelsize\": 12,\n",
    "    \"lines.linewidth\": 1,\n",
    "    \"lines.markersize\": 4,\n",
    "    \"legend.fontsize\": 12,\n",
    "    \"xtick.labelsize\": 12,\n",
    "    \"ytick.labelsize\": 12,\n",
    "})\n",
    "\n",
    "# Create the plot again\n",
    "plt.figure(figsize=(7, 5))\n",
    "plt.scatter(x_data, y_data, label=\"Data: 1983-2007\", color=\"blue\", alpha=0.7)\n",
    "plt.plot(i_set, money_fitted_func, '--', color='red', label=\"Fitted spline\")\n",
    "plt.plot(i_policy_grid, M1_GDP_star, '-', color='green', label=\"Model\")\n",
    "plt.xlabel(\"T-Bill Rate (3-month, annual)\")\n",
    "plt.ylabel(\"NewM1 / GDP\")\n",
    "plt.xlim(0.0, 0.11)\n",
    "plt.ylim(0.18, 0.28)\n",
    "plt.legend(loc='upper right', fontsize=10, frameon=True)\n",
    "#plt.title(\"Calibration and money demand data\")\n",
    "\n",
    "# Save and display the plot\n",
    "plt.tight_layout()\n",
    "output_path = \"m1_gdp_model_fit.png\"\n",
    "plt.savefig(output_path, dpi=800)\n",
    "plt.show()"
   ]
  },
  {
   "cell_type": "code",
   "execution_count": null,
   "metadata": {},
   "outputs": [],
   "source": []
  },
  {
   "cell_type": "code",
   "execution_count": null,
   "metadata": {},
   "outputs": [],
   "source": []
  },
  {
   "cell_type": "code",
   "execution_count": null,
   "metadata": {},
   "outputs": [],
   "source": []
  }
 ],
 "metadata": {
  "kernelspec": {
   "display_name": "Python 3 (ipykernel)",
   "language": "python",
   "name": "python3"
  },
  "language_info": {
   "codemirror_mode": {
    "name": "ipython",
    "version": 3
   },
   "file_extension": ".py",
   "mimetype": "text/x-python",
   "name": "python",
   "nbconvert_exporter": "python",
   "pygments_lexer": "ipython3",
   "version": "3.11.7"
  }
 },
 "nbformat": 4,
 "nbformat_minor": 4
}
