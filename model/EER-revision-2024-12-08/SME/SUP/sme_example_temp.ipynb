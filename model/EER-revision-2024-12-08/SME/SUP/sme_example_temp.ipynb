{
 "cells": [
  {
   "cell_type": "markdown",
   "metadata": {},
   "source": [
    "# Two-stage approach + R_convexity\n",
    "\n",
    "- In this notebook, I implemented the two-stage approach and incorporated Tim's R_convexity to calculate the KLLN model.\n",
    "- I modified the model so that, under the two-stage approach, liquidity-unconstrained agents make deposits.\n",
    "- This results in changes to the money demand function and aggregate deposit sections.\n",
    "- Specifically, liquidity-unconstrained buyers now receive a marginal benefit of i, and the total deposits increase by the amount of idle cash held by unconstrained buyers.\n",
    "- The code was adjusted to account for R_convexity, with a focus on using Rfit within the R() function. Additionally, to calculate dJ (or dF), Rfit.derivative()(rho) is utilized."
   ]
  },
  {
   "cell_type": "markdown",
   "metadata": {},
   "source": [
    "Other critical areas to check include adjustments considering the measure of active and non-active buyers:\n",
    "- Money demand function\n",
    "- Equilibrium outcome\n",
    "- Loan/deposit market clearing condition\n",
    "\n",
    "Please review these aspects carefully."
   ]
  },
  {
   "cell_type": "markdown",
   "metadata": {},
   "source": [
    "Additionally, I still feel that the modifications to the money demand function across the z_range may not be fully complete. In particular, it’s uncertain whether i_bound, among other factors, should also be considered. I’ll finalize this part once Tim completes the Lemma arrangements."
   ]
  },
  {
   "cell_type": "markdown",
   "metadata": {},
   "source": [
    "## SME: BJ goods and competitive banks \n",
    "Given policy $\\tau$, we get real money balance $(z)$ and market interest rate $(i=i_{l}=i_{d})$ by solving\n",
    "\n",
    "\\begin{equation}\n",
    "\\begin{split}\n",
    "z^{\\star} \\leftarrow  \\frac{1+\\tau -\\beta}{\\beta} &= R(z,i)\n",
    "\\\\\n",
    "i_{l}=i_{d}=i^{\\star} \\leftarrow (1-n) \\cdot z + n \\cdot \\int^{\\overline{\\rho}}_{\\hat{\\rho}} [\\alpha_{1}+2\\alpha_{2}(1-J(\\rho))] \\delta(i,\\rho,z)\\text{d}J(\\rho)&= n \\cdot \\int^{\\tilde{\\rho}}_{\\underline{\\rho}} [\\alpha_{1}+2\\alpha_{2}(1-J(\\rho))] \\xi(i,\\rho,z) \\text{d}J(\\rho)\n",
    "\\end{split}\n",
    "\\label{eq:k-phi-high-type-case1}\n",
    "\\end{equation}\n",
    "\n",
    "where\n",
    "\\begin{equation*}\n",
    "\\begin{split}\n",
    "R(z,i) &:=  \\color{blue}{(1-n)} \\cdot i + \\color{blue}{n}\\bigg[\\int^{\\tilde{\\rho}}_{\\underline{\\rho}} i [\\alpha_{1}+2\\alpha_{2}(1-J(\\rho))] \\text{d}J(\\rho)\n",
    "\\\\\n",
    "&+ \\int^{\\hat{\\rho}}_{\\tilde{\\rho}} [\\alpha_{1}+2\\alpha_{2}(1-J(\\rho))] \\bigg[\\frac{1}{\\rho}\\bigg(\\frac{z}{\\rho}\\bigg)^{-\\sigma} -1 \\bigg] \\text{d}J(\\rho)\n",
    "\\\\\n",
    "&+ \\int^{\\overline{\\rho}}_{\\hat{\\rho}} [\\alpha_{1}+2\\alpha_{2}(1-J(\\rho))] \\cdot i \\text{d}J(\\rho)\\bigg]\n",
    "\\end{split}\n",
    "\\end{equation*}\n",
    "\n",
    "* Two equations and two unknowns "
   ]
  },
  {
   "cell_type": "code",
   "execution_count": 1,
   "metadata": {},
   "outputs": [],
   "source": [
    "import bcw_bj as main\n",
    "import hlmw as hlmw\n",
    "import numpy as np\n",
    "import matplotlib.pyplot as plt\n",
    "from mpl_toolkits import mplot3d\n",
    "from scipy import interpolate\n",
    "from scipy.optimize import brentq, fsolve\n",
    "#import tikzplotlib\n",
    "import time"
   ]
  },
  {
   "cell_type": "code",
   "execution_count": 2,
   "metadata": {},
   "outputs": [],
   "source": [
    "plt.rcParams['text.usetex'] = False\n",
    "plt.rcParams['font.family'] = 'serif'"
   ]
  },
  {
   "cell_type": "code",
   "execution_count": 3,
   "metadata": {},
   "outputs": [],
   "source": [
    "font = {'family' : 'serif','weight':'normal',\n",
    "        'size'   : 10}\n",
    "plt.rc('font', **font)"
   ]
  },
  {
   "cell_type": "code",
   "execution_count": 4,
   "metadata": {},
   "outputs": [],
   "source": [
    "model = main.baseline_mod(σ_DM=0.6, Ubar_CM=1.9, n=0.7,τ_max = 0.05,τgrid_size = 30,N_reimann = 1000)\n",
    "#model_1 = main.baseline_mod(σ_DM=0.6, Ubar_CM=1.9, n=0.8,τ_max = 0.01,τgrid_size = 7,N_reimann = 500)\n",
    "#model_2 = main.baseline_mod(σ_DM=0.6, Ubar_CM=1.9, n=0.7,τ_max = 0.01,τgrid_size = 7,N_reimann = 500)\n",
    "#model_3 = main.baseline_mod(σ_DM=0.6, Ubar_CM=1.9, n=0.6,τ_max = 0.01,τgrid_size = 7,N_reimann = 500)\n",
    "#model_4 = main.baseline_mod(σ_DM=0.6, Ubar_CM=1.9, n=0.5,τ_max = 0.01,τgrid_size = 7,N_reimann = 500)\n",
    "#model_5 = main.baseline_mod(σ_DM=0.6, Ubar_CM=1.9, n=0.4,τ_max = 0.01,τgrid_size = 7,N_reimann = 500)\n",
    "#model_6 = main.baseline_mod(σ_DM=0.6, Ubar_CM=1.9, n=0.3,τ_max = 0.01,τgrid_size = 7,N_reimann = 500)\n",
    "\n",
    "model_hlmw =hlmw.hlmw_mod(σ_DM=0.6, Ubar_CM=1.9, n=0.7,τ_max = 0.05,τgrid_size = 30,N_reimann = 1000)\n",
    "#model_hlmw_1 =hlmw.hlmw_mod(σ_DM=0.6, Ubar_CM=1.9, n=0.8,τ_max = 0.01,τgrid_size = 7,N_reimann = 500)\n",
    "#model_hlmw_2 =hlmw.hlmw_mod(σ_DM=0.6, Ubar_CM=1.9, n=0.7,τ_max = 0.01,τgrid_size = 7,N_reimann = 500)\n",
    "#model_hlmw_3 =hlmw.hlmw_mod(σ_DM=0.6, Ubar_CM=1.9, n=0.6,τ_max = 0.01,τgrid_size = 7,N_reimann = 500)\n",
    "#model_hlmw_4 =hlmw.hlmw_mod(σ_DM=0.6, Ubar_CM=1.9, n=0.5,τ_max = 0.01,τgrid_size = 7,N_reimann = 500)\n",
    "#model_hlmw_5 =hlmw.hlmw_mod(σ_DM=0.6, Ubar_CM=1.9, n=0.4,τ_max = 0.01,τgrid_size = 7,N_reimann = 500)\n",
    "#model_hlmw_6 =hlmw.hlmw_mod(σ_DM=0.6, Ubar_CM=1.9, n=0.3,τ_max = 0.01,τgrid_size = 7,N_reimann = 500)"
   ]
  },
  {
   "cell_type": "markdown",
   "metadata": {},
   "source": [
    "### Example 0\n",
    "\n",
    "* Solve system of two equations, given $\\tau=0$"
   ]
  },
  {
   "cell_type": "code",
   "execution_count": 5,
   "metadata": {},
   "outputs": [
    {
     "name": "stdout",
     "output_type": "stream",
     "text": [
      "0.5\n",
      "0.01\n",
      "0.5\n",
      "0.01\n",
      "0.5\n",
      "0.01\n",
      "0.5000000074505806\n",
      "0.01\n",
      "0.5\n",
      "0.010000000149011612\n",
      "0.6240415066430295\n",
      "0.02016220983903879\n",
      "0.6223028523793512\n",
      "0.020172747393653764\n",
      "0.6222743494141857\n",
      "0.02017260893932485\n",
      "0.6222743585895765\n",
      "0.020172604464947074\n",
      "0.6222743585895765 0.020172604464947074 511.6562571525574\n"
     ]
    }
   ],
   "source": [
    "z_guess = 0.5\n",
    "i_guess = 0.01\n",
    "τ = 0\n",
    "\n",
    "tic = time.time()\n",
    "z, i = model.solve_z_i(z_guess, i_guess, τ) \n",
    "toc = time.time() - tic\n",
    "print(z, i, toc)"
   ]
  },
  {
   "cell_type": "markdown",
   "metadata": {},
   "source": [
    "### Example 0: few more check"
   ]
  },
  {
   "cell_type": "code",
   "execution_count": 6,
   "metadata": {},
   "outputs": [
    {
     "data": {
      "text/plain": [
       "2.683911426437646e-10"
      ]
     },
     "execution_count": 6,
     "metadata": {},
     "output_type": "execute_result"
    }
   ],
   "source": [
    "### Check market clearing\n",
    "Excess_loan_demand = model.Total_loan_func(i, z, τ) - model.Total_deposit_func(i, z, τ)\n",
    "Excess_loan_demand"
   ]
  },
  {
   "cell_type": "code",
   "execution_count": 7,
   "metadata": {},
   "outputs": [
    {
     "name": "stdout",
     "output_type": "stream",
     "text": [
      "0.00018076439966764266\n"
     ]
    }
   ],
   "source": [
    "### Check i_star vs. i_policy\n",
    "print(i - model.i_policy(τ) )"
   ]
  },
  {
   "cell_type": "code",
   "execution_count": 8,
   "metadata": {},
   "outputs": [
    {
     "name": "stdout",
     "output_type": "stream",
     "text": [
      "0.6\n",
      "0.0185\n",
      "0.6\n",
      "0.0185\n",
      "0.6\n",
      "0.0185\n",
      "0.6000000089406967\n",
      "0.0185\n",
      "0.6\n",
      "0.01850000027567148\n",
      "0.6222814535864504\n",
      "0.02016820612376401\n",
      "0.6222743301491052\n",
      "0.020172603515076354\n",
      "0.6222743587924237\n",
      "0.02017260445235254\n",
      "0.6222743587924237 0.02017260445235254 444.8037950992584\n"
     ]
    }
   ],
   "source": [
    "### Check where different initial guesses will give the same answer\n",
    "\n",
    "z_guess1 = 0.6\n",
    "i_guess1 = 0.0185\n",
    "τ = 0.0\n",
    "\n",
    "tic = time.time()\n",
    "z, i = model.solve_z_i(z_guess1, i_guess1, τ) # system of two equations given zero inflation\n",
    "toc = time.time() - tic\n",
    "print(z, i, toc)"
   ]
  },
  {
   "cell_type": "markdown",
   "metadata": {},
   "source": [
    "* Different initial guess still give the same answer\n",
    "* Loan market clears\n",
    "* Equilibrium (market) loan rate is higher than the BCW case ($i=(1+\\tau-\\beta)/\\beta)$"
   ]
  },
  {
   "cell_type": "markdown",
   "metadata": {},
   "source": [
    "### Example 0: continues\n",
    "\n",
    "* Solve system of two equations, given $\\tau=0.05$"
   ]
  },
  {
   "cell_type": "code",
   "execution_count": 9,
   "metadata": {},
   "outputs": [
    {
     "name": "stdout",
     "output_type": "stream",
     "text": [
      "0.5\n",
      "0.01\n",
      "0.5\n",
      "0.01\n",
      "0.5\n",
      "0.01\n",
      "0.5000000074505806\n",
      "0.01\n",
      "0.5\n",
      "0.010000000149011612\n",
      "0.570172659287524\n",
      "0.0715964120112544\n",
      "0.5684727062434288\n",
      "0.07174920077846464\n",
      "0.568461793080734\n",
      "0.07174827234602896\n",
      "0.5684616335432041\n",
      "0.07174825454069797\n",
      "0.5684616335432041 0.07174825454069797 504.98130893707275\n"
     ]
    }
   ],
   "source": [
    "τ_1 = 0.05\n",
    "\n",
    "tic = time.time()\n",
    "z_1, i_1 = model.solve_z_i(z_guess, i_guess, τ_1) \n",
    "toc = time.time() - tic\n",
    "print(z_1, i_1, toc)"
   ]
  },
  {
   "cell_type": "code",
   "execution_count": 10,
   "metadata": {},
   "outputs": [
    {
     "data": {
      "text/plain": [
       "-3.7684277920391196e-10"
      ]
     },
     "execution_count": 10,
     "metadata": {},
     "output_type": "execute_result"
    }
   ],
   "source": [
    "\n",
    "### Check market clearing\n",
    "Excess_loan_demand = model.Total_loan_func(i_1, z_1, τ_1) - model.Total_deposit_func(i_1, z_1, τ_1)\n",
    "Excess_loan_demand"
   ]
  },
  {
   "cell_type": "code",
   "execution_count": 11,
   "metadata": {},
   "outputs": [],
   "source": [
    "ρ_grid = np.linspace(model.ρ_min_func(z, i, τ), model.ρ_max_func(z,i), 1000)\n",
    "ρ_grid1 = np.linspace(model.ρ_min_func(z_1, i_1, τ_1), model.ρ_max_func(z_1,i_1), 1000)"
   ]
  },
  {
   "cell_type": "code",
   "execution_count": 12,
   "metadata": {},
   "outputs": [],
   "source": [
    "ξ = [model.ξ_demand_func(ρ, i, z) for ρ in ρ_grid]\n",
    "ξ1 = [model.ξ_demand_func(ρ, i_1, z_1) for ρ in ρ_grid1]"
   ]
  },
  {
   "cell_type": "code",
   "execution_count": 13,
   "metadata": {},
   "outputs": [],
   "source": [
    "ρq = [model.q_expenditure(ρ, i, z) for ρ in ρ_grid]\n",
    "ρq1 = [model.q_expenditure(ρ, i_1, z_1) for ρ in ρ_grid1]"
   ]
  },
  {
   "cell_type": "code",
   "execution_count": 14,
   "metadata": {},
   "outputs": [],
   "source": [
    "F = [model.F_func(ρ, i, z,τ) for ρ in ρ_grid]\n",
    "F1 = [model.F_func(ρ, i_1, z_1,τ_1) for ρ in ρ_grid1]"
   ]
  },
  {
   "cell_type": "code",
   "execution_count": 15,
   "metadata": {},
   "outputs": [
    {
     "data": {
      "image/png": "[encoded data removed]",
      "text/plain": [
       "<Figure size 648x360 with 1 Axes>"
      ]
     },
     "metadata": {},
     "output_type": "display_data"
    }
   ],
   "source": [
    "#plt.style.use(style='default')\n",
    "plt.figure(facecolor='white', figsize=(9,5))\n",
    "plt.plot(ρ_grid, ρq, color='blue', label=r\"$\\tau=0\\%$\")\n",
    "plt.axvline(model.ρ_min_func(z, i, τ), linestyle='--', color='red')\n",
    "plt.axvline(model.ρ_tilde_func(z, i), linestyle='--', color='red')\n",
    "#plt.text(1.12, 0.6, r\"$\\tilde{\\rho}_{i}(\\tau)$\",color='red')\n",
    "plt.axvline(model.ρ_hat_func(z), linestyle='--', color='red')\n",
    "#plt.text(1.185, 0.6, r\"$\\hat{\\rho}(\\tau)$\",color='red')\n",
    "### inflation at 5%\n",
    "plt.plot(ρ_grid1, ρq1, '-.', color='black', label=r\"$\\tau_{1}=5\\%$\")\n",
    "plt.axvline(model.ρ_min_func(z_1, i_1, τ_1), linestyle='--', color='green')\n",
    "plt.axvline(model.ρ_tilde_func(z_1, i_1), linestyle='--', color='green')\n",
    "#plt.text(1.15, 0.45, r\"$\\tilde{\\rho}_{i}(\\tau_{1})$\",color='green')\n",
    "plt.axvline(model.ρ_hat_func(z_1), linestyle='--', color='green')\n",
    "#plt.text(1.31, 0.45, r\"$\\hat{\\rho}(\\tau_{1})$\",color='green')\n",
    "plt.ylabel('Expenditure')\n",
    "plt.xlabel('ρ')\n",
    "plt.legend()\n",
    "plt.savefig(\"dm_expenditure.png\", bbox_inches='tight', pad_inches=0.05)\n",
    "plt.show()\n",
    "\n",
    "\n",
    "#tikzplotlib.save(\"dm_expenditure.tex\")\n",
    "#tikzplotlib.save(\"dm_expenditure.pgf\")\n"
   ]
  },
  {
   "cell_type": "code",
   "execution_count": 16,
   "metadata": {},
   "outputs": [
    {
     "data": {
      "image/png": "[encoded data removed]",
      "text/plain": [
       "<Figure size 648x360 with 1 Axes>"
      ]
     },
     "metadata": {},
     "output_type": "display_data"
    }
   ],
   "source": [
    "#plt.style.use(style='default')\n",
    "plt.figure(facecolor='white', figsize=(9,5))\n",
    "plt.plot(ρ_grid, ξ, color='blue', label=r\"$\\tau=0\\%$\")\n",
    "plt.axvline(model.ρ_min_func(z, i, τ), linestyle='--', color='red')\n",
    "plt.axvline(model.ρ_tilde_func(z, i), linestyle='--', color='red')\n",
    "#plt.text(1.125, 0.08, r\"$\\tilde{\\rho}_{i}(\\tau)$\",color='red')\n",
    "plt.plot(ρ_grid1, ξ1, '-.', color='black', label=r\"$\\tau_{1}=5\\%$\")\n",
    "plt.axvline(model.ρ_min_func(z_1, i_1, τ_1), linestyle='--', color='green')\n",
    "plt.axvline(model.ρ_tilde_func(z_1, i_1), linestyle='--', color='green')\n",
    "#plt.text(1.18, 0.1, r\"$\\tilde{\\rho}_{i}(\\tau_{1})$\",color='green')\n",
    "plt.ylabel('Loan demand')\n",
    "plt.xlabel('ρ')\n",
    "plt.legend()\n",
    "plt.savefig(\"dm_loan.png\", bbox_inches='tight', pad_inches=0.05)\n",
    "plt.show()\n",
    "\n",
    "\n",
    "#tikzplotlib.save(\"dm_loan.tex\")\n",
    "#tikzplotlib.save(\"dm_loan.pgf\")"
   ]
  },
  {
   "cell_type": "code",
   "execution_count": 17,
   "metadata": {
    "scrolled": true
   },
   "outputs": [
    {
     "data": {
      "image/png": "[encoded data removed]",
      "text/plain": [
       "<Figure size 648x360 with 1 Axes>"
      ]
     },
     "metadata": {},
     "output_type": "display_data"
    }
   ],
   "source": [
    "#plt.style.use(style='default')\n",
    "plt.figure(facecolor='white', figsize=(9,5))\n",
    "plt.plot(ρ_grid, F, color='blue', label=r\"$\\tau=0\\%$\")\n",
    "plt.axvline(model.ρ_min_func(z, i, τ), linestyle='--', color='red')\n",
    "plt.plot(ρ_grid1, F1, '-.', color='black', label=r\"$\\tau_{1}=5\\%$\")\n",
    "plt.axvline(model.ρ_min_func(z_1, i_1, τ_1), linestyle='--', color='green')\n",
    "plt.ylabel(\"$CDF$\")\n",
    "plt.xlabel(\"ρ\")\n",
    "plt.legend()\n",
    "plt.savefig(\"cdf.png\", bbox_inches='tight', pad_inches=0.05)\n",
    "plt.show()\n",
    "\n",
    "\n",
    "#tikzplotlib.save(\"cdf.tex\")\n",
    "#tikzplotlib.save(\"cdf.pgf\")"
   ]
  },
  {
   "cell_type": "markdown",
   "metadata": {},
   "source": [
    "### Example 1: Baseline vs. HLMW given $\\tau = 0$\n"
   ]
  },
  {
   "cell_type": "code",
   "execution_count": 18,
   "metadata": {},
   "outputs": [
    {
     "data": {
      "text/plain": [
       "(0.6222743587924237, 0.02017260445235254)"
      ]
     },
     "execution_count": 18,
     "metadata": {},
     "output_type": "execute_result"
    }
   ],
   "source": [
    "# Recall: baseline z and i, given τ = 0.0\n",
    "z,i"
   ]
  },
  {
   "cell_type": "code",
   "execution_count": 19,
   "metadata": {},
   "outputs": [
    {
     "data": {
      "text/plain": [
       "0.8873647413376011"
      ]
     },
     "execution_count": 19,
     "metadata": {},
     "output_type": "execute_result"
    }
   ],
   "source": [
    "z_hlmw = model_hlmw.z_solver(τ)\n",
    "z_hlmw"
   ]
  },
  {
   "cell_type": "code",
   "execution_count": 20,
   "metadata": {},
   "outputs": [],
   "source": [
    "ρ_grid_hlmw = np.linspace(model_hlmw.ρ_min_func(z_hlmw, τ), model_hlmw.ρ_max_func(z_hlmw), 1000)\n",
    "\n",
    "ρq_hlmw = [model_hlmw.q_expenditure(ρ, z_hlmw) for ρ in ρ_grid_hlmw]\n",
    "F_hlmw = [model_hlmw.F_func(ρ, z_hlmw) for ρ in ρ_grid_hlmw]\n"
   ]
  },
  {
   "cell_type": "code",
   "execution_count": 21,
   "metadata": {},
   "outputs": [
    {
     "data": {
      "image/png": "[encoded data removed]",
      "text/plain": [
       "<Figure size 432x288 with 1 Axes>"
      ]
     },
     "metadata": {},
     "output_type": "display_data"
    }
   ],
   "source": [
    "#plt.style.use(style='default')\n",
    "plt.figure(facecolor='white')\n",
    "plt.plot(ρ_grid, ρq, color='blue', label=\"Baseline:\" r\"$\\tau=0\\%$\")\n",
    "#plt.axvline(model.ρ_min_func(z, i, τ), linestyle='--', color='blue')\n",
    "plt.axvline(model.ρ_tilde_func(z, i), linestyle='--', color='blue')\n",
    "plt.text(1.16, 0.5, r\"$\\tilde{\\rho}_{i}$\",color='blue')\n",
    "plt.axvline(model.ρ_hat_func(z), linestyle='--', color='blue')\n",
    "plt.text(1.19, 0.5, r\"$\\hat{\\rho}$\", color='blue')\n",
    "plt.plot(ρ_grid_hlmw, ρq_hlmw, '-.', color='red', label=\"HLMW:\" r\"$\\tau=0\\%$\")\n",
    "#plt.axvline(model_hlmw.ρ_min_func(z_hlmw, τ), linestyle='--', color='orange')\n",
    "plt.axvline(model_hlmw.ρ_hat_func(z_hlmw), linestyle='--', color='red')\n",
    "plt.text(1.08, 0.5, r\"$\\hat{\\rho}_{HLMW}$\", color='red')\n",
    "plt.ylabel('Expenditure')\n",
    "plt.xlabel('ρ')\n",
    "plt.legend()\n",
    "plt.savefig(\"klln_hlmw_expenditure.png\", bbox_inches='tight', pad_inches=0.05)\n",
    "plt.show()\n",
    "\n",
    "\n",
    "#tikzplotlib.save(\"klln_hlmw_expenditure.tex\")\n",
    "#tikzplotlib.save(\"klln_hlmw_expenditure.pgf\")\n"
   ]
  },
  {
   "cell_type": "code",
   "execution_count": 22,
   "metadata": {},
   "outputs": [
    {
     "data": {
      "image/png": "[encoded data removed]",
      "text/plain": [
       "<Figure size 432x288 with 1 Axes>"
      ]
     },
     "metadata": {},
     "output_type": "display_data"
    }
   ],
   "source": [
    "#plt.style.use(style='default')\n",
    "plt.figure(facecolor='white')\n",
    "plt.plot(ρ_grid, F, color='blue', label=\"Baseline:\" r\"$\\tau=0\\%$\")\n",
    "plt.axvline(model.ρ_min_func(z, i, τ), linestyle='--', color='blue')\n",
    "plt.plot(ρ_grid_hlmw, F_hlmw, '-.', color='red', label=\"HLMW:\" r\"$\\tau=0\\%$\")\n",
    "plt.axvline(model_hlmw.ρ_min_func(z_hlmw, τ), linestyle='--', color='red')\n",
    "\n",
    "plt.axvline(model.ρ_tilde_func(z, i), linestyle='--', color='blue')\n",
    "plt.text(1.16, 0.0, r\"$\\tilde{\\rho}_{i}$\",color='blue')\n",
    "plt.axvline(model.ρ_hat_func(z), linestyle='--', color='blue')\n",
    "plt.text(1.19, 0.0, r\"$\\hat{\\rho}$\", color='blue')\n",
    "\n",
    "#plt.axvline(model_hlmw.ρ_min_func(z_hlmw, τ), linestyle='--', color='orange')\n",
    "plt.axvline(model_hlmw.ρ_hat_func(z_hlmw), linestyle='--', color='red')\n",
    "plt.text(1.08, 0.0, r\"$\\hat{\\rho}_{HLMW}$\", color='red')\n",
    "\n",
    "plt.ylabel(r\"$CDF$\")\n",
    "plt.xlabel(\"ρ\")\n",
    "plt.legend()\n",
    "plt.savefig(\"klln_hlmw_cdf.png\", bbox_inches='tight', pad_inches=0.05)\n",
    "plt.show()"
   ]
  },
  {
   "cell_type": "markdown",
   "metadata": {},
   "source": [
    "### SME: HLMW + perfectly competitive banks (Baseline)\n",
    "\n",
    "* Vary $\\tau \\in [\\beta-1, 0.1]$"
   ]
  },
  {
   "cell_type": "code",
   "execution_count": null,
   "metadata": {},
   "outputs": [
    {
     "name": "stdout",
     "output_type": "stream",
     "text": [
      "-0.01959999999999995\n",
      "-0.01719999999999995\n",
      "0.4\n",
      "0.01\n",
      "0.4\n",
      "0.01\n",
      "0.4\n",
      "0.01\n",
      "0.4000000059604645\n",
      "0.01\n",
      "0.4\n",
      "0.010000000149011612\n",
      "0.6425723845232127\n",
      "0.0024688452869024036\n",
      "0.6424153979883356\n",
      "0.002468963283753336\n",
      "0.6424152874369488\n",
      "0.0024689416377727787\n",
      "-0.014799999999999954\n",
      "0.4\n",
      "0.01\n",
      "0.4\n",
      "0.01\n",
      "0.4\n",
      "0.01\n",
      "0.4000000059604645\n",
      "0.01\n",
      "0.4\n",
      "0.010000000149011612\n",
      "0.6399866818288212\n",
      "0.004937686852316898\n",
      "0.6395519900431089\n",
      "0.004938177216237752\n",
      "0.6395509860153339\n",
      "0.004938136441491288\n",
      "-0.012399999999999956\n",
      "0.4\n",
      "0.01\n",
      "0.4\n",
      "0.01\n",
      "0.4\n",
      "0.01\n",
      "0.4000000059604645\n",
      "0.01\n",
      "0.4\n",
      "0.010000000149011612\n",
      "0.6374009791344301\n",
      "0.007406528417731168\n",
      "0.6367072192163733\n",
      "0.007407681999716365\n",
      "0.6367045786438348\n",
      "0.00740763336620808\n",
      "-0.009999999999999957\n",
      "0.4\n",
      "0.01\n",
      "0.4\n",
      "0.01\n",
      "0.4\n",
      "0.01\n",
      "0.4000000059604645\n",
      "0.01\n",
      "0.4\n",
      "0.010000000149011612\n",
      "0.6348152764400385\n",
      "0.009875369983145662\n",
      "0.6338805820079622\n",
      "0.009877613523787625\n",
      "0.6338756442816248\n",
      "0.009877583326007886\n",
      "0.6338756452113176\n",
      "0.009877583272973056\n",
      "-0.0075999999999999575\n",
      "0.4\n",
      "0.01\n",
      "0.4\n",
      "0.01\n",
      "0.4\n",
      "0.01\n",
      "0.4000000059604645\n",
      "0.01\n",
      "0.4\n",
      "0.010000000149011612\n",
      "0.6322295737456474\n",
      "0.012344211548559933\n",
      "0.6310717711385369\n",
      "0.012347854548475234\n",
      "0.6310641933461943\n",
      "0.012347800590140722\n",
      "0.631064195467577\n",
      "0.01234780032192\n",
      "-0.00519999999999996\n",
      "0.4\n",
      "0.01\n",
      "0.4\n",
      "0.01\n",
      "0.4\n",
      "0.01\n",
      "0.4000000059604645\n",
      "0.01\n",
      "0.4\n",
      "0.010000000149011612\n",
      "0.629643871051256\n",
      "0.014813053113974427\n",
      "0.628280769020113\n",
      "0.014818366649324965\n",
      "0.6282699880094101\n",
      "0.014818382423146564\n",
      "0.6282699857565592\n",
      "0.01481838074503481\n",
      "-0.0027999999999999622\n",
      "0.4\n",
      "0.01\n",
      "0.4\n",
      "0.01\n",
      "0.4\n",
      "0.01\n",
      "0.4000000059604645\n",
      "0.01\n",
      "0.4\n",
      "0.010000000149011612\n",
      "0.6270581683568647\n",
      "0.017281894679388697\n",
      "0.6255067880696128\n",
      "0.01728947982079122\n",
      "0.6254929080174675\n",
      "0.017289310375734963\n",
      "0.6254929528819497\n",
      "0.017289293031325488\n",
      "-0.0003999999999999629\n",
      "0.4\n",
      "0.01\n",
      "0.4\n",
      "0.01\n",
      "0.4\n",
      "0.01\n",
      "0.4000000059604645\n",
      "0.01\n",
      "0.4\n",
      "0.010000000149011612\n",
      "0.6244724656624733\n",
      "0.01975073624480319\n",
      "0.6227500671412203\n",
      "0.019760895211812755\n",
      "0.6227329371714455\n",
      "0.019760534893364618\n",
      "0.6227330042811878\n",
      "0.019760511440685136\n",
      "0.0020000000000000365\n",
      "0.4\n",
      "0.01\n",
      "0.4\n",
      "0.01\n",
      "0.4\n",
      "0.01\n",
      "0.4000000059604645\n",
      "0.01\n",
      "0.4\n",
      "0.010000000149011612\n",
      "0.6218867629680821\n",
      "0.02221957781021746\n",
      "0.6200102290200228\n",
      "0.0222325754105437\n",
      "0.619989415025115\n",
      "0.022232418060096033\n",
      "0.6199894278185782\n",
      "0.02223241246819152\n",
      "0.004400000000000036\n",
      "0.4\n",
      "0.01\n",
      "0.4\n",
      "0.01\n",
      "0.4\n",
      "0.01\n",
      "0.4000000059604645\n",
      "0.01\n",
      "0.4\n",
      "0.010000000149011612\n",
      "0.6193010602736908\n",
      "0.02468841937563173\n",
      "0.6172867982746445\n",
      "0.024704849800049007\n",
      "0.6172627180938264\n",
      "0.02470451095787369\n",
      "0.6172628096892823\n",
      "0.024704467190253643\n",
      "0.006800000000000032\n",
      "0.4\n",
      "0.01\n",
      "0.4\n",
      "0.01\n",
      "0.4\n",
      "0.01\n",
      "0.4000000059604645\n",
      "0.01\n",
      "0.4\n",
      "0.010000000149011612\n",
      "0.6167153575792994\n",
      "0.027157260941046223\n",
      "0.6145798969617512\n",
      "0.027177444542691498\n",
      "0.6145526248567106\n",
      "0.027177055777903563\n",
      "0.6145526496305566\n",
      "0.027177047109528233\n",
      "0.009200000000000031\n",
      "0.4\n",
      "0.01\n",
      "0.4\n",
      "0.01\n",
      "0.4\n",
      "0.01\n",
      "0.4000000059604645\n",
      "0.01\n",
      "0.4\n",
      "0.010000000149011612\n",
      "0.614129654884908\n",
      "0.029626102506460722\n",
      "0.6118891824372654\n",
      "0.029650428785033392\n",
      "0.6118589113055132\n",
      "0.029649913383653432\n",
      "0.6118589394744295\n",
      "0.029649902983768434\n",
      "0.01160000000000003\n",
      "0.4\n",
      "0.01\n",
      "0.4\n",
      "0.01\n",
      "0.4\n",
      "0.01\n",
      "0.4000000059604645\n",
      "0.01\n",
      "0.4\n",
      "0.010000000149011612\n",
      "0.6115439521905167\n",
      "0.03209494407187499\n",
      "0.6092144892249912\n",
      "0.032123783223380976\n",
      "0.6091815085442959\n",
      "0.032123243662838086\n",
      "0.6091815373983895\n",
      "0.03212322907167643\n",
      "0.014000000000000026\n",
      "0.4\n",
      "0.01\n",
      "0.4\n",
      "0.01\n",
      "0.4\n",
      "0.01\n",
      "0.4000000059604645\n",
      "0.01\n",
      "0.4\n",
      "0.010000000149011612\n",
      "0.6089582494961255\n",
      "0.03456378563728926\n",
      "0.6065555257858355\n",
      "0.034597663595589224\n",
      "0.606520284692354\n",
      "0.034596861085743474\n",
      "0.6065204189006246\n",
      "0.034596782930575394\n",
      "0.016400000000000026\n",
      "0.4\n",
      "0.01\n",
      "0.4\n",
      "0.01\n",
      "0.4\n",
      "0.01\n",
      "0.4000000059604645\n",
      "0.01\n",
      "0.4\n",
      "0.010000000149011612\n",
      "0.6063725468017344\n",
      "0.037032627202703526\n",
      "0.6039122555603905\n",
      "0.03707179569735228\n",
      "0.6038750965247531\n",
      "0.03707096553786374\n",
      "0.6038751230939982\n",
      "0.03707094701652294\n",
      "0.018800000000000025\n",
      "0.4\n",
      "0.01\n",
      "0.4\n",
      "0.01\n",
      "0.4\n",
      "0.01\n",
      "0.4000000059604645\n",
      "0.01\n",
      "0.4\n",
      "0.010000000149011612\n",
      "0.6037868441073428\n",
      "0.039501468768118025\n",
      "0.6012844664389485\n",
      "0.03954629842854849\n",
      "0.6012458267349952\n",
      "0.03954546048493377\n",
      "0.6012458487076395\n",
      "0.039545436839865056\n",
      "0.021200000000000024\n",
      "0.4\n",
      "0.01\n",
      "0.4\n",
      "0.01\n",
      "0.4\n",
      "0.01\n",
      "0.4000000059604645\n",
      "0.01\n",
      "0.4\n",
      "0.010000000149011612\n",
      "0.6012011398404623\n",
      "0.04197031183495283\n",
      "0.5986719152493214\n",
      "0.04202130584502009\n",
      "0.5986324676495991\n",
      "0.042020192858302635\n",
      "0.5986323757802609\n",
      "0.04202031381734296\n",
      "0.023600000000000024\n",
      "0.4\n",
      "0.01\n",
      "0.4\n",
      "0.01\n",
      "0.4\n",
      "0.01\n",
      "0.4000000059604645\n",
      "0.01\n",
      "0.4\n",
      "0.010000000149011612\n",
      "0.5986154370246388\n",
      "0.044439153516311204\n",
      "0.596074516737079\n",
      "0.044496688500245234\n",
      "0.5960346851087812\n",
      "0.04449546381704088\n",
      "0.5960346828490233\n",
      "0.04449543835969414\n",
      "0.026000000000000023\n",
      "0.4\n",
      "0.01\n",
      "0.4\n",
      "0.01\n",
      "0.4\n",
      "0.01\n",
      "0.4000000059604645\n",
      "0.01\n",
      "0.4\n",
      "0.010000000149011612\n",
      "0.5960297342088153\n",
      "0.046907995197669576\n",
      "0.5934922685519691\n",
      "0.046972278219613854\n",
      "0.5934524986828354\n",
      "0.04697110095779453\n",
      "0.5934524855952644\n",
      "0.04697107116439889\n",
      "0.028400000000000022\n",
      "0.4\n",
      "0.01\n",
      "0.4\n",
      "0.01\n",
      "0.4\n",
      "0.01\n",
      "0.4000000059604645\n",
      "0.01\n",
      "0.4\n",
      "0.010000000149011612\n",
      "0.5934440313929916\n",
      "0.04937683687902817\n",
      "0.5909248111972252\n",
      "0.04944837976930084\n",
      "0.5908857724221963\n",
      "0.04944711670058279\n",
      "0.5908857429815183\n",
      "0.0494470844187402\n"
     ]
    }
   ],
   "source": [
    "z_guess = 0.4\n",
    "i_guess = 0.01\n",
    "result = model.SME_stat(z_guess, i_guess) # this uses fsolve\n",
    "#result_1 = model_1.SME_stat(z_guess, i_guess) # this uses fsolve\n",
    "#result_2 = model_2.SME_stat(z_guess, i_guess) # this uses fsolve\n",
    "#result_3 = model_3.SME_stat(z_guess, i_guess) # this uses fsolve\n",
    "#result_4 = model_4.SME_stat(z_guess, i_guess) # this uses fsolve\n",
    "#result_5 = model_5.SME_stat(z_guess, i_guess) # this uses fsolve\n",
    "#result_6 = model_6.SME_stat(z_guess, i_guess) # this uses fsolve"
   ]
  },
  {
   "cell_type": "code",
   "execution_count": null,
   "metadata": {},
   "outputs": [],
   "source": [
    "z = result['allocation_grid']['zstar']\n",
    "q = result['allocation_grid']['qstar']\n",
    "ξ = result['allocation_grid']['ξstar']\n",
    "i = result['allocation_grid']['istar']\n",
    "DM_surplus = result['allocation_grid']['DM_surplus']\n",
    "W = result['allocation_grid']['w_star']\n",
    "W_BCW = result['allocation_grid']['w_bcw']\n",
    "\n",
    "mpy = result['stat_grid']['mpy_star']\n",
    "markup = result['stat_grid']['markup_mean']\n",
    "markup_cv = result['stat_grid']['markup_cv']\n",
    "loan_gdp = result['stat_grid']['credit_gdp']\n",
    "loan_gdp_bcw = result['stat_grid']['credit_gdp_bcw']"
   ]
  },
  {
   "cell_type": "markdown",
   "metadata": {},
   "source": [
    "### HLMW: without banks"
   ]
  },
  {
   "cell_type": "code",
   "execution_count": null,
   "metadata": {},
   "outputs": [],
   "source": [
    "result_hlmw = model_hlmw.SME_stat() # this uses brentq only\n",
    "#result_hlmw_1 = model_hlmw_1.SME_stat() # this uses brentq only\n",
    "#result_hlmw_2 = model_hlmw_2.SME_stat() # this uses brentq only\n",
    "#result_hlmw_3 = model_hlmw_3.SME_stat() # this uses brentq only\n",
    "#result_hlmw_4 = model_hlmw_4.SME_stat() # this uses brentq only\n",
    "#result_hlmw_5 = model_hlmw_5.SME_stat() # this uses brentq only\n",
    "#result_hlmw_6 = model_hlmw_6.SME_stat() # this uses brentq only"
   ]
  },
  {
   "cell_type": "code",
   "execution_count": null,
   "metadata": {},
   "outputs": [],
   "source": [
    "z_hlmw = result_hlmw['allocation_grid']['zstar']\n",
    "q_hlmw = result_hlmw['allocation_grid']['qstar']\n",
    "W_hlmw = result_hlmw['allocation_grid']['w_star']\n",
    "DM_surplus_hlmw = result_hlmw['allocation_grid']['DM_surplus']\n",
    "\n",
    "mpy_hlmw = result_hlmw['stat_grid']['mpy_star']\n",
    "markup_hlmw = result_hlmw['stat_grid']['markup_mean']\n",
    "markup_cv_hlmw = result_hlmw['stat_grid']['markup_cv']"
   ]
  },
  {
   "cell_type": "code",
   "execution_count": null,
   "metadata": {},
   "outputs": [],
   "source": [
    "τ_grid = model.τ_grid # inflation rate grid\n",
    "i_grid = model.i_policy(τ_grid)"
   ]
  },
  {
   "cell_type": "code",
   "execution_count": null,
   "metadata": {},
   "outputs": [],
   "source": [
    "font = {'family' : 'serif','weight':'normal',\n",
    "        'size'   : 10}\n",
    "plt.rc('font', **font)"
   ]
  },
  {
   "cell_type": "markdown",
   "metadata": {},
   "source": [
    "### Difference welfare\n",
    "\n",
    "* Comparision 1: $DW_{1}:= W_{Baseline} - W_{HLMW}$\n",
    "    * Baseline economy: Price dispersion + perfectly competitive banks \n",
    "    * HLMW: Price dispersion\n",
    "    * This shows the welfare gains/losses by isolating effects of **banking** only\n",
    "    \n",
    "    \n",
    "* Comparision 2: $DW_{2}:= W_{BCW} -  W_{Baseline}$\n",
    "    * Baseline economy: Price dispersion + perfectly competitive banks \n",
    "    * BCW: Competitive pricing + perfectly competitive banks\n",
    "    * This shows the welfare gains/losses by isolating effects of **price dispersion** only\n",
    "    \n",
    "    \n",
    "* Comparision 3: $DW_{3}:= W_{BCW} - W_{HLMW}$\n",
    "    * HLMW: Price dispersion\n",
    "    * BCW: Competitive pricing + perfectly competitive banks\n",
    "    * This shows the welfare gains/losses by having both effects of **price dispersion** and **banking**"
   ]
  },
  {
   "cell_type": "code",
   "execution_count": null,
   "metadata": {},
   "outputs": [],
   "source": [
    "W = result['allocation_grid']['w_star']\n",
    "W_hlmw = result_hlmw['allocation_grid']['w_star']"
   ]
  },
  {
   "cell_type": "code",
   "execution_count": null,
   "metadata": {},
   "outputs": [],
   "source": [
    "DW = W - W_hlmw # Baseline vs. HLMW\n",
    "DW_2 = W_BCW - W # BCW vs. Baseline\n",
    "DW_3 = W_BCW - W_hlmw # BCW vs. HLMW"
   ]
  },
  {
   "cell_type": "code",
   "execution_count": null,
   "metadata": {},
   "outputs": [],
   "source": [
    "#plt.style.use(style='default')\n",
    "plt.figure(facecolor='white')\n",
    "plt.plot(i_grid*100, DW, label='Baseline vs. HLMW',color='r')\n",
    "plt.axhline(y=0,color=\"black\", linestyle='--',linewidth=1.0)\n",
    "plt.ylabel(\"DW\")\n",
    "plt.xlabel(\"Nominal interest rate (%)\")\n",
    "plt.legend()\n",
    "plt.savefig(\"DW.png\")\n",
    "plt.show()\n",
    "\n",
    "\n",
    "#tikzplotlib.save(\"DW.tex\")\n",
    "#tikzplotlib.save(\"DW.pgf\")"
   ]
  },
  {
   "cell_type": "code",
   "execution_count": null,
   "metadata": {},
   "outputs": [],
   "source": []
  },
  {
   "cell_type": "code",
   "execution_count": null,
   "metadata": {},
   "outputs": [],
   "source": [
    "plt.rcParams['font.family'] = 'serif'"
   ]
  },
  {
   "cell_type": "code",
   "execution_count": null,
   "metadata": {},
   "outputs": [],
   "source": [
    "#plt.style.use(style='default')\n",
    "plt.figure(facecolor='white')\n",
    "plt.plot(i_grid*100, DW, color='blue', label='Baseline vs. HLMW')\n",
    "plt.plot(i_grid*100, DW_2, '--', color='green', label='BCW vs. Baseline')\n",
    "plt.plot(i_grid*100, DW_3, '--.', color='orange', label='BCW vs. HLMW')\n",
    "#plt.plot(i_grid*100, np.zeros(DW.size))\n",
    "plt.axhline(y=0,color=\"black\", linestyle='--',linewidth=1.0)\n",
    "plt.ylabel(\"$DW$\")\n",
    "plt.xlabel(\"Nominal interest rate (%)\")\n",
    "plt.legend()\n",
    "plt.savefig(\"dw_all.png\")\n",
    "\n",
    "plt.show()"
   ]
  },
  {
   "cell_type": "code",
   "execution_count": null,
   "metadata": {},
   "outputs": [],
   "source": []
  },
  {
   "cell_type": "code",
   "execution_count": null,
   "metadata": {},
   "outputs": [],
   "source": [
    "def gap_percent_func(delta_W_bank, W_no_bank):\n",
    "    \"\"\"Use this function to calculate CEV\"\"\"\n",
    "    n_point = 60\n",
    "    delta = np.append(np.linspace(2, 1, round(n_point/2), endpoint=False), (np.linspace(1, 0.1, round(n_point/2))))\n",
    "    gap_welfare = delta_W_bank - W_no_bank\n",
    "    interp_fn = interpolate.interp1d(delta, gap_welfare, 'cubic')\n",
    "    interp_fn2 = lambda x: interp_fn(x) - 0.0\n",
    "    gap_delta = brentq(interp_fn2, delta.min(), delta.max())\n",
    "    cev = (1.0 - gap_delta) * 100\n",
    "    return cev"
   ]
  },
  {
   "cell_type": "code",
   "execution_count": null,
   "metadata": {},
   "outputs": [],
   "source": [
    "def calculate_cev_percent(τ, z_guess, i_guess, case='Case1'):\n",
    "    n_point = 60\n",
    "    delta = np.append(np.linspace(2, 1, round(n_point/2), endpoint=False), (np.linspace(1, 0.1, round(n_point/2))))\n",
    "\n",
    "    # klln\n",
    "    z, i = model.solve_z_i(z_guess, i_guess, τ)\n",
    "\n",
    "    # hlmw\n",
    "    z_hlmw = model_hlmw.z_solver(τ)\n",
    "    \n",
    "    # Welfare increases by delta\n",
    "    if case == 'Case1':\n",
    "        delta_klln = [model.welfare_func_delta(z, i, τ, k) for k in delta]\n",
    "            \n",
    "    elif case == 'Case2':\n",
    "        delta_bcw = [model.welfare_bcw_func_delta(τ, k) for k in delta]\n",
    "            \n",
    "    elif case == 'Case3':\n",
    "        delta_bcw = [model.welfare_bcw_func_delta(τ, k) for k in delta]\n",
    "\n",
    "    ### HLMW\n",
    "    welfare_hlmw = model_hlmw.welfare_func(z_hlmw, τ)\n",
    "    \n",
    "    ### Baseline\n",
    "    welfare_klln = model.welfare_func(z, i, τ)\n",
    "    \n",
    "    ### BCW\n",
    "    welfare_bcw = model.welfare_bcw_func(τ)\n",
    "    \n",
    "    if case == 'Case1':\n",
    "        cev_percent = gap_percent_func(delta_klln, welfare_hlmw)\n",
    "        \n",
    "    elif case == 'Case2':\n",
    "        cev_percent = gap_percent_func(delta_bcw, welfare_klln)\n",
    "        \n",
    "    elif case == 'Case3':\n",
    "        cev_percent = gap_percent_func(delta_bcw, welfare_hlmw)\n",
    "  \n",
    "\n",
    "    return cev_percent\n"
   ]
  },
  {
   "cell_type": "code",
   "execution_count": null,
   "metadata": {},
   "outputs": [],
   "source": []
  },
  {
   "cell_type": "code",
   "execution_count": null,
   "metadata": {},
   "outputs": [],
   "source": [
    "Case1_cev = [calculate_cev_percent(j, z_guess, i_guess, case='Case1') for j in τ_grid ]"
   ]
  },
  {
   "cell_type": "code",
   "execution_count": null,
   "metadata": {},
   "outputs": [],
   "source": [
    "Case2_cev = [calculate_cev_percent(j, z_guess, i_guess, case='Case2') for j in τ_grid ]"
   ]
  },
  {
   "cell_type": "code",
   "execution_count": null,
   "metadata": {},
   "outputs": [],
   "source": [
    "Case3_cev = [calculate_cev_percent(j, z_guess, i_guess, case='Case3') for j in τ_grid ]"
   ]
  },
  {
   "cell_type": "code",
   "execution_count": null,
   "metadata": {},
   "outputs": [],
   "source": [
    "\n",
    "plt.figure(facecolor='white')\n",
    "plt.plot(i_grid*100, Case1_cev, label='Baseline vs. HLMW',color='r')\n",
    "plt.axhline(y=0,color=\"black\", linestyle='--',linewidth=1.0)\n",
    "plt.ylabel(\"$CEV$\")\n",
    "plt.xlabel(\"Nominal interest rate (%)\")\n",
    "plt.legend()\n",
    "plt.savefig(\"cev.png\")\n",
    "plt.show()\n"
   ]
  },
  {
   "cell_type": "code",
   "execution_count": null,
   "metadata": {},
   "outputs": [],
   "source": []
  },
  {
   "cell_type": "code",
   "execution_count": null,
   "metadata": {},
   "outputs": [],
   "source": [
    "#plt.style.use(style='default')\n",
    "plt.figure(facecolor='white')\n",
    "plt.plot(i_grid*100, Case1_cev, color='blue', label='Baseline vs. HLMW')\n",
    "plt.plot(i_grid*100, Case2_cev, '--', color='green', label='BCW vs. Baseline')\n",
    "plt.plot(i_grid*100, Case3_cev, '--.', color='orange', label='BCW vs. HLMW')\n",
    "plt.plot(i_grid*100, np.zeros(τ_grid.size))\n",
    "plt.ylabel(\"$CEV$\")\n",
    "plt.xlabel(\"Nominal interest rate (%)\")\n",
    "plt.legend()\n",
    "plt.savefig(\"cev_all.png\")\n",
    "plt.show()"
   ]
  },
  {
   "cell_type": "code",
   "execution_count": null,
   "metadata": {},
   "outputs": [],
   "source": []
  },
  {
   "cell_type": "code",
   "execution_count": null,
   "metadata": {},
   "outputs": [],
   "source": [
    "#plt.style.use(style='default')\n",
    "plt.figure(facecolor='white')\n",
    "plt.plot(i_grid[1:]*100, markup[1:], color='blue', label='Baseline') #exclude FR\n",
    "plt.plot(i_grid[1:]*100, markup_hlmw[1:], '-.', color='red', label='HLMW') #exclude FR\n",
    "plt.ylabel(r'$μ$')\n",
    "plt.xlabel(\"Nominal interest rate (%)\")\n",
    "plt.legend()\n",
    "#plt.yticks(np.arange(1.15,1.41, 0.05))\n",
    "#plt.xlim(-0.5,10)\n",
    "plt.savefig(\"markup.png\", bbox_inches='tight', pad_inches=0.05)\n",
    "plt.show()\n",
    "\n",
    "\n",
    "#tikzplotlib.save(\"markup.tex\")\n",
    "#tikzplotlib.save(\"markup.pgf\")"
   ]
  },
  {
   "cell_type": "code",
   "execution_count": null,
   "metadata": {},
   "outputs": [],
   "source": [
    "#plt.style.use(style='default')\n",
    "plt.figure(facecolor='white')\n",
    "plt.plot(i_grid[1:]*100, z[1:], color='blue', label='Baseline') #exclude FR\n",
    "plt.plot(i_grid[1:]*100, z_hlmw[1:], '-.', color='red', label='HLMW') #exclude FR\n",
    "plt.ylabel(r'$μ$')\n",
    "plt.xlabel(\"Nominal interest rate (%)\")\n",
    "plt.legend()\n",
    "#plt.yticks(np.arange(1.15,1.41, 0.05))\n",
    "#plt.xlim(-0.5,10)\n",
    "plt.savefig(\"real_balance.png\", bbox_inches='tight', pad_inches=0.05)\n",
    "plt.show()"
   ]
  },
  {
   "cell_type": "code",
   "execution_count": null,
   "metadata": {},
   "outputs": [],
   "source": [
    "#plt.style.use(style='default')\n",
    "plt.figure(facecolor='white')\n",
    "plt.plot(i_grid[1:]*100, q[1:], color='blue', label='Baseline') #exclude FR\n",
    "plt.plot(i_grid[1:]*100, q_hlmw[1:], '-.', color='red', label='HLMW') #exclude FR\n",
    "plt.ylabel(r'$μ$')\n",
    "plt.xlabel(\"Nominal interest rate (%)\")\n",
    "plt.legend()\n",
    "#plt.yticks(np.arange(1.15,1.41, 0.05))\n",
    "#plt.xlim(-0.5,10)\n",
    "plt.savefig(\"DM_good.png\", bbox_inches='tight', pad_inches=0.05)\n",
    "plt.show()"
   ]
  },
  {
   "cell_type": "code",
   "execution_count": null,
   "metadata": {},
   "outputs": [],
   "source": [
    "#plt.style.use(style='default')\n",
    "plt.figure(facecolor='white')\n",
    "plt.plot(i_grid[1:]*100, markup_cv[1:], color='blue', label='Baseline') #exclude FR\n",
    "plt.plot(i_grid[1:]*100, markup_cv_hlmw[1:], '-.', color='red', label='HLMW') #exclude FR\n",
    "plt.ylabel(r'$CV_{μ}$')\n",
    "plt.xlabel(\"Nominal interest rate (%)\")\n",
    "plt.legend()\n",
    "#plt.xlim(-0.5,10)\n",
    "plt.savefig(\"markup_cv.png\", bbox_inches='tight', pad_inches=0.05)\n",
    "plt.show()\n",
    "\n",
    "\n",
    "#tikzplotlib.save(\"markup_cv.tex\")\n",
    "#tikzplotlib.save(\"markup_cv.pgf\")"
   ]
  },
  {
   "cell_type": "code",
   "execution_count": null,
   "metadata": {},
   "outputs": [],
   "source": []
  },
  {
   "cell_type": "code",
   "execution_count": null,
   "metadata": {},
   "outputs": [],
   "source": [
    "#plt.style.use(style='default')\n",
    "plt.figure(facecolor='white')\n",
    "plt.plot(i_grid[1:]*100, loan_gdp[1:], color='blue', label='Baseline') #exclude FR\n",
    "plt.plot(i_grid[1:]*100, loan_gdp_bcw[1:], '--.', color='orange', label='BCW') #exclude FR\n",
    "plt.ylabel('Loan-to-GDP')\n",
    "plt.xlabel(\"Nominal interest rate (%)\")\n",
    "plt.legend()\n",
    "plt.savefig(\"loan_gdp.png\", bbox_inches='tight', pad_inches=0)\n",
    "plt.show()\n",
    "\n",
    "\n",
    "#tikzplotlib.save(\"loan_gdp.tex\")\n",
    "#tikzplotlib.save(\"loan_gdp.pgf\")"
   ]
  },
  {
   "cell_type": "code",
   "execution_count": null,
   "metadata": {},
   "outputs": [],
   "source": []
  },
  {
   "cell_type": "code",
   "execution_count": null,
   "metadata": {},
   "outputs": [],
   "source": [
    "##### ZOOM-IN\n",
    "\n",
    "##### plt.style.use(style='default')\n",
    "plt.figure(facecolor='white')\n",
    "# Initialize a flag to indicate when the label has been added\n",
    "label_added_red = False\n",
    "label_added_blue = False\n",
    "\n",
    "for i in range(1, len(i_grid[0:60])):\n",
    "    if Case1_cev[i-1] <= 0 and Case1_cev[i] > 0 or Case1_cev[i-1] > 0 and Case1_cev[i] > 0:\n",
    "        # This segment is positive, plot in blue\n",
    "        if not label_added_blue:\n",
    "            plt.plot(i_grid[i-1:i+1]*100, Case1_cev[i-1:i+1], color='blue', linestyle=':', label='Baseline vs. HLMW')\n",
    "            label_added_blue = True\n",
    "        else:\n",
    "            plt.plot(i_grid[i-1:i+1]*100, Case1_cev[i-1:i+1], color='blue', linestyle=':')\n",
    "    else:\n",
    "        # This segment is not positive, plot in dark red\n",
    "        if not label_added_red:\n",
    "            plt.plot(i_grid[i-1:i+1]*100, Case1_cev[i-1:i+1], color='darkred', linestyle=':')\n",
    "            label_added_red = True\n",
    "        else:\n",
    "            plt.plot(i_grid[i-1:i+1]*100, Case1_cev[i-1:i+1], color='darkred', linestyle=':')\n",
    "\n",
    "\n",
    "#plt.plot(i_grid[0:10]*100, np.zeros(τ_grid[0:30].size))\n",
    "plt.ylabel(\"$CEV$\")\n",
    "plt.xlabel(\"Nominal interest rate (%)\")\n",
    "plt.legend()\n",
    "plt.axhline(y=0,color=\"black\", linestyle='--',linewidth=1.0)\n",
    "plt.fill_between(i_grid[0:60]*100, Case1_cev[0:60], where=(np.array(Case1_cev)[0:60] <= 0), color='peachpuff', alpha=0.1, interpolate=True)\n",
    "plt.fill_between(i_grid[0:60]*100, Case1_cev[0:60], where=(np.array(Case1_cev)[0:60] >= 0), color='#B0E0E6', alpha=0.1, interpolate=True)\n",
    "plt.text(0.3, -0.007, 'Negative(-)',size=10,color='red')\n",
    "plt.text(2.7, 0.01, 'Positive(+)',size=10,color='blue')\n",
    "#plt.ylim(-0.01,0.04)\n",
    "plt.savefig(\"cev_zoom_in.png\", bbox_inches='tight', pad_inches=0.05)\n",
    "plt.show()"
   ]
  },
  {
   "cell_type": "code",
   "execution_count": null,
   "metadata": {},
   "outputs": [],
   "source": []
  },
  {
   "cell_type": "code",
   "execution_count": null,
   "metadata": {},
   "outputs": [],
   "source": []
  },
  {
   "cell_type": "code",
   "execution_count": null,
   "metadata": {},
   "outputs": [],
   "source": []
  },
  {
   "cell_type": "code",
   "execution_count": null,
   "metadata": {},
   "outputs": [],
   "source": []
  }
 ],
 "metadata": {
  "kernelspec": {
   "display_name": "Python 3 (ipykernel)",
   "language": "python",
   "name": "python3"
  },
  "language_info": {
   "codemirror_mode": {
    "name": "ipython",
    "version": 3
   },
   "file_extension": ".py",
   "mimetype": "text/x-python",
   "name": "python",
   "nbconvert_exporter": "python",
   "pygments_lexer": "ipython3",
   "version": "3.9.12"
  }
 },
 "nbformat": 4,
 "nbformat_minor": 4
}
