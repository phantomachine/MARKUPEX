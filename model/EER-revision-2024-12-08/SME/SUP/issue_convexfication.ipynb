{
 "cells": [
  {
   "cell_type": "markdown",
   "id": "031c2959",
   "metadata": {},
   "source": [
    "## Convexfication vs Non-Convexfication"
   ]
  },
  {
   "cell_type": "markdown",
   "id": "2e75d0da",
   "metadata": {},
   "source": [
    "This notebook studies the difference between using convexification and not using it. I will use the HLMW framework for the analysis. One case will involve HLMW without convexification, and the other will involve HLMW with convexification.\n",
    "\n",
    "In fact, the results of the two cases are almost identical. Nevertheless, there are slight differences, and these subtle differences are important in numerical analysis. They can significantly affect how smoothly the CEV appears. Additionally, these minor differences can influence welfare comparisons. Specifically, when calculating dF under convexification, the differences seem slightly more pronounced."
   ]
  },
  {
   "cell_type": "code",
   "execution_count": 1,
   "id": "2fbdae51",
   "metadata": {},
   "outputs": [],
   "source": [
    "import bcw_bj as main\n",
    "import hlmw as hlmw\n",
    "import hlmw_convexfication as hlmw_convexfication\n",
    "import numpy as np\n",
    "import matplotlib.pyplot as plt\n",
    "from mpl_toolkits import mplot3d\n",
    "from scipy import interpolate\n",
    "from scipy.optimize import brentq, fsolve\n",
    "#import tikzplotlib\n",
    "import time"
   ]
  },
  {
   "cell_type": "code",
   "execution_count": 3,
   "id": "0b878848",
   "metadata": {},
   "outputs": [],
   "source": [
    "σ_DM=0.5\n",
    "Ubar_CM=1.9\n",
    "n=0.65\n",
    "α_1=0.1"
   ]
  },
  {
   "cell_type": "markdown",
   "id": "6a92e659",
   "metadata": {},
   "source": [
    "Non-convexfication-HLMW"
   ]
  },
  {
   "cell_type": "code",
   "execution_count": 4,
   "id": "27a86064",
   "metadata": {},
   "outputs": [],
   "source": [
    "model_hlmw =hlmw.hlmw_mod(σ_DM=σ_DM, Ubar_CM=Ubar_CM, n=n,τ_max = 0.00,α_1=α_1,τgrid_size = 20,N_reimann = 300,Tol=1e-10)"
   ]
  },
  {
   "cell_type": "markdown",
   "id": "e8a62752",
   "metadata": {},
   "source": [
    "Convexfication-HLMW"
   ]
  },
  {
   "cell_type": "code",
   "execution_count": 5,
   "id": "77d71f20",
   "metadata": {},
   "outputs": [],
   "source": [
    "model_hlmw_convexfication =hlmw_convexfication.hlmw_mod(σ_DM=σ_DM, Ubar_CM=Ubar_CM, n=n,τ_max = 0.00,α_1=α_1,τgrid_size = 20,N_reimann = 300,Tol=1e-10)"
   ]
  },
  {
   "cell_type": "code",
   "execution_count": 15,
   "id": "895747ef",
   "metadata": {},
   "outputs": [],
   "source": [
    "τ=0"
   ]
  },
  {
   "cell_type": "code",
   "execution_count": 7,
   "id": "d31d0683",
   "metadata": {},
   "outputs": [
    {
     "data": {
      "text/plain": [
       "0.911328129879508"
      ]
     },
     "execution_count": 7,
     "metadata": {},
     "output_type": "execute_result"
    }
   ],
   "source": [
    "z_hlmw = model_hlmw.z_solver(τ)\n",
    "z_hlmw"
   ]
  },
  {
   "cell_type": "code",
   "execution_count": 8,
   "id": "61641807",
   "metadata": {},
   "outputs": [
    {
     "data": {
      "text/plain": [
       "0.9113547073661723"
      ]
     },
     "execution_count": 8,
     "metadata": {},
     "output_type": "execute_result"
    }
   ],
   "source": [
    "z_hlmw_convexfication = model_hlmw_convexfication.z_solver(τ)\n",
    "z_hlmw_convexfication"
   ]
  },
  {
   "cell_type": "code",
   "execution_count": 47,
   "id": "ff18438a",
   "metadata": {},
   "outputs": [
    {
     "data": {
      "text/plain": [
       "True"
      ]
     },
     "execution_count": 47,
     "metadata": {},
     "output_type": "execute_result"
    }
   ],
   "source": [
    "z_hlmw<z_hlmw_convexfication"
   ]
  },
  {
   "cell_type": "markdown",
   "id": "35f7e58a",
   "metadata": {},
   "source": [
    "### Although subtle, the real balance $z$ is larger in the case with convexification. Considering that pecuniary externality arises at low inflation rates, this difference can lead to significant impacts."
   ]
  },
  {
   "cell_type": "code",
   "execution_count": null,
   "id": "2c18a28d",
   "metadata": {},
   "outputs": [],
   "source": []
  },
  {
   "cell_type": "markdown",
   "id": "857b5830",
   "metadata": {},
   "source": [
    "### The following compares $R$, $F$, and $dF$ given a specific $z$. \n",
    "### The results show that while $R$ remains the same, there are differences in $F$ and $dF$."
   ]
  },
  {
   "cell_type": "code",
   "execution_count": 10,
   "id": "19b5b31f",
   "metadata": {},
   "outputs": [],
   "source": [
    "z = 0.7"
   ]
  },
  {
   "cell_type": "code",
   "execution_count": 11,
   "id": "4988c540",
   "metadata": {},
   "outputs": [],
   "source": [
    "ρ_grid=model_hlmw.support_grid_func(z, τ)"
   ]
  },
  {
   "cell_type": "code",
   "execution_count": 12,
   "id": "6d5766e5",
   "metadata": {},
   "outputs": [],
   "source": [
    "ρ_grid_convexification=model_hlmw_convexfication.support_grid_func(z, τ)"
   ]
  },
  {
   "cell_type": "code",
   "execution_count": 17,
   "id": "9474f4cf",
   "metadata": {},
   "outputs": [],
   "source": [
    "F=[model_hlmw.F_func(ρ,z) for ρ in ρ_grid]\n",
    "F_convexfication=[model_hlmw_convexfication.F_func(ρ,z) for ρ in ρ_grid]"
   ]
  },
  {
   "cell_type": "code",
   "execution_count": 22,
   "id": "18921cf7",
   "metadata": {},
   "outputs": [],
   "source": [
    "temp=np.array(F_convexfication)-np.array(F)"
   ]
  },
  {
   "cell_type": "code",
   "execution_count": 23,
   "id": "6518f0d7",
   "metadata": {},
   "outputs": [
    {
     "data": {
      "text/plain": [
       "[<matplotlib.lines.Line2D at 0x20e3731ff40>]"
      ]
     },
     "execution_count": 23,
     "metadata": {},
     "output_type": "execute_result"
    },
    {
     "data": {
      "image/png": "[encoded data removed]",
      "text/plain": [
       "<Figure size 432x288 with 1 Axes>"
      ]
     },
     "metadata": {
      "needs_background": "light"
     },
     "output_type": "display_data"
    }
   ],
   "source": [
    "plt.plot(ρ_grid,F)\n",
    "plt.plot(ρ_grid,F_convexfication)"
   ]
  },
  {
   "cell_type": "markdown",
   "id": "db8ce295",
   "metadata": {},
   "source": [
    "## The calculation results show that, although minimal, $F$ is slightly lower in the case with convexification when the price is lower."
   ]
  },
  {
   "cell_type": "code",
   "execution_count": 26,
   "id": "0884189f",
   "metadata": {},
   "outputs": [
    {
     "data": {
      "text/plain": [
       "[<matplotlib.lines.Line2D at 0x20e373ee670>]"
      ]
     },
     "execution_count": 26,
     "metadata": {},
     "output_type": "execute_result"
    },
    {
     "data": {
      "image/png": "[encoded data removed]",
      "text/plain": [
       "<Figure size 432x288 with 1 Axes>"
      ]
     },
     "metadata": {
      "needs_background": "light"
     },
     "output_type": "display_data"
    }
   ],
   "source": [
    "plt.plot(ρ_grid,temp)"
   ]
  },
  {
   "cell_type": "code",
   "execution_count": 25,
   "id": "61fdedca",
   "metadata": {},
   "outputs": [
    {
     "data": {
      "text/plain": [
       "-0.0007693033998584786"
      ]
     },
     "execution_count": 25,
     "metadata": {},
     "output_type": "execute_result"
    }
   ],
   "source": [
    "temp.sum()"
   ]
  },
  {
   "cell_type": "markdown",
   "id": "b51a28d8",
   "metadata": {},
   "source": [
    "# R remains the same."
   ]
  },
  {
   "cell_type": "code",
   "execution_count": 28,
   "id": "62e428a7",
   "metadata": {},
   "outputs": [],
   "source": [
    "Rex = model_hlmw_convexfication.R_ex(ρ_grid, z)\n",
    "        \n",
    "R_grid,R_fit=model_hlmw_convexfication.R(ρ_grid, Rex, DropFakes=True)"
   ]
  },
  {
   "cell_type": "code",
   "execution_count": 38,
   "id": "f164a1ae",
   "metadata": {},
   "outputs": [],
   "source": [
    "R=[model_hlmw.R_func(ρ,z) for ρ in ρ_grid]\n",
    "R_convexfication=[R_fit(ρ) for ρ in ρ_grid]"
   ]
  },
  {
   "cell_type": "code",
   "execution_count": 39,
   "id": "01418085",
   "metadata": {},
   "outputs": [
    {
     "data": {
      "text/plain": [
       "[<matplotlib.lines.Line2D at 0x20e374c6df0>]"
      ]
     },
     "execution_count": 39,
     "metadata": {},
     "output_type": "execute_result"
    },
    {
     "data": {
      "image/png": "[encoded data removed]",
      "text/plain": [
       "<Figure size 432x288 with 1 Axes>"
      ]
     },
     "metadata": {
      "needs_background": "light"
     },
     "output_type": "display_data"
    }
   ],
   "source": [
    "plt.plot(ρ_grid,R)\n",
    "plt.plot(ρ_grid,R_convexfication)"
   ]
  },
  {
   "cell_type": "code",
   "execution_count": 41,
   "id": "48aae5f1",
   "metadata": {},
   "outputs": [
    {
     "data": {
      "text/plain": [
       "array([0., 0., 0., 0., 0., 0., 0., 0., 0., 0., 0., 0., 0., 0., 0., 0., 0.,\n",
       "       0., 0., 0., 0., 0., 0., 0., 0., 0., 0., 0., 0., 0., 0., 0., 0., 0.,\n",
       "       0., 0., 0., 0., 0., 0., 0., 0., 0., 0., 0., 0., 0., 0., 0., 0., 0.,\n",
       "       0., 0., 0., 0., 0., 0., 0., 0., 0., 0., 0., 0., 0., 0., 0., 0., 0.,\n",
       "       0., 0., 0., 0., 0., 0., 0., 0., 0., 0., 0., 0., 0., 0., 0., 0., 0.,\n",
       "       0., 0., 0., 0., 0., 0., 0., 0., 0., 0., 0., 0., 0., 0., 0., 0., 0.,\n",
       "       0., 0., 0., 0., 0., 0., 0., 0., 0., 0., 0., 0., 0., 0., 0., 0., 0.,\n",
       "       0., 0., 0., 0., 0., 0., 0., 0., 0., 0., 0., 0., 0., 0., 0., 0., 0.,\n",
       "       0., 0., 0., 0., 0., 0., 0., 0., 0., 0., 0., 0., 0., 0., 0., 0., 0.,\n",
       "       0., 0., 0., 0., 0., 0., 0., 0., 0., 0., 0., 0., 0., 0., 0., 0., 0.,\n",
       "       0., 0., 0., 0., 0., 0., 0., 0., 0., 0., 0., 0., 0., 0., 0., 0., 0.,\n",
       "       0., 0., 0., 0., 0., 0., 0., 0., 0., 0., 0., 0., 0., 0., 0., 0., 0.,\n",
       "       0., 0., 0., 0., 0., 0., 0., 0., 0., 0., 0., 0., 0., 0., 0., 0., 0.,\n",
       "       0., 0., 0., 0., 0., 0., 0., 0., 0., 0., 0., 0., 0., 0., 0., 0., 0.,\n",
       "       0., 0., 0., 0., 0., 0., 0., 0., 0., 0., 0., 0., 0., 0., 0., 0., 0.,\n",
       "       0., 0., 0., 0., 0., 0., 0., 0., 0., 0., 0., 0., 0., 0., 0., 0., 0.,\n",
       "       0., 0., 0., 0., 0., 0., 0., 0., 0., 0., 0., 0., 0., 0., 0., 0., 0.,\n",
       "       0., 0., 0., 0., 0., 0., 0., 0., 0., 0., 0.])"
      ]
     },
     "execution_count": 41,
     "metadata": {},
     "output_type": "execute_result"
    }
   ],
   "source": [
    "np.array(R)-np.array(R_convexfication)"
   ]
  },
  {
   "cell_type": "code",
   "execution_count": 42,
   "id": "96714534",
   "metadata": {},
   "outputs": [],
   "source": [
    "dF=[model_hlmw.dF_func(ρ,z) for ρ in ρ_grid]\n",
    "dF_convexfication=[model_hlmw_convexfication.dF_func(ρ,z) for ρ in ρ_grid]"
   ]
  },
  {
   "cell_type": "code",
   "execution_count": 43,
   "id": "ab376b0f",
   "metadata": {
    "scrolled": true
   },
   "outputs": [
    {
     "data": {
      "text/plain": [
       "[<matplotlib.lines.Line2D at 0x20e3753c040>]"
      ]
     },
     "execution_count": 43,
     "metadata": {},
     "output_type": "execute_result"
    },
    {
     "data": {
      "image/png": "[encoded data removed]",
      "text/plain": [
       "<Figure size 432x288 with 1 Axes>"
      ]
     },
     "metadata": {
      "needs_background": "light"
     },
     "output_type": "display_data"
    }
   ],
   "source": [
    "plt.plot(ρ_grid,dF)\n",
    "plt.plot(ρ_grid,dF_convexfication)"
   ]
  },
  {
   "cell_type": "markdown",
   "id": "1b015c33",
   "metadata": {},
   "source": [
    "# dF shows a difference. This is likely because the derivation with convexification uses a module, which causes the variation."
   ]
  },
  {
   "cell_type": "code",
   "execution_count": 48,
   "id": "93224771",
   "metadata": {},
   "outputs": [
    {
     "data": {
      "text/plain": [
       "[<matplotlib.lines.Line2D at 0x20e375e4e80>]"
      ]
     },
     "execution_count": 48,
     "metadata": {},
     "output_type": "execute_result"
    },
    {
     "data": {
      "image/png": "[encoded data removed]",
      "text/plain": [
       "<Figure size 432x288 with 1 Axes>"
      ]
     },
     "metadata": {
      "needs_background": "light"
     },
     "output_type": "display_data"
    }
   ],
   "source": [
    "plt.plot(np.array(dF_convexfication)-np.array(dF))"
   ]
  },
  {
   "cell_type": "code",
   "execution_count": null,
   "id": "d973d16c",
   "metadata": {},
   "outputs": [],
   "source": []
  }
 ],
 "metadata": {
  "kernelspec": {
   "display_name": "Python 3 (ipykernel)",
   "language": "python",
   "name": "python3"
  },
  "language_info": {
   "codemirror_mode": {
    "name": "ipython",
    "version": 3
   },
   "file_extension": ".py",
   "mimetype": "text/x-python",
   "name": "python",
   "nbconvert_exporter": "python",
   "pygments_lexer": "ipython3",
   "version": "3.9.12"
  }
 },
 "nbformat": 4,
 "nbformat_minor": 5
}
