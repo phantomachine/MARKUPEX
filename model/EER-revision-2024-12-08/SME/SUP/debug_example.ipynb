{
 "cells": [
  {
   "cell_type": "markdown",
   "metadata": {},
   "source": [
    "Tim, sorry to bother you, but could you take a look at this specific case? There’s a situation where z is 0.4124758375101626 and i is 0.12368466199063323, and in this setup, rho_m matches rho_hat. \n",
    "\n",
    "However, in such cases, R fits in this way. I think it might require some adjustments within the module."
   ]
  },
  {
   "cell_type": "code",
   "execution_count": 1,
   "metadata": {},
   "outputs": [],
   "source": [
    "import bcw_bj\n",
    "import numpy as np\n",
    "import scipy as sp\n",
    "from textwrap import dedent\n",
    "from scipy.optimize import brentq, fsolve\n",
    "import matplotlib.pyplot as plt\n",
    "from mpl_toolkits import mplot3d\n",
    "import sys\n",
    "import time\n",
    "import collections as collections\n",
    "from cycler import cycler\n",
    "\n",
    "from scipy.spatial import ConvexHull\n",
    "import setops as setops # Custom module by TK, from CSM\n",
    "\n",
    "import sympy as sym\n",
    "from IPython.display import display, Math"
   ]
  },
  {
   "cell_type": "code",
   "execution_count": 2,
   "metadata": {},
   "outputs": [],
   "source": [
    "# Instantiate class as MODEL object, at current calibrated params\n",
    "self = bcw_bj.baseline_mod(σ_DM=0.28, c=1.0,n=0.8)\n",
    "\n",
    "# Set (partial) equilibrium i to calibrated SME solution\n",
    "i = 0.12368466199063323"
   ]
  },
  {
   "cell_type": "markdown",
   "metadata": {},
   "source": [
    "## New functions added"
   ]
  },
  {
   "cell_type": "code",
   "execution_count": 3,
   "metadata": {},
   "outputs": [],
   "source": [
    "def z_cutoffs(self, i):\n",
    "    \"\"\"Define the four cutoff levels for z as in Lemmata 1-3:\n",
    "    0 < z_tilde_i < zhat < z_prime < ∞.\"\"\"\n",
    "\n",
    "    z_hat = (self.c/(1-self.σ_DM))**((self.σ_DM-1)/self.σ_DM)\n",
    "    z_prime = z_hat*(1/(1-self.σ_DM))**(-(self.σ_DM-1)/self.σ_DM)\n",
    "    z_tilde = z_hat*(1+i)**(-1/self.σ_DM)\n",
    "    # z_breve = (1-self.c) + z_hat*self.σ_DM\n",
    "    # z_breve =((1+self.σ_DM*z_tilde)/self.c)**(1-self.σ_DM)\n",
    "    \n",
    "    # Sanity check!\n",
    "    # zcut = np.diff([z_tilde, z_hat])\n",
    "    if z_tilde <= z_hat:\n",
    "        print(\"🥳 Congrats: Your cutoffs are in order!\")\n",
    "        z_cutoffs_str = '\\\\tilde{z}_{i} < \\\\hat{z} < z^{\\\\prime}'\n",
    "        display(\n",
    "            Math(z_cutoffs_str)\n",
    "            )\n",
    "        z_cutoffs = [z_tilde, z_hat, z_prime] \n",
    "        print(['%.3f' % x for x in z_cutoffs])\n",
    "    else:\n",
    "        print(\"💩 You have a problem with your cutoff ordering!\")\n",
    "            \n",
    "    return z_tilde, z_hat, z_prime "
   ]
  },
  {
   "cell_type": "code",
   "execution_count": 4,
   "metadata": {},
   "outputs": [],
   "source": [
    "def R(self, p_grid, Rex, DropFakes=True):\n",
    "    \"\"\"Find convex hull of graph(Rex) to get R - See Appendix B.3\n",
    "    Taken from https://github.com/phantomachine/csm/\n",
    "    \"\"\"\n",
    "    Rex_graph = np.column_stack((p_grid, Rex))\n",
    "    \n",
    "    # Step 0:   Find Convex hull of { ρ, Rex(ρ) }\n",
    "    mpoint = np.array([p_grid.max(), Rex.min()])  # SE corner\n",
    "    graph = np.vstack((Rex_graph, mpoint))\n",
    "    chull = ConvexHull(graph)\n",
    "    extreme_pts = graph[chull.vertices, :]\n",
    "    \n",
    "    # Step 1: Intersection between original function Rex and ext. pts.\n",
    "    v_intersect_graph, ind = setops.intersect(Rex_graph, extreme_pts)[0:2]\n",
    "    \n",
    "    # Step 2: First difference the index locations\n",
    "    idiff = np.diff(ind, n=1, axis=0)\n",
    "\n",
    "    print(self.ρ_hat_func(z))\n",
    "    print(v_intersect_graph[-1][0])\n",
    "\n",
    "    print(self.ρ_hat_func(z)- v_intersect_graph[-1][0])\n",
    "    \n",
    "    # Step 3: if idiff contains elements > 1 then we know exist one/more line \n",
    "    # segment (i.e., more than one set of lotteries played). Location where \n",
    "    # straddles more than 1 step\n",
    "    idz = np.where(idiff > 1)[0]\n",
    "   \n",
    "    # Step 4: Given the jumps, we have the end points defining each lottery!\n",
    "    idz = np.column_stack((idz, idz+1))\n",
    "\n",
    "    # Step 5: Store lottery supports\n",
    "    lottery_supports = v_intersect_graph[idz, 0]\n",
    "    lottery_payoffs = v_intersect_graph[idz, 1]\n",
    "\n",
    "    # print(lottery_supports)\n",
    "    # Step 6: Interpolate to approximate R\n",
    "    R_fit = self.InterpFun1d(v_intersect_graph[:, 0],\n",
    "                            v_intersect_graph[:, 1])\n",
    "\n",
    "    print(v_intersect_graph[:, 0])\n",
    "    # Step 7: Eliminate Fake Lotteries (below-tolerance numerical imprecisions)\n",
    "    if DropFakes:\n",
    "        selector = []\n",
    "        for idx_lot in range(lottery_supports.shape[0]):\n",
    "            # Lottery prizes for at current lottery segment, idx_lot\n",
    "            p_lo, p_hi = lottery_supports[idx_lot, :]\n",
    "            # Conditions: points between current lottery segment\n",
    "            find_condition = (p_grid > p_lo) & (p_grid < p_hi)\n",
    "            # Value of Vtilde between current lottery segment\n",
    "            Rex_p_temp = Rex[find_condition]\n",
    "            # Value of V between current lottery segment\n",
    "            R_p_temp = R_fit(p_grid[find_condition])\n",
    "            # Check: Is R \"significantly different\" from Rex at lottery segment?\n",
    "            gap = np.absolute(R_p_temp - Rex_p_temp).max()\n",
    "            if gap > 1e-10:\n",
    "                selector.append(idx_lot)  # Keep, if \"YES\"\n",
    "        # Update definition of the set of lotteries\n",
    "        lottery_supports_temp = lottery_supports[selector, :]\n",
    "        lottery_payoffs_temp = lottery_payoffs[selector, :]\n",
    "        # if lottery_supports_temp.size == 0:\n",
    "        #     lottery_supports = lottery_supports[0, :]\n",
    "        #     lottery_payoffs = lottery_payoffs[0, :]\n",
    "        # else:\n",
    "        if lottery_supports_temp.size > 0:\n",
    "            lottery_supports = lottery_supports_temp\n",
    "            lottery_payoffs = lottery_payoffs_temp\n",
    "    # print(lottery_supports)\n",
    "    # Step 8: Store R as evaluated on finite set p_grid\n",
    "    R_grid = R_fit(p_grid)\n",
    "    return R_grid, R_fit, lottery_supports, lottery_payoffs"
   ]
  },
  {
   "cell_type": "code",
   "execution_count": 5,
   "metadata": {},
   "outputs": [],
   "source": [
    "def plotRfun(self, i, z, ρ_range):\n",
    "\n",
    "        ρ_hat = self.ρ_hat_func(z)\n",
    "        ρ_tilde = self.ρ_tilde_func(z, i)\n",
    "        ρ_m0 = self.c/(1-self.σ_DM)\n",
    "        # ρ_range = np.linspace(self.c, 1.5, 1000)\n",
    "\n",
    "        fig, ax = plt.subplots()\n",
    "        # Graph - profit from credit buyers\n",
    "        plt.plot(ρ_range, self.G1(ρ_range, i, z),\n",
    "                label=r\"$G_{1}$\", color=\"b\", linestyle='dotted')\n",
    "        # Graph - profit from money constrained\n",
    "        plt.plot(ρ_range, self.G2(ρ_range, i, z),\n",
    "                label=r\"$G_{2}$\", color=\"orange\", linestyle=\"--\")\n",
    "        # Graph - profit from money unconstrained\n",
    "        plt.plot(ρ_range, self.G3(ρ_range, i, z),\n",
    "                label=r\"$G_{3}$\", color=\"green\", linestyle='dashdot')\n",
    "        # Ex-post profit (R^{ex})\n",
    "        Rex = self.R_ex(ρ_range, i, z)\n",
    "        plt.plot(ρ_range, Rex,\n",
    "                label=r\"$R^{ex}$\",\n",
    "                color=\"r\",\n",
    "                linewidth=2.5,\n",
    "                alpha=0.7,)\n",
    "\n",
    "        # Effective (ex-ante) but post-match lottery value/profit, R\n",
    "        R_grid = R(self, ρ_range, Rex, DropFakes=True)[0]\n",
    "        plt.plot(ρ_range, R_grid, '-k', label=r\"$R$\", alpha=0.9,)\n",
    "\n",
    "        # Add tick-marks for pricing cutoffs and Ramsey monopoly price\n",
    "        ax.set_xticks(ticks=[self.c, ρ_hat, ρ_tilde, ρ_m0],\n",
    "                                labels=[r\"$c$\", \n",
    "                                        r\"$\\hat{\\rho}$\", \n",
    "                                        r\"$\\tilde{\\rho}_{i}$\", \n",
    "                                        r\"$\\rho^{m}_{0}$\"]\n",
    "                        )\n",
    "\n",
    "        plt.legend()\n",
    "        plt.show()\n",
    "    \n",
    "        return plt, fig, ax, ρ_hat, ρ_tilde, ρ_m0"
   ]
  },
  {
   "cell_type": "code",
   "execution_count": 8,
   "metadata": {},
   "outputs": [
    {
     "name": "stdout",
     "output_type": "stream",
     "text": [
      "1.411130715052099\n",
      "1.411130715052099\n",
      "0.0\n",
      "[1.         1.00013709 1.00027418 ... 1.41085654 1.41099363 1.41113072]\n"
     ]
    },
    {
     "data": {
      "image/png": "[encoded data removed]",
      "text/plain": [
       "<Figure size 640x480 with 1 Axes>"
      ]
     },
     "metadata": {},
     "output_type": "display_data"
    }
   ],
   "source": [
    "z= 0.4124758375101626\n",
    "i = 0.12368466199063323\n",
    "τ = 0.1\n",
    "\n",
    "ρ_range = np.linspace(self.c, self.ρ_hat_func(z), 3000)\n",
    "weight = 0.5\n",
    "#plt.plot(self.R_ex(ρ_range, i, z))\n",
    "plt, fig, ax, ρ_hat, ρ_tilde, ρ_m0 = plotRfun(self, i, z, ρ_range)"
   ]
  },
  {
   "cell_type": "code",
   "execution_count": null,
   "metadata": {},
   "outputs": [],
   "source": []
  },
  {
   "cell_type": "code",
   "execution_count": null,
   "metadata": {},
   "outputs": [],
   "source": []
  },
  {
   "cell_type": "code",
   "execution_count": null,
   "metadata": {},
   "outputs": [],
   "source": []
  }
 ],
 "metadata": {
  "kernelspec": {
   "display_name": "Python 3 (ipykernel)",
   "language": "python",
   "name": "python3"
  },
  "language_info": {
   "codemirror_mode": {
    "name": "ipython",
    "version": 3
   },
   "file_extension": ".py",
   "mimetype": "text/x-python",
   "name": "python",
   "nbconvert_exporter": "python",
   "pygments_lexer": "ipython3",
   "version": "3.11.7"
  }
 },
 "nbformat": 4,
 "nbformat_minor": 4
}
