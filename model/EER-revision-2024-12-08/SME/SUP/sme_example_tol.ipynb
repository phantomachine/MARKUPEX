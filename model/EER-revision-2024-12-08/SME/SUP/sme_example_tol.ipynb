{
 "cells": [
  {
   "cell_type": "markdown",
   "metadata": {},
   "source": [
    "# Two-stage approach + R_convexity\n",
    "\n",
    "- In this notebook, I implemented the two-stage approach and incorporated Tim's R_convexity to calculate the KLLN model.\n",
    "- I modified the model so that, under the two-stage approach, liquidity-unconstrained agents make deposits.\n",
    "- This results in changes to the money demand function and aggregate deposit sections.\n",
    "- Specifically, liquidity-unconstrained buyers now receive a marginal benefit of i, and the total deposits increase by the amount of idle cash held by unconstrained buyers.\n",
    "- The code was adjusted to account for R_convexity, with a focus on using Rfit within the R() function. Additionally, to calculate dJ (or dF), Rfit.derivative()(rho) is utilized."
   ]
  },
  {
   "cell_type": "markdown",
   "metadata": {},
   "source": [
    "Other critical areas to check include adjustments considering the measure of active and non-active buyers:\n",
    "- Money demand function\n",
    "- Equilibrium outcome\n",
    "- Loan/deposit market clearing condition\n",
    "\n",
    "Please review these aspects carefully."
   ]
  },
  {
   "cell_type": "markdown",
   "metadata": {},
   "source": [
    "Additionally, I still feel that the modifications to the money demand function across the z_range may not be fully complete. In particular, it’s uncertain whether i_bound, among other factors, should also be considered. I’ll finalize this part once Tim completes the Lemma arrangements."
   ]
  },
  {
   "cell_type": "markdown",
   "metadata": {},
   "source": [
    "## SME: BJ goods and competitive banks \n",
    "Given policy $\\tau$, we get real money balance $(z)$ and market interest rate $(i=i_{l}=i_{d})$ by solving\n",
    "\n",
    "\\begin{equation}\n",
    "\\begin{split}\n",
    "z^{\\star} \\leftarrow  \\frac{1+\\tau -\\beta}{\\beta} &= R(z,i)\n",
    "\\\\\n",
    "i_{l}=i_{d}=i^{\\star} \\leftarrow (1-n) \\cdot z + n \\cdot \\int^{\\overline{\\rho}}_{\\hat{\\rho}} [\\alpha_{1}+2\\alpha_{2}(1-J(\\rho))] \\delta(i,\\rho,z)\\text{d}J(\\rho)&= n \\cdot \\int^{\\tilde{\\rho}}_{\\underline{\\rho}} [\\alpha_{1}+2\\alpha_{2}(1-J(\\rho))] \\xi(i,\\rho,z) \\text{d}J(\\rho)\n",
    "\\end{split}\n",
    "\\label{eq:k-phi-high-type-case1}\n",
    "\\end{equation}\n",
    "\n",
    "where\n",
    "\\begin{equation*}\n",
    "\\begin{split}\n",
    "R(z,i) &:=  \\color{blue}{(1-n)} \\cdot i + \\color{blue}{n}\\bigg[\\int^{\\tilde{\\rho}}_{\\underline{\\rho}} i [\\alpha_{1}+2\\alpha_{2}(1-J(\\rho))] \\text{d}J(\\rho)\n",
    "\\\\\n",
    "&+ \\int^{\\hat{\\rho}}_{\\tilde{\\rho}} [\\alpha_{1}+2\\alpha_{2}(1-J(\\rho))] \\bigg[\\frac{1}{\\rho}\\bigg(\\frac{z}{\\rho}\\bigg)^{-\\sigma} -1 \\bigg] \\text{d}J(\\rho)\n",
    "\\\\\n",
    "&+ \\int^{\\overline{\\rho}}_{\\hat{\\rho}} [\\alpha_{1}+2\\alpha_{2}(1-J(\\rho))] \\cdot i \\text{d}J(\\rho)\\bigg]\n",
    "\\end{split}\n",
    "\\end{equation*}\n",
    "\n",
    "* Two equations and two unknowns "
   ]
  },
  {
   "cell_type": "code",
   "execution_count": 1,
   "metadata": {},
   "outputs": [],
   "source": [
    "import bcw_bj as main\n",
    "import hlmw as hlmw\n",
    "import numpy as np\n",
    "import matplotlib.pyplot as plt\n",
    "from mpl_toolkits import mplot3d\n",
    "from scipy import interpolate\n",
    "from scipy.optimize import brentq, fsolve\n",
    "#import tikzplotlib\n",
    "import time"
   ]
  },
  {
   "cell_type": "code",
   "execution_count": 2,
   "metadata": {},
   "outputs": [],
   "source": [
    "plt.rcParams['text.usetex'] = False\n",
    "plt.rcParams['font.family'] = 'serif'"
   ]
  },
  {
   "cell_type": "code",
   "execution_count": 3,
   "metadata": {},
   "outputs": [],
   "source": [
    "font = {'family' : 'serif','weight':'normal',\n",
    "        'size'   : 10}\n",
    "plt.rc('font', **font)"
   ]
  },
  {
   "cell_type": "code",
   "execution_count": 4,
   "metadata": {},
   "outputs": [],
   "source": [
    "σ_DM=0.4\n",
    "Ubar_CM=1.9\n",
    "n=0.65\n",
    "α_1=0.1\n",
    "β=0.9814094266351937"
   ]
  },
  {
   "cell_type": "code",
   "execution_count": 5,
   "metadata": {},
   "outputs": [],
   "source": [
    "model = main.baseline_mod(σ_DM=σ_DM, Ubar_CM=Ubar_CM, n=n,τ_max = 0.00,α_1=α_1,β=β,τgrid_size = 10,N_reimann = 300,Tol=1e-10)\n",
    "\n",
    "model_hlmw =hlmw.hlmw_mod(σ_DM=σ_DM, Ubar_CM=Ubar_CM, n=n,τ_max = 0.00,α_1=α_1,β=β,τgrid_size = 10,N_reimann = 300,Tol=1e-10)"
   ]
  },
  {
   "cell_type": "markdown",
   "metadata": {},
   "source": [
    "### SME: HLMW + perfectly competitive banks (Baseline)\n",
    "\n",
    "* Vary $\\tau \\in [\\beta-1, 0.1]$"
   ]
  },
  {
   "cell_type": "code",
   "execution_count": null,
   "metadata": {},
   "outputs": [
    {
     "name": "stdout",
     "output_type": "stream",
     "text": [
      "-0.018590573364806295\n"
     ]
    }
   ],
   "source": [
    "z_guess = 0.6\n",
    "i_guess = 0.01\n",
    "result = model.SME_stat(z_guess, i_guess) # this uses fsolve"
   ]
  },
  {
   "cell_type": "code",
   "execution_count": null,
   "metadata": {},
   "outputs": [],
   "source": [
    "z = result['allocation_grid']['zstar']\n",
    "q = result['allocation_grid']['qstar']\n",
    "ξ = result['allocation_grid']['ξstar']\n",
    "i = result['allocation_grid']['istar']\n",
    "DM_surplus = result['allocation_grid']['DM_surplus']\n",
    "W = result['allocation_grid']['w_star']\n",
    "W_BCW = result['allocation_grid']['w_bcw']\n",
    "\n",
    "mpy = result['stat_grid']['mpy_star']\n",
    "markup = result['stat_grid']['markup_mean']\n",
    "markup_cv = result['stat_grid']['markup_cv']\n",
    "loan_gdp = result['stat_grid']['credit_gdp']\n",
    "loan_gdp_bcw = result['stat_grid']['credit_gdp_bcw']"
   ]
  },
  {
   "cell_type": "markdown",
   "metadata": {},
   "source": [
    "### HLMW: without banks"
   ]
  },
  {
   "cell_type": "code",
   "execution_count": null,
   "metadata": {},
   "outputs": [],
   "source": [
    "result_hlmw = model_hlmw.SME_stat() # this uses brentq only"
   ]
  },
  {
   "cell_type": "code",
   "execution_count": null,
   "metadata": {},
   "outputs": [],
   "source": [
    "z_hlmw = result_hlmw['allocation_grid']['zstar']\n",
    "q_hlmw = result_hlmw['allocation_grid']['qstar']\n",
    "W_hlmw = result_hlmw['allocation_grid']['w_star']\n",
    "DM_surplus_hlmw = result_hlmw['allocation_grid']['DM_surplus']\n",
    "\n",
    "mpy_hlmw = result_hlmw['stat_grid']['mpy_star']\n",
    "markup_hlmw = result_hlmw['stat_grid']['markup_mean']\n",
    "markup_cv_hlmw = result_hlmw['stat_grid']['markup_cv']"
   ]
  },
  {
   "cell_type": "code",
   "execution_count": null,
   "metadata": {},
   "outputs": [],
   "source": [
    "τ_grid = model.τ_grid # inflation rate grid\n",
    "i_grid = model.i_policy(τ_grid)"
   ]
  },
  {
   "cell_type": "code",
   "execution_count": null,
   "metadata": {},
   "outputs": [],
   "source": [
    "font = {'family' : 'serif','weight':'normal',\n",
    "        'size'   : 10}\n",
    "plt.rc('font', **font)"
   ]
  },
  {
   "cell_type": "markdown",
   "metadata": {},
   "source": [
    "### Difference welfare\n",
    "\n",
    "* Comparision 1: $DW_{1}:= W_{Baseline} - W_{HLMW}$\n",
    "    * Baseline economy: Price dispersion + perfectly competitive banks \n",
    "    * HLMW: Price dispersion\n",
    "    * This shows the welfare gains/losses by isolating effects of **banking** only\n",
    "    \n",
    "    \n",
    "* Comparision 2: $DW_{2}:= W_{BCW} -  W_{Baseline}$\n",
    "    * Baseline economy: Price dispersion + perfectly competitive banks \n",
    "    * BCW: Competitive pricing + perfectly competitive banks\n",
    "    * This shows the welfare gains/losses by isolating effects of **price dispersion** only\n",
    "    \n",
    "    \n",
    "* Comparision 3: $DW_{3}:= W_{BCW} - W_{HLMW}$\n",
    "    * HLMW: Price dispersion\n",
    "    * BCW: Competitive pricing + perfectly competitive banks\n",
    "    * This shows the welfare gains/losses by having both effects of **price dispersion** and **banking**"
   ]
  },
  {
   "cell_type": "code",
   "execution_count": null,
   "metadata": {},
   "outputs": [],
   "source": [
    "#plt.style.use(style='default')\n",
    "W = result['allocation_grid']['w_star']\n",
    "W_hlmw = result_hlmw['allocation_grid']['w_star']\n",
    "DW = W - W_hlmw # Baseline vs. HLMW\n",
    "plt.figure(facecolor='white')\n",
    "plt.plot(i_grid*100, DW, label='Baseline vs. HLMW',color='r')\n",
    "plt.axhline(y=0,color=\"black\", linestyle='--',linewidth=1.0)\n",
    "plt.ylabel(\"DW\")\n",
    "plt.xlabel(\"Nominal interest rate (%)\")\n",
    "plt.legend()\n",
    "plt.savefig(f\"DW_s{model.σ_DM}_ub{model.Ubar_CM}_n{model.n}_α_1{model.α_1}_Tol_1{model_hlmw.Tol}.png\")\n",
    "plt.show()\n"
   ]
  },
  {
   "cell_type": "code",
   "execution_count": null,
   "metadata": {},
   "outputs": [],
   "source": []
  }
 ],
 "metadata": {
  "kernelspec": {
   "display_name": "Python 3 (ipykernel)",
   "language": "python",
   "name": "python3"
  },
  "language_info": {
   "codemirror_mode": {
    "name": "ipython",
    "version": 3
   },
   "file_extension": ".py",
   "mimetype": "text/x-python",
   "name": "python",
   "nbconvert_exporter": "python",
   "pygments_lexer": "ipython3",
   "version": "3.11.7"
  }
 },
 "nbformat": 4,
 "nbformat_minor": 4
}
