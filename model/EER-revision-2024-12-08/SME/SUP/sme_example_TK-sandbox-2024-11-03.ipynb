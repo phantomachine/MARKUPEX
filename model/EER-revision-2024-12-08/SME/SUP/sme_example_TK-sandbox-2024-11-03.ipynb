{
 "cells": [
  {
   "cell_type": "markdown",
   "metadata": {},
   "source": [
    "# Two-stage approach + R_convexity\n",
    "\n",
    "- In this notebook, I implemented the two-stage approach and incorporated Tim's R_convexity to calculate the KLLN model.\n",
    "- I modified the model so that, under the two-stage approach, liquidity-unconstrained agents make deposits.\n",
    "- This results in changes to the money demand function and aggregate deposit sections.\n",
    "- Specifically, liquidity-unconstrained buyers now receive a marginal benefit of i, and the total deposits increase by the amount of idle cash held by unconstrained buyers.\n",
    "- The code was adjusted to account for R_convexity, with a focus on using Rfit within the R() function. Additionally, to calculate dJ (or dF), Rfit.derivative()(rho) is utilized."
   ]
  },
  {
   "cell_type": "markdown",
   "metadata": {},
   "source": [
    "Other critical areas to check include adjustments considering the measure of active and non-active buyers:\n",
    "- Money demand function\n",
    "- Equilibrium outcome\n",
    "- Loan/deposit market clearing condition\n",
    "\n",
    "Please review these aspects carefully."
   ]
  },
  {
   "cell_type": "markdown",
   "metadata": {},
   "source": [
    "Additionally, I still feel that the modifications to the money demand function across the z_range may not be fully complete. In particular, it’s uncertain whether i_bound, among other factors, should also be considered. I’ll finalize this part once Tim completes the Lemma arrangements."
   ]
  },
  {
   "cell_type": "markdown",
   "metadata": {},
   "source": [
    "## SME: BJ goods and competitive banks \n",
    "Given policy $\\tau$, we get real money balance $(z)$ and market interest rate $(i=i_{l}=i_{d})$ by solving\n",
    "\n",
    "\\begin{equation}\n",
    "\\begin{split}\n",
    "z^{\\star} \\leftarrow  \\frac{1+\\tau -\\beta}{\\beta} &= R(z,i)\n",
    "\\\\\n",
    "i_{l}=i_{d}=i^{\\star} \\leftarrow (1-n) \\cdot z + n \\cdot \\int^{\\overline{\\rho}}_{\\hat{\\rho}} [\\alpha_{1}+2\\alpha_{2}(1-J(\\rho))] \\delta(i,\\rho,z)\\text{d}J(\\rho)&= n \\cdot \\int^{\\tilde{\\rho}}_{\\underline{\\rho}} [\\alpha_{1}+2\\alpha_{2}(1-J(\\rho))] \\xi(i,\\rho,z) \\text{d}J(\\rho)\n",
    "\\end{split}\n",
    "\\label{eq:k-phi-high-type-case1}\n",
    "\\end{equation}\n",
    "\n",
    "where\n",
    "\\begin{equation*}\n",
    "\\begin{split}\n",
    "R(z,i) &:=  \\color{blue}{(1-n)} \\cdot i + \\color{blue}{n}\\bigg[\\int^{\\tilde{\\rho}}_{\\underline{\\rho}} i [\\alpha_{1}+2\\alpha_{2}(1-J(\\rho))] \\text{d}J(\\rho)\n",
    "\\\\\n",
    "&+ \\int^{\\hat{\\rho}}_{\\tilde{\\rho}} [\\alpha_{1}+2\\alpha_{2}(1-J(\\rho))] \\bigg[\\frac{1}{\\rho}\\bigg(\\frac{z}{\\rho}\\bigg)^{-\\sigma} -1 \\bigg] \\text{d}J(\\rho)\n",
    "\\\\\n",
    "&+ \\int^{\\overline{\\rho}}_{\\hat{\\rho}} [\\alpha_{1}+2\\alpha_{2}(1-J(\\rho))] \\cdot i \\text{d}J(\\rho)\\bigg]\n",
    "\\end{split}\n",
    "\\end{equation*}\n",
    "\n",
    "* Two equations and two unknowns "
   ]
  },
  {
   "cell_type": "code",
   "execution_count": 1,
   "metadata": {},
   "outputs": [],
   "source": [
    "import bcw_bj as main\n",
    "import hlmw as hlmw\n",
    "import numpy as np\n",
    "import matplotlib.pyplot as plt\n",
    "from mpl_toolkits import mplot3d\n",
    "from scipy import interpolate\n",
    "from scipy.optimize import brentq, fsolve\n",
    "#import tikzplotlib\n",
    "import time"
   ]
  },
  {
   "cell_type": "code",
   "execution_count": 2,
   "metadata": {},
   "outputs": [],
   "source": [
    "plt.rcParams['text.usetex'] = False\n",
    "plt.rcParams['font.family'] = 'serif'"
   ]
  },
  {
   "cell_type": "code",
   "execution_count": 3,
   "metadata": {},
   "outputs": [],
   "source": [
    "font = {'family' : 'serif','weight':'normal',\n",
    "        'size'   : 10}\n",
    "plt.rc('font', **font)"
   ]
  },
  {
   "cell_type": "code",
   "execution_count": 4,
   "metadata": {},
   "outputs": [],
   "source": [
    "model = main.baseline_mod(σ_DM=0.5, Ubar_CM=1.9, n=0.9,τ_max = 0.01,τgrid_size = 10,N_reimann = 500)\n",
    "model_hlmw =hlmw.hlmw_mod(σ_DM=0.5, Ubar_CM=1.9, n=0.9,τ_max = 0.01,τgrid_size = 10,N_reimann = 500)"
   ]
  },
  {
   "cell_type": "markdown",
   "metadata": {},
   "source": [
    "### Example 0\n",
    "\n",
    "* Solve system of two equations, given $\\tau=0$"
   ]
  },
  {
   "cell_type": "code",
   "execution_count": 5,
   "metadata": {},
   "outputs": [
    {
     "name": "stdout",
     "output_type": "stream",
     "text": [
      "0.5\n",
      "0.01\n",
      "0.5\n",
      "0.01\n",
      "0.5\n",
      "0.01\n",
      "0.5000000074505806\n",
      "0.01\n",
      "0.5\n",
      "0.010000000149011612\n",
      "0.6440954170360113\n",
      "0.1005813186321063\n",
      "0.730231126587464\n",
      "0.06577507467455777\n",
      "0.7818919787961089\n",
      "0.023050284754203315\n",
      "0.787333808549781\n",
      "0.020456555302312426\n",
      "0.7874626137041785\n",
      "0.020579056849950105\n",
      "0.787441258771596\n",
      "0.020591572735467627\n",
      "0.7874419110603531\n",
      "0.020591161285736608\n",
      "0.7874419110603531 0.020591161285736608 200.77966904640198\n"
     ]
    }
   ],
   "source": [
    "z_guess = 0.5\n",
    "i_guess = 0.01\n",
    "τ = 0\n",
    "\n",
    "tic = time.time()\n",
    "z, i = model.solve_z_i(z_guess, i_guess, τ) \n",
    "toc = time.time() - tic\n",
    "print(z, i, toc)"
   ]
  },
  {
   "cell_type": "markdown",
   "metadata": {},
   "source": [
    "### Example 0: few more check"
   ]
  },
  {
   "cell_type": "code",
   "execution_count": 6,
   "metadata": {},
   "outputs": [
    {
     "data": {
      "text/plain": [
       "-2.4940133291906363e-11"
      ]
     },
     "execution_count": 6,
     "metadata": {},
     "output_type": "execute_result"
    }
   ],
   "source": [
    "### Check market clearing\n",
    "Excess_loan_demand = model.Total_loan_func(i, z, τ) - model.Total_deposit_func(i, z, τ)\n",
    "Excess_loan_demand"
   ]
  },
  {
   "cell_type": "code",
   "execution_count": 7,
   "metadata": {},
   "outputs": [
    {
     "name": "stdout",
     "output_type": "stream",
     "text": [
      "0.0005993212204571767\n"
     ]
    }
   ],
   "source": [
    "### Check i_star vs. i_policy\n",
    "print(i - model.i_policy(τ) )"
   ]
  },
  {
   "cell_type": "code",
   "execution_count": 8,
   "metadata": {},
   "outputs": [
    {
     "name": "stdout",
     "output_type": "stream",
     "text": [
      "0.6\n",
      "0.0185\n",
      "0.6\n",
      "0.0185\n",
      "0.6\n",
      "0.0185\n",
      "0.6000000089406967\n",
      "0.0185\n",
      "0.6\n",
      "0.01850000027567148\n",
      "0.7856339602240336\n",
      "0.02077248921538509\n",
      "0.7874458428357222\n",
      "0.020585592340768084\n",
      "0.7874414699564983\n",
      "0.020591055885938233\n",
      "0.7874419043219499\n",
      "0.020591155080536317\n",
      "0.7874419043219499 0.020591155080536317 155.38158798217773\n"
     ]
    }
   ],
   "source": [
    "### Check where different initial guesses will give the same answer\n",
    "\n",
    "z_guess1 = 0.6\n",
    "i_guess1 = 0.0185\n",
    "τ = 0.0\n",
    "\n",
    "tic = time.time()\n",
    "z, i = model.solve_z_i(z_guess1, i_guess1, τ) # system of two equations given zero inflation\n",
    "toc = time.time() - tic\n",
    "print(z, i, toc)"
   ]
  },
  {
   "cell_type": "markdown",
   "metadata": {},
   "source": [
    "* Different initial guess still give the same answer\n",
    "* Loan market clears\n",
    "* Equilibrium (market) loan rate is higher than the BCW case ($i=(1+\\tau-\\beta)/\\beta)$"
   ]
  },
  {
   "cell_type": "markdown",
   "metadata": {},
   "source": [
    "### Example 0: continues\n",
    "\n",
    "* Solve system of two equations, given $\\tau=0.05$"
   ]
  },
  {
   "cell_type": "code",
   "execution_count": 9,
   "metadata": {},
   "outputs": [
    {
     "name": "stdout",
     "output_type": "stream",
     "text": [
      "0.5\n",
      "0.01\n",
      "0.5\n",
      "0.01\n",
      "0.5\n",
      "0.01\n",
      "0.5000000074505806\n",
      "0.01\n",
      "0.5\n",
      "0.010000000149011612\n",
      "0.5978776405950581\n",
      "0.1268061581667174\n",
      "0.6624639941907465\n",
      "0.11008498473932582\n",
      "0.7069901909251923\n",
      "0.0758166186561306\n",
      "0.7060797213858675\n",
      "0.07398787841653238\n",
      "0.7059975833375991\n",
      "0.07390229166157836\n",
      "0.7059973319741557\n",
      "0.07390067504555507\n",
      "0.7059973319741557 0.07390067504555507 192.97172808647156\n"
     ]
    }
   ],
   "source": [
    "τ_1 = 0.05\n",
    "\n",
    "tic = time.time()\n",
    "z_1, i_1 = model.solve_z_i(z_guess, i_guess, τ_1) \n",
    "toc = time.time() - tic\n",
    "print(z_1, i_1, toc)"
   ]
  },
  {
   "cell_type": "code",
   "execution_count": 10,
   "metadata": {},
   "outputs": [
    {
     "data": {
      "text/plain": [
       "8.881973488639172e-08"
      ]
     },
     "execution_count": 10,
     "metadata": {},
     "output_type": "execute_result"
    }
   ],
   "source": [
    "\n",
    "### Check market clearing\n",
    "Excess_loan_demand = model.Total_loan_func(i_1, z_1, τ_1) - model.Total_deposit_func(i_1, z_1, τ_1)\n",
    "Excess_loan_demand"
   ]
  },
  {
   "cell_type": "code",
   "execution_count": 11,
   "metadata": {},
   "outputs": [],
   "source": [
    "ρ_grid = np.linspace(model.ρ_min_func(z, i, τ), model.ρ_max_func(z,i), 1000)\n",
    "ρ_grid1 = np.linspace(model.ρ_min_func(z_1, i_1, τ_1), model.ρ_max_func(z_1,i_1), 1000)"
   ]
  },
  {
   "cell_type": "code",
   "execution_count": 12,
   "metadata": {},
   "outputs": [],
   "source": [
    "ξ = [model.ξ_demand_func(ρ, i, z) for ρ in ρ_grid]\n",
    "ξ1 = [model.ξ_demand_func(ρ, i_1, z_1) for ρ in ρ_grid1]"
   ]
  },
  {
   "cell_type": "code",
   "execution_count": 13,
   "metadata": {},
   "outputs": [],
   "source": [
    "ρq = [model.q_expenditure(ρ, i, z) for ρ in ρ_grid]\n",
    "ρq1 = [model.q_expenditure(ρ, i_1, z_1) for ρ in ρ_grid1]"
   ]
  },
  {
   "cell_type": "code",
   "execution_count": 14,
   "metadata": {},
   "outputs": [],
   "source": [
    "F = [model.F_func(ρ, i, z,τ) for ρ in ρ_grid]\n",
    "F1 = [model.F_func(ρ, i_1, z_1,τ_1) for ρ in ρ_grid1]"
   ]
  },
  {
   "cell_type": "code",
   "execution_count": 15,
   "metadata": {},
   "outputs": [
    {
     "data": {
      "image/png": "[encoded data removed]",
      "text/plain": [
       "<Figure size 900x500 with 1 Axes>"
      ]
     },
     "metadata": {},
     "output_type": "display_data"
    }
   ],
   "source": [
    "#plt.style.use(style='default')\n",
    "plt.figure(facecolor='white', figsize=(9,5))\n",
    "plt.plot(ρ_grid, ρq, color='blue', label=r\"$\\tau=0\\%$\")\n",
    "plt.axvline(model.ρ_min_func(z, i, τ), linestyle='--', color='red')\n",
    "plt.axvline(model.ρ_tilde_func(z, i), linestyle='--', color='red')\n",
    "#plt.text(1.12, 0.6, r\"$\\tilde{\\rho}_{i}(\\tau)$\",color='red')\n",
    "plt.axvline(model.ρ_hat_func(z), linestyle='--', color='red')\n",
    "#plt.text(1.185, 0.6, r\"$\\hat{\\rho}(\\tau)$\",color='red')\n",
    "### inflation at 5%\n",
    "plt.plot(ρ_grid1, ρq1, '-.', color='black', label=r\"$\\tau_{1}=5\\%$\")\n",
    "plt.axvline(model.ρ_min_func(z_1, i_1, τ_1), linestyle='--', color='green')\n",
    "plt.axvline(model.ρ_tilde_func(z_1, i_1), linestyle='--', color='green')\n",
    "#plt.text(1.15, 0.45, r\"$\\tilde{\\rho}_{i}(\\tau_{1})$\",color='green')\n",
    "plt.axvline(model.ρ_hat_func(z_1), linestyle='--', color='green')\n",
    "#plt.text(1.31, 0.45, r\"$\\hat{\\rho}(\\tau_{1})$\",color='green')\n",
    "plt.ylabel('Expenditure')\n",
    "plt.xlabel('ρ')\n",
    "plt.legend()\n",
    "plt.savefig(\"dm_expenditure.png\", bbox_inches='tight', pad_inches=0.05)\n",
    "plt.show()\n",
    "\n",
    "\n",
    "#tikzplotlib.save(\"dm_expenditure.tex\")\n",
    "#tikzplotlib.save(\"dm_expenditure.pgf\")\n"
   ]
  },
  {
   "cell_type": "code",
   "execution_count": 16,
   "metadata": {},
   "outputs": [
    {
     "data": {
      "image/png": "[encoded data removed]",
      "text/plain": [
       "<Figure size 900x500 with 1 Axes>"
      ]
     },
     "metadata": {},
     "output_type": "display_data"
    }
   ],
   "source": [
    "#plt.style.use(style='default')\n",
    "plt.figure(facecolor='white', figsize=(9,5))\n",
    "plt.plot(ρ_grid, ξ, color='blue', label=r\"$\\tau=0\\%$\")\n",
    "plt.axvline(model.ρ_min_func(z, i, τ), linestyle='--', color='red')\n",
    "plt.axvline(model.ρ_tilde_func(z, i), linestyle='--', color='red')\n",
    "#plt.text(1.125, 0.08, r\"$\\tilde{\\rho}_{i}(\\tau)$\",color='red')\n",
    "plt.plot(ρ_grid1, ξ1, '-.', color='black', label=r\"$\\tau_{1}=5\\%$\")\n",
    "plt.axvline(model.ρ_min_func(z_1, i_1, τ_1), linestyle='--', color='green')\n",
    "plt.axvline(model.ρ_tilde_func(z_1, i_1), linestyle='--', color='green')\n",
    "#plt.text(1.18, 0.1, r\"$\\tilde{\\rho}_{i}(\\tau_{1})$\",color='green')\n",
    "plt.ylabel('Loan demand')\n",
    "plt.xlabel('ρ')\n",
    "plt.legend()\n",
    "plt.savefig(\"dm_loan.png\", bbox_inches='tight', pad_inches=0.05)\n",
    "plt.show()\n",
    "\n",
    "\n",
    "#tikzplotlib.save(\"dm_loan.tex\")\n",
    "#tikzplotlib.save(\"dm_loan.pgf\")"
   ]
  },
  {
   "cell_type": "code",
   "execution_count": 17,
   "metadata": {
    "scrolled": true
   },
   "outputs": [
    {
     "data": {
      "image/png": "[encoded data removed]",
      "text/plain": [
       "<Figure size 900x500 with 1 Axes>"
      ]
     },
     "metadata": {},
     "output_type": "display_data"
    }
   ],
   "source": [
    "#plt.style.use(style='default')\n",
    "plt.figure(facecolor='white', figsize=(9,5))\n",
    "plt.plot(ρ_grid, F, color='blue', label=r\"$\\tau=0\\%$\")\n",
    "plt.axvline(model.ρ_min_func(z, i, τ), linestyle='--', color='red')\n",
    "plt.plot(ρ_grid1, F1, '-.', color='black', label=r\"$\\tau_{1}=5\\%$\")\n",
    "plt.axvline(model.ρ_min_func(z_1, i_1, τ_1), linestyle='--', color='green')\n",
    "plt.ylabel(\"$CDF$\")\n",
    "plt.xlabel(\"ρ\")\n",
    "plt.legend()\n",
    "plt.savefig(\"cdf.png\", bbox_inches='tight', pad_inches=0.05)\n",
    "plt.show()\n",
    "\n",
    "\n",
    "#tikzplotlib.save(\"cdf.tex\")\n",
    "#tikzplotlib.save(\"cdf.pgf\")"
   ]
  },
  {
   "cell_type": "markdown",
   "metadata": {},
   "source": [
    "### Example 1: Baseline vs. HLMW given $\\tau = 0$\n"
   ]
  },
  {
   "cell_type": "code",
   "execution_count": 18,
   "metadata": {},
   "outputs": [
    {
     "data": {
      "text/plain": [
       "(0.7874419043219499, 0.020591155080536317)"
      ]
     },
     "execution_count": 18,
     "metadata": {},
     "output_type": "execute_result"
    }
   ],
   "source": [
    "# Recall: baseline z and i, given τ = 0.0\n",
    "z,i"
   ]
  },
  {
   "cell_type": "code",
   "execution_count": 19,
   "metadata": {},
   "outputs": [
    {
     "data": {
      "text/plain": [
       "0.8818431766668812"
      ]
     },
     "execution_count": 19,
     "metadata": {},
     "output_type": "execute_result"
    }
   ],
   "source": [
    "z_hlmw = model_hlmw.z_solver(τ)\n",
    "z_hlmw"
   ]
  },
  {
   "cell_type": "code",
   "execution_count": 20,
   "metadata": {},
   "outputs": [],
   "source": [
    "ρ_grid_hlmw = np.linspace(model_hlmw.ρ_min_func(z_hlmw, τ), model_hlmw.ρ_max_func(z_hlmw), 1000)\n",
    "\n",
    "ρq_hlmw = [model_hlmw.q_expenditure(ρ, z_hlmw) for ρ in ρ_grid_hlmw]\n",
    "F_hlmw = [model_hlmw.F_func(ρ, z_hlmw) for ρ in ρ_grid_hlmw]\n"
   ]
  },
  {
   "cell_type": "code",
   "execution_count": 21,
   "metadata": {},
   "outputs": [
    {
     "data": {
      "image/png": "[encoded data removed]",
      "text/plain": [
       "<Figure size 640x480 with 1 Axes>"
      ]
     },
     "metadata": {},
     "output_type": "display_data"
    }
   ],
   "source": [
    "#plt.style.use(style='default')\n",
    "plt.figure(facecolor='white')\n",
    "plt.plot(ρ_grid, ρq, color='blue', label=\"Baseline:\" r\"$\\tau=0\\%$\")\n",
    "#plt.axvline(model.ρ_min_func(z, i, τ), linestyle='--', color='blue')\n",
    "plt.axvline(model.ρ_tilde_func(z, i), linestyle='--', color='blue')\n",
    "plt.text(1.16, 0.5, r\"$\\tilde{\\rho}_{i}$\",color='blue')\n",
    "plt.axvline(model.ρ_hat_func(z), linestyle='--', color='blue')\n",
    "plt.text(1.19, 0.5, r\"$\\hat{\\rho}$\", color='blue')\n",
    "plt.plot(ρ_grid_hlmw, ρq_hlmw, '-.', color='red', label=\"HLMW:\" r\"$\\tau=0\\%$\")\n",
    "#plt.axvline(model_hlmw.ρ_min_func(z_hlmw, τ), linestyle='--', color='orange')\n",
    "plt.axvline(model_hlmw.ρ_hat_func(z_hlmw), linestyle='--', color='red')\n",
    "plt.text(1.08, 0.5, r\"$\\hat{\\rho}_{HLMW}$\", color='red')\n",
    "plt.ylabel('Expenditure')\n",
    "plt.xlabel('ρ')\n",
    "plt.legend()\n",
    "plt.savefig(\"klln_hlmw_expenditure.png\", bbox_inches='tight', pad_inches=0.05)\n",
    "plt.show()\n",
    "\n",
    "\n",
    "#tikzplotlib.save(\"klln_hlmw_expenditure.tex\")\n",
    "#tikzplotlib.save(\"klln_hlmw_expenditure.pgf\")\n"
   ]
  },
  {
   "cell_type": "code",
   "execution_count": 22,
   "metadata": {},
   "outputs": [
    {
     "data": {
      "image/png": "[encoded data removed]",
      "text/plain": [
       "<Figure size 640x480 with 1 Axes>"
      ]
     },
     "metadata": {},
     "output_type": "display_data"
    }
   ],
   "source": [
    "#plt.style.use(style='default')\n",
    "plt.figure(facecolor='white')\n",
    "plt.plot(ρ_grid, F, color='blue', label=\"Baseline:\" r\"$\\tau=0\\%$\")\n",
    "plt.axvline(model.ρ_min_func(z, i, τ), linestyle='--', color='blue')\n",
    "plt.plot(ρ_grid_hlmw, F_hlmw, '-.', color='red', label=\"HLMW:\" r\"$\\tau=0\\%$\")\n",
    "plt.axvline(model_hlmw.ρ_min_func(z_hlmw, τ), linestyle='--', color='red')\n",
    "\n",
    "plt.axvline(model.ρ_tilde_func(z, i), linestyle='--', color='blue')\n",
    "plt.text(1.16, 0.0, r\"$\\tilde{\\rho}_{i}$\",color='blue')\n",
    "plt.axvline(model.ρ_hat_func(z), linestyle='--', color='blue')\n",
    "plt.text(1.19, 0.0, r\"$\\hat{\\rho}$\", color='blue')\n",
    "\n",
    "#plt.axvline(model_hlmw.ρ_min_func(z_hlmw, τ), linestyle='--', color='orange')\n",
    "plt.axvline(model_hlmw.ρ_hat_func(z_hlmw), linestyle='--', color='red')\n",
    "plt.text(1.08, 0.0, r\"$\\hat{\\rho}_{HLMW}$\", color='red')\n",
    "\n",
    "plt.ylabel(r\"$CDF$\")\n",
    "plt.xlabel(\"ρ\")\n",
    "plt.legend()\n",
    "plt.savefig(\"klln_hlmw_cdf.png\", bbox_inches='tight', pad_inches=0.05)\n",
    "plt.show()"
   ]
  },
  {
   "cell_type": "markdown",
   "metadata": {},
   "source": [
    "### SME: HLMW + perfectly competitive banks (Baseline)\n",
    "\n",
    "* Vary $\\tau \\in [\\beta-1, 0.1]$"
   ]
  },
  {
   "cell_type": "code",
   "execution_count": null,
   "metadata": {},
   "outputs": [
    {
     "name": "stdout",
     "output_type": "stream",
     "text": [
      "-0.01959999999999995\n",
      "0.4\n",
      "0.01\n",
      "0.4\n",
      "0.01\n",
      "0.4\n",
      "0.01\n",
      "0.4000000059604645\n",
      "0.01\n",
      "0.4\n",
      "0.010000000149011612\n",
      "0.694035581892319\n",
      "0.07986168746755735\n",
      "0.8411495359123917\n",
      "-0.009378263112213098\n",
      "0.9625603397546444\n",
      "-0.0886723887013596\n",
      "0.9866467418915937\n",
      "-0.06205254974289675\n",
      "1.0019638068166627\n",
      "-0.09295771080203558\n",
      "0.9999746234458748\n",
      "-0.08341703639351239\n",
      "1.0000024173814444\n",
      "-0.08396185698156852\n",
      "1.00000013901927\n",
      "-0.08401931016899815\n",
      "1.0000000036507162\n",
      "-0.08401925050695708\n",
      "-0.016311111111111068\n",
      "0.4\n",
      "0.01\n",
      "0.4\n",
      "0.01\n",
      "0.4\n",
      "0.01\n",
      "0.4000000059604645\n",
      "0.01\n",
      "0.4\n",
      "0.010000000149011612\n",
      "0.8159606039385587\n",
      "0.0034185798706546358\n",
      "0.8158655017295291\n",
      "0.0034265905420996093\n",
      "0.8158647303110984\n",
      "0.0034264196009129912\n",
      "-0.013022222222222183\n",
      "0.4\n",
      "0.01\n",
      "0.4\n",
      "0.01\n",
      "0.4\n",
      "0.01\n",
      "0.4000000059604645\n",
      "0.01\n",
      "0.4\n",
      "0.010000000149011612\n",
      "0.8105080544680334\n",
      "0.00683715481825415\n",
      "0.8100990277657105\n",
      "0.006864994707466077\n",
      "0.8100874132293558\n",
      "0.006868483129821628\n",
      "0.810087426529215\n",
      "0.006868368213640635\n"
     ]
    }
   ],
   "source": [
    "z_guess = 0.4\n",
    "i_guess = 0.01\n",
    "result = model.SME_stat(z_guess, i_guess) # this uses fsolve"
   ]
  },
  {
   "cell_type": "code",
   "execution_count": null,
   "metadata": {},
   "outputs": [],
   "source": [
    "z = result['allocation_grid']['zstar']\n",
    "q = result['allocation_grid']['qstar']\n",
    "ξ = result['allocation_grid']['ξstar']\n",
    "i = result['allocation_grid']['istar']\n",
    "DM_surplus = result['allocation_grid']['DM_surplus']\n",
    "W = result['allocation_grid']['w_star']\n",
    "W_BCW = result['allocation_grid']['w_bcw']\n",
    "\n",
    "mpy = result['stat_grid']['mpy_star']\n",
    "markup = result['stat_grid']['markup_mean']\n",
    "markup_cv = result['stat_grid']['markup_cv']\n",
    "loan_gdp = result['stat_grid']['credit_gdp']\n",
    "loan_gdp_bcw = result['stat_grid']['credit_gdp_bcw']"
   ]
  },
  {
   "cell_type": "markdown",
   "metadata": {},
   "source": [
    "### HLMW: without banks"
   ]
  },
  {
   "cell_type": "code",
   "execution_count": null,
   "metadata": {},
   "outputs": [],
   "source": [
    "result_hlmw = model_hlmw.SME_stat() # this uses brentq only"
   ]
  },
  {
   "cell_type": "code",
   "execution_count": null,
   "metadata": {},
   "outputs": [],
   "source": [
    "z_hlmw = result_hlmw['allocation_grid']['zstar']\n",
    "q_hlmw = result_hlmw['allocation_grid']['qstar']\n",
    "W_hlmw = result_hlmw['allocation_grid']['w_star']\n",
    "DM_surplus_hlmw = result_hlmw['allocation_grid']['DM_surplus']\n",
    "\n",
    "mpy_hlmw = result_hlmw['stat_grid']['mpy_star']\n",
    "markup_hlmw = result_hlmw['stat_grid']['markup_mean']\n",
    "markup_cv_hlmw = result_hlmw['stat_grid']['markup_cv']"
   ]
  },
  {
   "cell_type": "code",
   "execution_count": null,
   "metadata": {},
   "outputs": [],
   "source": [
    "τ_grid = model.τ_grid # inflation rate grid\n",
    "i_grid = model.i_policy(τ_grid)"
   ]
  },
  {
   "cell_type": "code",
   "execution_count": null,
   "metadata": {},
   "outputs": [],
   "source": [
    "font = {'family' : 'serif','weight':'normal',\n",
    "        'size'   : 10}\n",
    "plt.rc('font', **font)"
   ]
  },
  {
   "cell_type": "markdown",
   "metadata": {},
   "source": [
    "### Difference welfare\n",
    "\n",
    "* Comparision 1: $DW_{1}:= W_{Baseline} - W_{HLMW}$\n",
    "    * Baseline economy: Price dispersion + perfectly competitive banks \n",
    "    * HLMW: Price dispersion\n",
    "    * This shows the welfare gains/losses by isolating effects of **banking** only\n",
    "    \n",
    "    \n",
    "* Comparision 2: $DW_{2}:= W_{BCW} -  W_{Baseline}$\n",
    "    * Baseline economy: Price dispersion + perfectly competitive banks \n",
    "    * BCW: Competitive pricing + perfectly competitive banks\n",
    "    * This shows the welfare gains/losses by isolating effects of **price dispersion** only\n",
    "    \n",
    "    \n",
    "* Comparision 3: $DW_{3}:= W_{BCW} - W_{HLMW}$\n",
    "    * HLMW: Price dispersion\n",
    "    * BCW: Competitive pricing + perfectly competitive banks\n",
    "    * This shows the welfare gains/losses by having both effects of **price dispersion** and **banking**"
   ]
  },
  {
   "cell_type": "code",
   "execution_count": null,
   "metadata": {},
   "outputs": [],
   "source": [
    "DW = W - W_hlmw # Baseline vs. HLMW\n",
    "DW_2 = W_BCW - W # BCW vs. Baseline\n",
    "DW_3 = W_BCW - W_hlmw # BCW vs. HLMW"
   ]
  },
  {
   "cell_type": "code",
   "execution_count": null,
   "metadata": {},
   "outputs": [],
   "source": [
    "#plt.style.use(style='default')\n",
    "plt.figure(facecolor='white')\n",
    "plt.plot(i_grid*100, DW, label='Baseline vs. HLMW',color='r')\n",
    "plt.axhline(y=0,color=\"black\", linestyle='--',linewidth=1.0)\n",
    "plt.ylabel(\"DW\")\n",
    "plt.xlabel(\"Nominal interest rate (%)\")\n",
    "plt.legend()\n",
    "plt.savefig(\"DW.png\")\n",
    "plt.show()\n",
    "\n",
    "\n",
    "#tikzplotlib.save(\"DW.tex\")\n",
    "#tikzplotlib.save(\"DW.pgf\")"
   ]
  },
  {
   "cell_type": "code",
   "execution_count": null,
   "metadata": {},
   "outputs": [],
   "source": []
  },
  {
   "cell_type": "code",
   "execution_count": null,
   "metadata": {},
   "outputs": [],
   "source": [
    "plt.rcParams['font.family'] = 'serif'"
   ]
  },
  {
   "cell_type": "code",
   "execution_count": null,
   "metadata": {},
   "outputs": [],
   "source": [
    "#plt.style.use(style='default')\n",
    "plt.figure(facecolor='white')\n",
    "plt.plot(i_grid*100, DW, color='blue', label='Baseline vs. HLMW')\n",
    "plt.plot(i_grid*100, DW_2, '--', color='green', label='BCW vs. Baseline')\n",
    "plt.plot(i_grid*100, DW_3, '--.', color='orange', label='BCW vs. HLMW')\n",
    "#plt.plot(i_grid*100, np.zeros(DW.size))\n",
    "plt.axhline(y=0,color=\"black\", linestyle='--',linewidth=1.0)\n",
    "plt.ylabel(\"$DW$\")\n",
    "plt.xlabel(\"Nominal interest rate (%)\")\n",
    "plt.legend()\n",
    "plt.savefig(\"dw_all.png\")\n",
    "\n",
    "plt.show()"
   ]
  },
  {
   "cell_type": "code",
   "execution_count": null,
   "metadata": {},
   "outputs": [],
   "source": []
  },
  {
   "cell_type": "code",
   "execution_count": null,
   "metadata": {},
   "outputs": [],
   "source": [
    "def gap_percent_func(delta_W_bank, W_no_bank):\n",
    "    \"\"\"Use this function to calculate CEV\"\"\"\n",
    "    n_point = 60\n",
    "    delta = np.append(np.linspace(2, 1, round(n_point/2), endpoint=False), (np.linspace(1, 0.1, round(n_point/2))))\n",
    "    gap_welfare = delta_W_bank - W_no_bank\n",
    "    interp_fn = interpolate.interp1d(delta, gap_welfare, 'cubic')\n",
    "    interp_fn2 = lambda x: interp_fn(x) - 0.0\n",
    "    gap_delta = brentq(interp_fn2, delta.min(), delta.max())\n",
    "    cev = (1.0 - gap_delta) * 100\n",
    "    return cev"
   ]
  },
  {
   "cell_type": "code",
   "execution_count": null,
   "metadata": {},
   "outputs": [],
   "source": [
    "def calculate_cev_percent(τ, z_guess, i_guess, case='Case1'):\n",
    "    n_point = 60\n",
    "    delta = np.append(np.linspace(2, 1, round(n_point/2), endpoint=False), (np.linspace(1, 0.1, round(n_point/2))))\n",
    "\n",
    "    # klln\n",
    "    z, i = model.solve_z_i(z_guess, i_guess, τ)\n",
    "\n",
    "    # hlmw\n",
    "    z_hlmw = model_hlmw.z_solver(τ)\n",
    "    \n",
    "    # Welfare increases by delta\n",
    "    if case == 'Case1':\n",
    "        delta_klln = [model.welfare_func_delta(z, i, τ, k) for k in delta]\n",
    "            \n",
    "    elif case == 'Case2':\n",
    "        delta_bcw = [model.welfare_bcw_func_delta(τ, k) for k in delta]\n",
    "            \n",
    "    elif case == 'Case3':\n",
    "        delta_bcw = [model.welfare_bcw_func_delta(τ, k) for k in delta]\n",
    "\n",
    "    ### HLMW\n",
    "    welfare_hlmw = model_hlmw.welfare_func(z_hlmw, τ)\n",
    "    \n",
    "    ### Baseline\n",
    "    welfare_klln = model.welfare_func(z, i, τ)\n",
    "    \n",
    "    ### BCW\n",
    "    welfare_bcw = model.welfare_bcw_func(τ)\n",
    "    \n",
    "    if case == 'Case1':\n",
    "        cev_percent = gap_percent_func(delta_klln, welfare_hlmw)\n",
    "        \n",
    "    elif case == 'Case2':\n",
    "        cev_percent = gap_percent_func(delta_bcw, welfare_klln)\n",
    "        \n",
    "    elif case == 'Case3':\n",
    "        cev_percent = gap_percent_func(delta_bcw, welfare_hlmw)\n",
    "  \n",
    "\n",
    "    return cev_percent\n"
   ]
  },
  {
   "cell_type": "code",
   "execution_count": null,
   "metadata": {},
   "outputs": [],
   "source": []
  },
  {
   "cell_type": "code",
   "execution_count": null,
   "metadata": {},
   "outputs": [],
   "source": [
    "Case1_cev = [calculate_cev_percent(j, z_guess, i_guess, case='Case1') for j in τ_grid ]"
   ]
  },
  {
   "cell_type": "code",
   "execution_count": null,
   "metadata": {},
   "outputs": [],
   "source": [
    "Case2_cev = [calculate_cev_percent(j, z_guess, i_guess, case='Case2') for j in τ_grid ]"
   ]
  },
  {
   "cell_type": "code",
   "execution_count": null,
   "metadata": {},
   "outputs": [],
   "source": [
    "Case3_cev = [calculate_cev_percent(j, z_guess, i_guess, case='Case3') for j in τ_grid ]"
   ]
  },
  {
   "cell_type": "code",
   "execution_count": null,
   "metadata": {},
   "outputs": [],
   "source": [
    "\n",
    "plt.figure(facecolor='white')\n",
    "plt.plot(i_grid*100, Case1_cev, label='Baseline vs. HLMW',color='r')\n",
    "plt.axhline(y=0,color=\"black\", linestyle='--',linewidth=1.0)\n",
    "plt.ylabel(\"$CEV$\")\n",
    "plt.xlabel(\"Nominal interest rate (%)\")\n",
    "plt.legend()\n",
    "plt.savefig(\"cev.png\")\n",
    "plt.show()\n"
   ]
  },
  {
   "cell_type": "code",
   "execution_count": null,
   "metadata": {},
   "outputs": [],
   "source": []
  },
  {
   "cell_type": "code",
   "execution_count": null,
   "metadata": {},
   "outputs": [],
   "source": [
    "#plt.style.use(style='default')\n",
    "plt.figure(facecolor='white')\n",
    "plt.plot(i_grid*100, Case1_cev, color='blue', label='Baseline vs. HLMW')\n",
    "plt.plot(i_grid*100, Case2_cev, '--', color='green', label='BCW vs. Baseline')\n",
    "plt.plot(i_grid*100, Case3_cev, '--.', color='orange', label='BCW vs. HLMW')\n",
    "plt.plot(i_grid*100, np.zeros(τ_grid.size))\n",
    "plt.ylabel(\"$CEV$\")\n",
    "plt.xlabel(\"Nominal interest rate (%)\")\n",
    "plt.legend()\n",
    "plt.savefig(\"cev_all.png\")\n",
    "plt.show()"
   ]
  },
  {
   "cell_type": "code",
   "execution_count": null,
   "metadata": {},
   "outputs": [],
   "source": []
  },
  {
   "cell_type": "code",
   "execution_count": null,
   "metadata": {},
   "outputs": [],
   "source": [
    "#plt.style.use(style='default')\n",
    "plt.figure(facecolor='white')\n",
    "plt.plot(i_grid[1:]*100, markup[1:], color='blue', label='Baseline') #exclude FR\n",
    "plt.plot(i_grid[1:]*100, markup_hlmw[1:], '-.', color='red', label='HLMW') #exclude FR\n",
    "plt.ylabel(r'$μ$')\n",
    "plt.xlabel(\"Nominal interest rate (%)\")\n",
    "plt.legend()\n",
    "#plt.yticks(np.arange(1.15,1.41, 0.05))\n",
    "#plt.xlim(-0.5,10)\n",
    "plt.savefig(\"markup.png\", bbox_inches='tight', pad_inches=0.05)\n",
    "plt.show()\n",
    "\n",
    "\n",
    "#tikzplotlib.save(\"markup.tex\")\n",
    "#tikzplotlib.save(\"markup.pgf\")"
   ]
  },
  {
   "cell_type": "code",
   "execution_count": null,
   "metadata": {},
   "outputs": [],
   "source": [
    "#plt.style.use(style='default')\n",
    "plt.figure(facecolor='white')\n",
    "plt.plot(i_grid[1:]*100, z[1:], color='blue', label='Baseline') #exclude FR\n",
    "plt.plot(i_grid[1:]*100, z_hlmw[1:], '-.', color='red', label='HLMW') #exclude FR\n",
    "plt.ylabel(r'$μ$')\n",
    "plt.xlabel(\"Nominal interest rate (%)\")\n",
    "plt.legend()\n",
    "#plt.yticks(np.arange(1.15,1.41, 0.05))\n",
    "#plt.xlim(-0.5,10)\n",
    "plt.savefig(\"real_balance.png\", bbox_inches='tight', pad_inches=0.05)\n",
    "plt.show()"
   ]
  },
  {
   "cell_type": "code",
   "execution_count": null,
   "metadata": {},
   "outputs": [],
   "source": [
    "#plt.style.use(style='default')\n",
    "plt.figure(facecolor='white')\n",
    "plt.plot(i_grid[1:]*100, q[1:], color='blue', label='Baseline') #exclude FR\n",
    "plt.plot(i_grid[1:]*100, q_hlmw[1:], '-.', color='red', label='HLMW') #exclude FR\n",
    "plt.ylabel(r'$μ$')\n",
    "plt.xlabel(\"Nominal interest rate (%)\")\n",
    "plt.legend()\n",
    "#plt.yticks(np.arange(1.15,1.41, 0.05))\n",
    "#plt.xlim(-0.5,10)\n",
    "plt.savefig(\"DM_good.png\", bbox_inches='tight', pad_inches=0.05)\n",
    "plt.show()"
   ]
  },
  {
   "cell_type": "code",
   "execution_count": null,
   "metadata": {},
   "outputs": [],
   "source": [
    "#plt.style.use(style='default')\n",
    "plt.figure(facecolor='white')\n",
    "plt.plot(i_grid[1:]*100, markup_cv[1:], color='blue', label='Baseline') #exclude FR\n",
    "plt.plot(i_grid[1:]*100, markup_cv_hlmw[1:], '-.', color='red', label='HLMW') #exclude FR\n",
    "plt.ylabel(r'$CV_{μ}$')\n",
    "plt.xlabel(\"Nominal interest rate (%)\")\n",
    "plt.legend()\n",
    "#plt.xlim(-0.5,10)\n",
    "plt.savefig(\"markup_cv.png\", bbox_inches='tight', pad_inches=0.05)\n",
    "plt.show()\n",
    "\n",
    "\n",
    "#tikzplotlib.save(\"markup_cv.tex\")\n",
    "#tikzplotlib.save(\"markup_cv.pgf\")"
   ]
  },
  {
   "cell_type": "code",
   "execution_count": null,
   "metadata": {},
   "outputs": [],
   "source": []
  },
  {
   "cell_type": "code",
   "execution_count": null,
   "metadata": {},
   "outputs": [],
   "source": [
    "#plt.style.use(style='default')\n",
    "plt.figure(facecolor='white')\n",
    "plt.plot(i_grid[1:]*100, loan_gdp[1:], color='blue', label='Baseline') #exclude FR\n",
    "plt.plot(i_grid[1:]*100, loan_gdp_bcw[1:], '--.', color='orange', label='BCW') #exclude FR\n",
    "plt.ylabel('Loan-to-GDP')\n",
    "plt.xlabel(\"Nominal interest rate (%)\")\n",
    "plt.legend()\n",
    "plt.savefig(\"loan_gdp.png\", bbox_inches='tight', pad_inches=0)\n",
    "plt.show()\n",
    "\n",
    "\n",
    "#tikzplotlib.save(\"loan_gdp.tex\")\n",
    "#tikzplotlib.save(\"loan_gdp.pgf\")"
   ]
  },
  {
   "cell_type": "code",
   "execution_count": null,
   "metadata": {},
   "outputs": [],
   "source": []
  },
  {
   "cell_type": "code",
   "execution_count": null,
   "metadata": {},
   "outputs": [],
   "source": [
    "##### ZOOM-IN\n",
    "\n",
    "##### plt.style.use(style='default')\n",
    "plt.figure(facecolor='white')\n",
    "# Initialize a flag to indicate when the label has been added\n",
    "label_added_red = False\n",
    "label_added_blue = False\n",
    "\n",
    "for i in range(1, len(i_grid[0:60])):\n",
    "    if Case1_cev[i-1] <= 0 and Case1_cev[i] > 0 or Case1_cev[i-1] > 0 and Case1_cev[i] > 0:\n",
    "        # This segment is positive, plot in blue\n",
    "        if not label_added_blue:\n",
    "            plt.plot(i_grid[i-1:i+1]*100, Case1_cev[i-1:i+1], color='blue', linestyle=':', label='Baseline vs. HLMW')\n",
    "            label_added_blue = True\n",
    "        else:\n",
    "            plt.plot(i_grid[i-1:i+1]*100, Case1_cev[i-1:i+1], color='blue', linestyle=':')\n",
    "    else:\n",
    "        # This segment is not positive, plot in dark red\n",
    "        if not label_added_red:\n",
    "            plt.plot(i_grid[i-1:i+1]*100, Case1_cev[i-1:i+1], color='darkred', linestyle=':')\n",
    "            label_added_red = True\n",
    "        else:\n",
    "            plt.plot(i_grid[i-1:i+1]*100, Case1_cev[i-1:i+1], color='darkred', linestyle=':')\n",
    "\n",
    "\n",
    "#plt.plot(i_grid[0:10]*100, np.zeros(τ_grid[0:30].size))\n",
    "plt.ylabel(\"$CEV$\")\n",
    "plt.xlabel(\"Nominal interest rate (%)\")\n",
    "plt.legend()\n",
    "plt.axhline(y=0,color=\"black\", linestyle='--',linewidth=1.0)\n",
    "plt.fill_between(i_grid[0:60]*100, Case1_cev[0:60], where=(np.array(Case1_cev)[0:60] <= 0), color='peachpuff', alpha=0.1, interpolate=True)\n",
    "plt.fill_between(i_grid[0:60]*100, Case1_cev[0:60], where=(np.array(Case1_cev)[0:60] >= 0), color='#B0E0E6', alpha=0.1, interpolate=True)\n",
    "plt.text(0.3, -0.007, 'Negative(-)',size=10,color='red')\n",
    "plt.text(2.7, 0.01, 'Positive(+)',size=10,color='blue')\n",
    "#plt.ylim(-0.01,0.04)\n",
    "plt.savefig(\"cev_zoom_in.png\", bbox_inches='tight', pad_inches=0.05)\n",
    "plt.show()"
   ]
  },
  {
   "cell_type": "code",
   "execution_count": null,
   "metadata": {},
   "outputs": [],
   "source": []
  },
  {
   "cell_type": "code",
   "execution_count": null,
   "metadata": {},
   "outputs": [],
   "source": []
  },
  {
   "cell_type": "code",
   "execution_count": null,
   "metadata": {},
   "outputs": [],
   "source": []
  },
  {
   "cell_type": "code",
   "execution_count": null,
   "metadata": {},
   "outputs": [],
   "source": []
  }
 ],
 "metadata": {
  "kernelspec": {
   "display_name": "Python 3 (ipykernel)",
   "language": "python",
   "name": "python3"
  },
  "language_info": {
   "codemirror_mode": {
    "name": "ipython",
    "version": 3
   },
   "file_extension": ".py",
   "mimetype": "text/x-python",
   "name": "python",
   "nbconvert_exporter": "python",
   "pygments_lexer": "ipython3",
   "version": "3.11.7"
  }
 },
 "nbformat": 4,
 "nbformat_minor": 4
}
